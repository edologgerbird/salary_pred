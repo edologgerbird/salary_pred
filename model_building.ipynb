{
 "metadata": {
  "language_info": {
   "codemirror_mode": {
    "name": "ipython",
    "version": 3
   },
   "file_extension": ".py",
   "mimetype": "text/x-python",
   "name": "python",
   "nbconvert_exporter": "python",
   "pygments_lexer": "ipython3",
   "version": "3.9.5"
  },
  "orig_nbformat": 2,
  "kernelspec": {
   "name": "python395jvsc74a57bd09c6bdcf356e3596871587ac993f00432123db66f2a0825ddef4b2f0e6b7efa9f",
   "display_name": "Python 3.9.5 64-bit"
  },
  "metadata": {
   "interpreter": {
    "hash": "9c6bdcf356e3596871587ac993f00432123db66f2a0825ddef4b2f0e6b7efa9f"
   }
  }
 },
 "nbformat": 4,
 "nbformat_minor": 2,
 "cells": [
  {
   "source": [
    "# Model Building\n",
    "\n",
    "1. Train-test split\n",
    "\n",
    "2. Multiple Linear Regression\n",
    "\n",
    "3. Lasso Regression\n",
    "\n",
    "4. Random Forest Regression\n",
    "\n",
    "5. Gradient Boosting Regression\n",
    "\n",
    "6. Bagging Regression\n",
    "\n",
    "7. Tune models using GridsearchCV\n",
    "\n",
    "8. Test Ensembles\n"
   ],
   "cell_type": "markdown",
   "metadata": {}
  },
  {
   "cell_type": "code",
   "execution_count": 10,
   "metadata": {},
   "outputs": [],
   "source": [
    "import pandas as pd \n",
    "import matplotlib.pyplot as plt \n",
    "import numpy as np "
   ]
  },
  {
   "cell_type": "code",
   "execution_count": 11,
   "metadata": {},
   "outputs": [],
   "source": [
    "df = pd.read_csv('jobs_keyword.csv')"
   ]
  },
  {
   "cell_type": "code",
   "execution_count": 12,
   "metadata": {},
   "outputs": [
    {
     "output_type": "execute_result",
     "data": {
      "text/plain": [
       "Index(['Unnamed: 0', 'Unnamed: 0.1', 'Unnamed: 0.1.1', 'company', 'job_title',\n",
       "       'listing_id', 'address', 'employment_type', 'seniority', 'min_exp',\n",
       "       'job_cat', 'salary_range', 'salary_unit', 'date_posted', 'date_expiry',\n",
       "       'job_description', 'avg_salary', 'aws', 'python', 'sql', 'r', 'tableau',\n",
       "       'excel', 'powerbi', 'spark', 'hadoop', 'tensorflow', 'job_desc_len'],\n",
       "      dtype='object')"
      ]
     },
     "metadata": {},
     "execution_count": 12
    }
   ],
   "source": [
    "df.columns"
   ]
  },
  {
   "source": [
    "Choosing relevant columns."
   ],
   "cell_type": "markdown",
   "metadata": {}
  },
  {
   "cell_type": "code",
   "execution_count": 13,
   "metadata": {},
   "outputs": [],
   "source": [
    "df_model = df[['job_title', 'employment_type', 'seniority', 'min_exp', 'job_cat', 'avg_salary', 'aws', 'python', 'sql', 'r', 'tableau',\n",
    "       'excel', 'powerbi', 'spark', 'hadoop', 'tensorflow', 'job_desc_len']]"
   ]
  },
  {
   "cell_type": "code",
   "execution_count": 14,
   "metadata": {},
   "outputs": [
    {
     "output_type": "execute_result",
     "data": {
      "text/plain": [
       "  job_title employment_type         seniority  min_exp  \\\n",
       "0   analyst       full time  Junior Executive        2   \n",
       "1   analyst       full time  Senior Executive        6   \n",
       "2   analyst       full time  Senior Executive        2   \n",
       "3   analyst       full time  Senior Executive        3   \n",
       "4   analyst       full time           Manager        5   \n",
       "\n",
       "                  job_cat  avg_salary  aws  python  sql  r  tableau  excel  \\\n",
       "0  information technology      6750.0    0       1    1  1        1      0   \n",
       "1  information technology      7900.0    1       1    1  0        0      0   \n",
       "2                  others      5750.0    0       0    0  0        0      1   \n",
       "3  information technology      7500.0    0       1    1  0        1      1   \n",
       "4     banking and finance     12000.0    0       1    1  1        1      0   \n",
       "\n",
       "   powerbi  spark  hadoop  tensorflow  job_desc_len  \n",
       "0        0      0       0           0          1626  \n",
       "1        1      0       1           0          1175  \n",
       "2        0      0       0           0          2590  \n",
       "3        1      0       0           0          2416  \n",
       "4        1      0       0           0          1790  "
      ],
      "text/html": "<div>\n<style scoped>\n    .dataframe tbody tr th:only-of-type {\n        vertical-align: middle;\n    }\n\n    .dataframe tbody tr th {\n        vertical-align: top;\n    }\n\n    .dataframe thead th {\n        text-align: right;\n    }\n</style>\n<table border=\"1\" class=\"dataframe\">\n  <thead>\n    <tr style=\"text-align: right;\">\n      <th></th>\n      <th>job_title</th>\n      <th>employment_type</th>\n      <th>seniority</th>\n      <th>min_exp</th>\n      <th>job_cat</th>\n      <th>avg_salary</th>\n      <th>aws</th>\n      <th>python</th>\n      <th>sql</th>\n      <th>r</th>\n      <th>tableau</th>\n      <th>excel</th>\n      <th>powerbi</th>\n      <th>spark</th>\n      <th>hadoop</th>\n      <th>tensorflow</th>\n      <th>job_desc_len</th>\n    </tr>\n  </thead>\n  <tbody>\n    <tr>\n      <th>0</th>\n      <td>analyst</td>\n      <td>full time</td>\n      <td>Junior Executive</td>\n      <td>2</td>\n      <td>information technology</td>\n      <td>6750.0</td>\n      <td>0</td>\n      <td>1</td>\n      <td>1</td>\n      <td>1</td>\n      <td>1</td>\n      <td>0</td>\n      <td>0</td>\n      <td>0</td>\n      <td>0</td>\n      <td>0</td>\n      <td>1626</td>\n    </tr>\n    <tr>\n      <th>1</th>\n      <td>analyst</td>\n      <td>full time</td>\n      <td>Senior Executive</td>\n      <td>6</td>\n      <td>information technology</td>\n      <td>7900.0</td>\n      <td>1</td>\n      <td>1</td>\n      <td>1</td>\n      <td>0</td>\n      <td>0</td>\n      <td>0</td>\n      <td>1</td>\n      <td>0</td>\n      <td>1</td>\n      <td>0</td>\n      <td>1175</td>\n    </tr>\n    <tr>\n      <th>2</th>\n      <td>analyst</td>\n      <td>full time</td>\n      <td>Senior Executive</td>\n      <td>2</td>\n      <td>others</td>\n      <td>5750.0</td>\n      <td>0</td>\n      <td>0</td>\n      <td>0</td>\n      <td>0</td>\n      <td>0</td>\n      <td>1</td>\n      <td>0</td>\n      <td>0</td>\n      <td>0</td>\n      <td>0</td>\n      <td>2590</td>\n    </tr>\n    <tr>\n      <th>3</th>\n      <td>analyst</td>\n      <td>full time</td>\n      <td>Senior Executive</td>\n      <td>3</td>\n      <td>information technology</td>\n      <td>7500.0</td>\n      <td>0</td>\n      <td>1</td>\n      <td>1</td>\n      <td>0</td>\n      <td>1</td>\n      <td>1</td>\n      <td>1</td>\n      <td>0</td>\n      <td>0</td>\n      <td>0</td>\n      <td>2416</td>\n    </tr>\n    <tr>\n      <th>4</th>\n      <td>analyst</td>\n      <td>full time</td>\n      <td>Manager</td>\n      <td>5</td>\n      <td>banking and finance</td>\n      <td>12000.0</td>\n      <td>0</td>\n      <td>1</td>\n      <td>1</td>\n      <td>1</td>\n      <td>1</td>\n      <td>0</td>\n      <td>1</td>\n      <td>0</td>\n      <td>0</td>\n      <td>0</td>\n      <td>1790</td>\n    </tr>\n  </tbody>\n</table>\n</div>"
     },
     "metadata": {},
     "execution_count": 14
    }
   ],
   "source": [
    "df_model.head()"
   ]
  },
  {
   "source": [
    "Converting categorical values to dummy variables"
   ],
   "cell_type": "markdown",
   "metadata": {}
  },
  {
   "cell_type": "code",
   "execution_count": 15,
   "metadata": {},
   "outputs": [],
   "source": [
    "df_dum = pd.get_dummies(df_model)"
   ]
  },
  {
   "cell_type": "code",
   "execution_count": 16,
   "metadata": {},
   "outputs": [
    {
     "output_type": "execute_result",
     "data": {
      "text/plain": [
       "Index(['min_exp', 'avg_salary', 'aws', 'python', 'sql', 'r', 'tableau',\n",
       "       'excel', 'powerbi', 'spark', 'hadoop', 'tensorflow', 'job_desc_len',\n",
       "       'job_title_analyst', 'job_title_consultant',\n",
       "       'job_title_data management', 'job_title_data scientist',\n",
       "       'job_title_developer', 'job_title_engineer', 'job_title_manager',\n",
       "       'job_title_others', 'job_title_trainee', 'employment_type_contract',\n",
       "       'employment_type_flexi-work', 'employment_type_full time',\n",
       "       'employment_type_internship/traineeship', 'employment_type_temporary',\n",
       "       'seniority_Executive', 'seniority_Fresh/entry level',\n",
       "       'seniority_Junior Executive', 'seniority_Manager',\n",
       "       'seniority_Middle Management', 'seniority_Non-executive',\n",
       "       'seniority_Professional', 'seniority_Senior Executive',\n",
       "       'seniority_Senior Management',\n",
       "       'job_cat_accounting / auditing / taxation',\n",
       "       'job_cat_admin / secretarial', 'job_cat_advertising / media',\n",
       "       'job_cat_banking and finance', 'job_cat_building and construction',\n",
       "       'job_cat_consulting', 'job_cat_customer service', 'job_cat_engineering',\n",
       "       'job_cat_general work', 'job_cat_healthcare / pharmaceutical',\n",
       "       'job_cat_human resources', 'job_cat_information technology',\n",
       "       'job_cat_insurance', 'job_cat_logistics / supply chain',\n",
       "       'job_cat_manufacturing', 'job_cat_marketing / public relations',\n",
       "       'job_cat_others', 'job_cat_public / civil service',\n",
       "       'job_cat_sciences / laboratory / r&d', 'job_cat_wholesale trade'],\n",
       "      dtype='object')"
      ]
     },
     "metadata": {},
     "execution_count": 16
    }
   ],
   "source": [
    "df_dum.columns"
   ]
  },
  {
   "source": [
    "Splitting training and test data"
   ],
   "cell_type": "markdown",
   "metadata": {}
  },
  {
   "cell_type": "code",
   "execution_count": 17,
   "metadata": {},
   "outputs": [],
   "source": [
    "from sklearn.model_selection import train_test_split\n"
   ]
  },
  {
   "cell_type": "code",
   "execution_count": 18,
   "metadata": {},
   "outputs": [],
   "source": [
    "X = df_dum.drop('avg_salary', axis =1)\n",
    "y = df_dum.avg_salary.values\n",
    "\n",
    "X_train, X_test, y_train, y_test = train_test_split(X, y, test_size=0.20, random_state=42)"
   ]
  },
  {
   "source": [
    "Running OLS to preview feature statistics"
   ],
   "cell_type": "markdown",
   "metadata": {}
  },
  {
   "cell_type": "code",
   "execution_count": 19,
   "metadata": {},
   "outputs": [],
   "source": [
    "import statsmodels.api as sm"
   ]
  },
  {
   "cell_type": "code",
   "execution_count": 20,
   "metadata": {},
   "outputs": [
    {
     "output_type": "execute_result",
     "data": {
      "text/plain": [
       "<class 'statsmodels.iolib.summary.Summary'>\n",
       "\"\"\"\n",
       "                            OLS Regression Results                            \n",
       "==============================================================================\n",
       "Dep. Variable:                      y   R-squared:                       0.725\n",
       "Model:                            OLS   Adj. R-squared:                  0.667\n",
       "Method:                 Least Squares   F-statistic:                     12.52\n",
       "Date:                Sat, 29 May 2021   Prob (F-statistic):           2.21e-44\n",
       "Time:                        20:40:15   Log-Likelihood:                -2550.4\n",
       "No. Observations:                 294   AIC:                             5205.\n",
       "Df Residuals:                     242   BIC:                             5396.\n",
       "Df Model:                          51                                         \n",
       "Covariance Type:            nonrobust                                         \n",
       "============================================================================================================\n",
       "                                               coef    std err          t      P>|t|      [0.025      0.975]\n",
       "------------------------------------------------------------------------------------------------------------\n",
       "const                                     2899.7465    400.764      7.236      0.000    2110.315    3689.178\n",
       "min_exp                                    631.7870     61.705     10.239      0.000     510.240     753.334\n",
       "aws                                        722.4221    346.754      2.083      0.038      39.381    1405.463\n",
       "python                                     160.1511    248.775      0.644      0.520    -329.890     650.193\n",
       "sql                                        -38.4930    255.193     -0.151      0.880    -541.176     464.190\n",
       "r                                          193.7101    284.419      0.681      0.496    -366.543     753.963\n",
       "tableau                                   -204.5274    241.263     -0.848      0.397    -679.770     270.715\n",
       "excel                                     -849.0332    214.765     -3.953      0.000   -1272.080    -425.986\n",
       "powerbi                                    313.5862    331.567      0.946      0.345    -339.539     966.711\n",
       "spark                                      158.0389    459.491      0.344      0.731    -747.074    1063.152\n",
       "hadoop                                     382.6001    464.757      0.823      0.411    -532.886    1298.086\n",
       "tensorflow                                 544.9091    820.380      0.664      0.507   -1071.087    2160.906\n",
       "job_desc_len                                 0.0944      0.092      1.026      0.306      -0.087       0.276\n",
       "job_title_analyst                          225.7498    295.490      0.764      0.446    -356.311     807.811\n",
       "job_title_consultant                      1749.3017    907.678      1.927      0.055     -38.657    3537.260\n",
       "job_title_data management                  301.8156   1480.207      0.204      0.839   -2613.918    3217.549\n",
       "job_title_data scientist                  2471.0621    547.514      4.513      0.000    1392.560    3549.564\n",
       "job_title_developer                        178.6842    717.698      0.249      0.804   -1235.048    1592.416\n",
       "job_title_engineer                        -185.7084    465.574     -0.399      0.690   -1102.803     731.386\n",
       "job_title_manager                           -3.3797    828.212     -0.004      0.997   -1634.805    1628.045\n",
       "job_title_others                         -1268.8534    610.080     -2.080      0.039   -2470.598     -67.109\n",
       "job_title_trainee                         -568.9254   1080.092     -0.527      0.599   -2696.507    1558.656\n",
       "employment_type_contract                  1266.9183    372.139      3.404      0.001     533.874    1999.963\n",
       "employment_type_flexi-work                1718.8026    972.952      1.767      0.079    -197.733    3635.338\n",
       "employment_type_full time                  526.4526    296.915      1.773      0.077     -58.415    1111.320\n",
       "employment_type_internship/traineeship    -729.5358    513.048     -1.422      0.156   -1740.146     281.074\n",
       "employment_type_temporary                  117.1088    706.990      0.166      0.869   -1275.530    1509.748\n",
       "seniority_Executive                       -149.0251    258.466     -0.577      0.565    -658.156     360.106\n",
       "seniority_Fresh/entry level               -225.6904    443.894     -0.508      0.612   -1100.080     648.699\n",
       "seniority_Junior Executive                -600.6170    450.057     -1.335      0.183   -1487.145     285.911\n",
       "seniority_Manager                          470.9563    473.876      0.994      0.321    -462.492    1404.405\n",
       "seniority_Middle Management                278.7094    629.934      0.442      0.659    -962.145    1519.564\n",
       "seniority_Non-executive                   -593.3324    942.094     -0.630      0.529   -2449.084    1262.419\n",
       "seniority_Professional                     364.6794    271.287      1.344      0.180    -169.706     899.065\n",
       "seniority_Senior Executive                 190.1102    293.042      0.649      0.517    -387.129     767.349\n",
       "seniority_Senior Management               3163.9561    890.483      3.553      0.000    1409.870    4918.043\n",
       "job_cat_accounting / auditing / taxation  -761.1681    966.208     -0.788      0.432   -2664.420    1142.084\n",
       "job_cat_admin / secretarial                414.7800    914.719      0.453      0.651   -1387.048    2216.608\n",
       "job_cat_advertising / media               -459.3576    841.420     -0.546      0.586   -2116.799    1198.083\n",
       "job_cat_banking and finance                964.6372    331.275      2.912      0.004     312.087    1617.188\n",
       "job_cat_building and construction        -2946.9667   1642.868     -1.794      0.074   -6183.112     289.179\n",
       "job_cat_consulting                         987.3786    447.775      2.205      0.028     105.345    1869.412\n",
       "job_cat_customer service                  -401.4865   1151.884     -0.349      0.728   -2670.485    1867.512\n",
       "job_cat_engineering                       -691.2359    551.530     -1.253      0.211   -1777.648     395.177\n",
       "job_cat_general work                       698.2900   1546.179      0.452      0.652   -2347.397    3743.977\n",
       "job_cat_healthcare / pharmaceutical       -323.2072    607.806     -0.532      0.595   -1520.472     874.058\n",
       "job_cat_human resources                    902.6269   1811.708      0.498      0.619   -2666.102    4471.356\n",
       "job_cat_information technology              57.3804    291.399      0.197      0.844    -516.622     631.383\n",
       "job_cat_insurance                         1720.9814    814.667      2.112      0.036     116.238    3325.725\n",
       "job_cat_logistics / supply chain          -991.6117    919.673     -1.078      0.282   -2803.197     819.973\n",
       "job_cat_manufacturing                      935.2816   1659.630      0.564      0.574   -2333.883    4204.447\n",
       "job_cat_marketing / public relations       328.8665    817.882      0.402      0.688   -1282.209    1939.942\n",
       "job_cat_others                             290.6468    439.944      0.661      0.509    -575.961    1157.254\n",
       "job_cat_public / civil service            -267.7285    991.122     -0.270      0.787   -2220.055    1684.598\n",
       "job_cat_sciences / laboratory / r&d       2372.2481   1018.293      2.330      0.021     366.399    4378.097\n",
       "job_cat_wholesale trade                     69.3909   1542.481      0.045      0.964   -2969.011    3107.793\n",
       "==============================================================================\n",
       "Omnibus:                       48.301   Durbin-Watson:                   2.035\n",
       "Prob(Omnibus):                  0.000   Jarque-Bera (JB):              158.261\n",
       "Skew:                           0.678   Prob(JB):                     4.31e-35\n",
       "Kurtosis:                       6.329   Cond. No.                     5.53e+17\n",
       "==============================================================================\n",
       "\n",
       "Notes:\n",
       "[1] Standard Errors assume that the covariance matrix of the errors is correctly specified.\n",
       "[2] The smallest eigenvalue is 6.08e-27. This might indicate that there are\n",
       "strong multicollinearity problems or that the design matrix is singular.\n",
       "\"\"\""
      ],
      "text/html": "<table class=\"simpletable\">\n<caption>OLS Regression Results</caption>\n<tr>\n  <th>Dep. Variable:</th>            <td>y</td>        <th>  R-squared:         </th> <td>   0.725</td>\n</tr>\n<tr>\n  <th>Model:</th>                   <td>OLS</td>       <th>  Adj. R-squared:    </th> <td>   0.667</td>\n</tr>\n<tr>\n  <th>Method:</th>             <td>Least Squares</td>  <th>  F-statistic:       </th> <td>   12.52</td>\n</tr>\n<tr>\n  <th>Date:</th>             <td>Sat, 29 May 2021</td> <th>  Prob (F-statistic):</th> <td>2.21e-44</td>\n</tr>\n<tr>\n  <th>Time:</th>                 <td>20:40:15</td>     <th>  Log-Likelihood:    </th> <td> -2550.4</td>\n</tr>\n<tr>\n  <th>No. Observations:</th>      <td>   294</td>      <th>  AIC:               </th> <td>   5205.</td>\n</tr>\n<tr>\n  <th>Df Residuals:</th>          <td>   242</td>      <th>  BIC:               </th> <td>   5396.</td>\n</tr>\n<tr>\n  <th>Df Model:</th>              <td>    51</td>      <th>                     </th>     <td> </td>   \n</tr>\n<tr>\n  <th>Covariance Type:</th>      <td>nonrobust</td>    <th>                     </th>     <td> </td>   \n</tr>\n</table>\n<table class=\"simpletable\">\n<tr>\n                      <td></td>                        <th>coef</th>     <th>std err</th>      <th>t</th>      <th>P>|t|</th>  <th>[0.025</th>    <th>0.975]</th>  \n</tr>\n<tr>\n  <th>const</th>                                    <td> 2899.7465</td> <td>  400.764</td> <td>    7.236</td> <td> 0.000</td> <td> 2110.315</td> <td> 3689.178</td>\n</tr>\n<tr>\n  <th>min_exp</th>                                  <td>  631.7870</td> <td>   61.705</td> <td>   10.239</td> <td> 0.000</td> <td>  510.240</td> <td>  753.334</td>\n</tr>\n<tr>\n  <th>aws</th>                                      <td>  722.4221</td> <td>  346.754</td> <td>    2.083</td> <td> 0.038</td> <td>   39.381</td> <td> 1405.463</td>\n</tr>\n<tr>\n  <th>python</th>                                   <td>  160.1511</td> <td>  248.775</td> <td>    0.644</td> <td> 0.520</td> <td> -329.890</td> <td>  650.193</td>\n</tr>\n<tr>\n  <th>sql</th>                                      <td>  -38.4930</td> <td>  255.193</td> <td>   -0.151</td> <td> 0.880</td> <td> -541.176</td> <td>  464.190</td>\n</tr>\n<tr>\n  <th>r</th>                                        <td>  193.7101</td> <td>  284.419</td> <td>    0.681</td> <td> 0.496</td> <td> -366.543</td> <td>  753.963</td>\n</tr>\n<tr>\n  <th>tableau</th>                                  <td> -204.5274</td> <td>  241.263</td> <td>   -0.848</td> <td> 0.397</td> <td> -679.770</td> <td>  270.715</td>\n</tr>\n<tr>\n  <th>excel</th>                                    <td> -849.0332</td> <td>  214.765</td> <td>   -3.953</td> <td> 0.000</td> <td>-1272.080</td> <td> -425.986</td>\n</tr>\n<tr>\n  <th>powerbi</th>                                  <td>  313.5862</td> <td>  331.567</td> <td>    0.946</td> <td> 0.345</td> <td> -339.539</td> <td>  966.711</td>\n</tr>\n<tr>\n  <th>spark</th>                                    <td>  158.0389</td> <td>  459.491</td> <td>    0.344</td> <td> 0.731</td> <td> -747.074</td> <td> 1063.152</td>\n</tr>\n<tr>\n  <th>hadoop</th>                                   <td>  382.6001</td> <td>  464.757</td> <td>    0.823</td> <td> 0.411</td> <td> -532.886</td> <td> 1298.086</td>\n</tr>\n<tr>\n  <th>tensorflow</th>                               <td>  544.9091</td> <td>  820.380</td> <td>    0.664</td> <td> 0.507</td> <td>-1071.087</td> <td> 2160.906</td>\n</tr>\n<tr>\n  <th>job_desc_len</th>                             <td>    0.0944</td> <td>    0.092</td> <td>    1.026</td> <td> 0.306</td> <td>   -0.087</td> <td>    0.276</td>\n</tr>\n<tr>\n  <th>job_title_analyst</th>                        <td>  225.7498</td> <td>  295.490</td> <td>    0.764</td> <td> 0.446</td> <td> -356.311</td> <td>  807.811</td>\n</tr>\n<tr>\n  <th>job_title_consultant</th>                     <td> 1749.3017</td> <td>  907.678</td> <td>    1.927</td> <td> 0.055</td> <td>  -38.657</td> <td> 3537.260</td>\n</tr>\n<tr>\n  <th>job_title_data management</th>                <td>  301.8156</td> <td> 1480.207</td> <td>    0.204</td> <td> 0.839</td> <td>-2613.918</td> <td> 3217.549</td>\n</tr>\n<tr>\n  <th>job_title_data scientist</th>                 <td> 2471.0621</td> <td>  547.514</td> <td>    4.513</td> <td> 0.000</td> <td> 1392.560</td> <td> 3549.564</td>\n</tr>\n<tr>\n  <th>job_title_developer</th>                      <td>  178.6842</td> <td>  717.698</td> <td>    0.249</td> <td> 0.804</td> <td>-1235.048</td> <td> 1592.416</td>\n</tr>\n<tr>\n  <th>job_title_engineer</th>                       <td> -185.7084</td> <td>  465.574</td> <td>   -0.399</td> <td> 0.690</td> <td>-1102.803</td> <td>  731.386</td>\n</tr>\n<tr>\n  <th>job_title_manager</th>                        <td>   -3.3797</td> <td>  828.212</td> <td>   -0.004</td> <td> 0.997</td> <td>-1634.805</td> <td> 1628.045</td>\n</tr>\n<tr>\n  <th>job_title_others</th>                         <td>-1268.8534</td> <td>  610.080</td> <td>   -2.080</td> <td> 0.039</td> <td>-2470.598</td> <td>  -67.109</td>\n</tr>\n<tr>\n  <th>job_title_trainee</th>                        <td> -568.9254</td> <td> 1080.092</td> <td>   -0.527</td> <td> 0.599</td> <td>-2696.507</td> <td> 1558.656</td>\n</tr>\n<tr>\n  <th>employment_type_contract</th>                 <td> 1266.9183</td> <td>  372.139</td> <td>    3.404</td> <td> 0.001</td> <td>  533.874</td> <td> 1999.963</td>\n</tr>\n<tr>\n  <th>employment_type_flexi-work</th>               <td> 1718.8026</td> <td>  972.952</td> <td>    1.767</td> <td> 0.079</td> <td> -197.733</td> <td> 3635.338</td>\n</tr>\n<tr>\n  <th>employment_type_full time</th>                <td>  526.4526</td> <td>  296.915</td> <td>    1.773</td> <td> 0.077</td> <td>  -58.415</td> <td> 1111.320</td>\n</tr>\n<tr>\n  <th>employment_type_internship/traineeship</th>   <td> -729.5358</td> <td>  513.048</td> <td>   -1.422</td> <td> 0.156</td> <td>-1740.146</td> <td>  281.074</td>\n</tr>\n<tr>\n  <th>employment_type_temporary</th>                <td>  117.1088</td> <td>  706.990</td> <td>    0.166</td> <td> 0.869</td> <td>-1275.530</td> <td> 1509.748</td>\n</tr>\n<tr>\n  <th>seniority_Executive</th>                      <td> -149.0251</td> <td>  258.466</td> <td>   -0.577</td> <td> 0.565</td> <td> -658.156</td> <td>  360.106</td>\n</tr>\n<tr>\n  <th>seniority_Fresh/entry level</th>              <td> -225.6904</td> <td>  443.894</td> <td>   -0.508</td> <td> 0.612</td> <td>-1100.080</td> <td>  648.699</td>\n</tr>\n<tr>\n  <th>seniority_Junior Executive</th>               <td> -600.6170</td> <td>  450.057</td> <td>   -1.335</td> <td> 0.183</td> <td>-1487.145</td> <td>  285.911</td>\n</tr>\n<tr>\n  <th>seniority_Manager</th>                        <td>  470.9563</td> <td>  473.876</td> <td>    0.994</td> <td> 0.321</td> <td> -462.492</td> <td> 1404.405</td>\n</tr>\n<tr>\n  <th>seniority_Middle Management</th>              <td>  278.7094</td> <td>  629.934</td> <td>    0.442</td> <td> 0.659</td> <td> -962.145</td> <td> 1519.564</td>\n</tr>\n<tr>\n  <th>seniority_Non-executive</th>                  <td> -593.3324</td> <td>  942.094</td> <td>   -0.630</td> <td> 0.529</td> <td>-2449.084</td> <td> 1262.419</td>\n</tr>\n<tr>\n  <th>seniority_Professional</th>                   <td>  364.6794</td> <td>  271.287</td> <td>    1.344</td> <td> 0.180</td> <td> -169.706</td> <td>  899.065</td>\n</tr>\n<tr>\n  <th>seniority_Senior Executive</th>               <td>  190.1102</td> <td>  293.042</td> <td>    0.649</td> <td> 0.517</td> <td> -387.129</td> <td>  767.349</td>\n</tr>\n<tr>\n  <th>seniority_Senior Management</th>              <td> 3163.9561</td> <td>  890.483</td> <td>    3.553</td> <td> 0.000</td> <td> 1409.870</td> <td> 4918.043</td>\n</tr>\n<tr>\n  <th>job_cat_accounting / auditing / taxation</th> <td> -761.1681</td> <td>  966.208</td> <td>   -0.788</td> <td> 0.432</td> <td>-2664.420</td> <td> 1142.084</td>\n</tr>\n<tr>\n  <th>job_cat_admin / secretarial</th>              <td>  414.7800</td> <td>  914.719</td> <td>    0.453</td> <td> 0.651</td> <td>-1387.048</td> <td> 2216.608</td>\n</tr>\n<tr>\n  <th>job_cat_advertising / media</th>              <td> -459.3576</td> <td>  841.420</td> <td>   -0.546</td> <td> 0.586</td> <td>-2116.799</td> <td> 1198.083</td>\n</tr>\n<tr>\n  <th>job_cat_banking and finance</th>              <td>  964.6372</td> <td>  331.275</td> <td>    2.912</td> <td> 0.004</td> <td>  312.087</td> <td> 1617.188</td>\n</tr>\n<tr>\n  <th>job_cat_building and construction</th>        <td>-2946.9667</td> <td> 1642.868</td> <td>   -1.794</td> <td> 0.074</td> <td>-6183.112</td> <td>  289.179</td>\n</tr>\n<tr>\n  <th>job_cat_consulting</th>                       <td>  987.3786</td> <td>  447.775</td> <td>    2.205</td> <td> 0.028</td> <td>  105.345</td> <td> 1869.412</td>\n</tr>\n<tr>\n  <th>job_cat_customer service</th>                 <td> -401.4865</td> <td> 1151.884</td> <td>   -0.349</td> <td> 0.728</td> <td>-2670.485</td> <td> 1867.512</td>\n</tr>\n<tr>\n  <th>job_cat_engineering</th>                      <td> -691.2359</td> <td>  551.530</td> <td>   -1.253</td> <td> 0.211</td> <td>-1777.648</td> <td>  395.177</td>\n</tr>\n<tr>\n  <th>job_cat_general work</th>                     <td>  698.2900</td> <td> 1546.179</td> <td>    0.452</td> <td> 0.652</td> <td>-2347.397</td> <td> 3743.977</td>\n</tr>\n<tr>\n  <th>job_cat_healthcare / pharmaceutical</th>      <td> -323.2072</td> <td>  607.806</td> <td>   -0.532</td> <td> 0.595</td> <td>-1520.472</td> <td>  874.058</td>\n</tr>\n<tr>\n  <th>job_cat_human resources</th>                  <td>  902.6269</td> <td> 1811.708</td> <td>    0.498</td> <td> 0.619</td> <td>-2666.102</td> <td> 4471.356</td>\n</tr>\n<tr>\n  <th>job_cat_information technology</th>           <td>   57.3804</td> <td>  291.399</td> <td>    0.197</td> <td> 0.844</td> <td> -516.622</td> <td>  631.383</td>\n</tr>\n<tr>\n  <th>job_cat_insurance</th>                        <td> 1720.9814</td> <td>  814.667</td> <td>    2.112</td> <td> 0.036</td> <td>  116.238</td> <td> 3325.725</td>\n</tr>\n<tr>\n  <th>job_cat_logistics / supply chain</th>         <td> -991.6117</td> <td>  919.673</td> <td>   -1.078</td> <td> 0.282</td> <td>-2803.197</td> <td>  819.973</td>\n</tr>\n<tr>\n  <th>job_cat_manufacturing</th>                    <td>  935.2816</td> <td> 1659.630</td> <td>    0.564</td> <td> 0.574</td> <td>-2333.883</td> <td> 4204.447</td>\n</tr>\n<tr>\n  <th>job_cat_marketing / public relations</th>     <td>  328.8665</td> <td>  817.882</td> <td>    0.402</td> <td> 0.688</td> <td>-1282.209</td> <td> 1939.942</td>\n</tr>\n<tr>\n  <th>job_cat_others</th>                           <td>  290.6468</td> <td>  439.944</td> <td>    0.661</td> <td> 0.509</td> <td> -575.961</td> <td> 1157.254</td>\n</tr>\n<tr>\n  <th>job_cat_public / civil service</th>           <td> -267.7285</td> <td>  991.122</td> <td>   -0.270</td> <td> 0.787</td> <td>-2220.055</td> <td> 1684.598</td>\n</tr>\n<tr>\n  <th>job_cat_sciences / laboratory / r&d</th>      <td> 2372.2481</td> <td> 1018.293</td> <td>    2.330</td> <td> 0.021</td> <td>  366.399</td> <td> 4378.097</td>\n</tr>\n<tr>\n  <th>job_cat_wholesale trade</th>                  <td>   69.3909</td> <td> 1542.481</td> <td>    0.045</td> <td> 0.964</td> <td>-2969.011</td> <td> 3107.793</td>\n</tr>\n</table>\n<table class=\"simpletable\">\n<tr>\n  <th>Omnibus:</th>       <td>48.301</td> <th>  Durbin-Watson:     </th> <td>   2.035</td>\n</tr>\n<tr>\n  <th>Prob(Omnibus):</th> <td> 0.000</td> <th>  Jarque-Bera (JB):  </th> <td> 158.261</td>\n</tr>\n<tr>\n  <th>Skew:</th>          <td> 0.678</td> <th>  Prob(JB):          </th> <td>4.31e-35</td>\n</tr>\n<tr>\n  <th>Kurtosis:</th>      <td> 6.329</td> <th>  Cond. No.          </th> <td>5.53e+17</td>\n</tr>\n</table><br/><br/>Notes:<br/>[1] Standard Errors assume that the covariance matrix of the errors is correctly specified.<br/>[2] The smallest eigenvalue is 6.08e-27. This might indicate that there are<br/>strong multicollinearity problems or that the design matrix is singular."
     },
     "metadata": {},
     "execution_count": 20
    }
   ],
   "source": [
    "X_sm = X = sm.add_constant(X)\n",
    "model = sm.OLS(y,X_sm)\n",
    "model.fit().summary()"
   ]
  },
  {
   "source": [
    "Multiple Linear Regression"
   ],
   "cell_type": "markdown",
   "metadata": {}
  },
  {
   "cell_type": "code",
   "execution_count": 21,
   "metadata": {},
   "outputs": [],
   "source": [
    "from sklearn.linear_model import LinearRegression, Lasso\n",
    "from sklearn.model_selection import cross_val_score"
   ]
  },
  {
   "cell_type": "code",
   "execution_count": 22,
   "metadata": {},
   "outputs": [
    {
     "output_type": "execute_result",
     "data": {
      "text/plain": [
       "LinearRegression()"
      ]
     },
     "metadata": {},
     "execution_count": 22
    }
   ],
   "source": [
    "lm = LinearRegression()\n",
    "lm.fit(X_train, y_train)"
   ]
  },
  {
   "cell_type": "code",
   "execution_count": 23,
   "metadata": {},
   "outputs": [
    {
     "output_type": "execute_result",
     "data": {
      "text/plain": [
       "-1159.278146486593"
      ]
     },
     "metadata": {},
     "execution_count": 23
    }
   ],
   "source": [
    "np.mean(cross_val_score(lm,X_train,y_train, scoring = 'neg_mean_absolute_error', cv= 3))\n"
   ]
  },
  {
   "source": [
    "lm_l = Lasso(alpha=11.2)\n",
    "lm_l.fit(X_train,y_train)\n",
    "np.mean(cross_val_score(lm_l,X_train,y_train, scoring = 'neg_mean_absolute_error', cv= 3))"
   ],
   "cell_type": "code",
   "metadata": {},
   "execution_count": 24,
   "outputs": [
    {
     "output_type": "execute_result",
     "data": {
      "text/plain": [
       "-1095.7163802205225"
      ]
     },
     "metadata": {},
     "execution_count": 24
    }
   ]
  },
  {
   "source": [
    "Finding alpha value with lowest MAE"
   ],
   "cell_type": "markdown",
   "metadata": {}
  },
  {
   "cell_type": "code",
   "execution_count": 25,
   "metadata": {},
   "outputs": [
    {
     "output_type": "execute_result",
     "data": {
      "text/plain": [
       "[<matplotlib.lines.Line2D at 0x197b9c16730>]"
      ]
     },
     "metadata": {},
     "execution_count": 25
    },
    {
     "output_type": "display_data",
     "data": {
      "text/plain": "<Figure size 432x288 with 1 Axes>",
      "image/svg+xml": "<?xml version=\"1.0\" encoding=\"utf-8\" standalone=\"no\"?>\r\n<!DOCTYPE svg PUBLIC \"-//W3C//DTD SVG 1.1//EN\"\r\n  \"http://www.w3.org/Graphics/SVG/1.1/DTD/svg11.dtd\">\r\n<svg height=\"248.518125pt\" version=\"1.1\" viewBox=\"0 0 390.029687 248.518125\" width=\"390.029687pt\" xmlns=\"http://www.w3.org/2000/svg\" xmlns:xlink=\"http://www.w3.org/1999/xlink\">\r\n <metadata>\r\n  <rdf:RDF xmlns:cc=\"http://creativecommons.org/ns#\" xmlns:dc=\"http://purl.org/dc/elements/1.1/\" xmlns:rdf=\"http://www.w3.org/1999/02/22-rdf-syntax-ns#\">\r\n   <cc:Work>\r\n    <dc:type rdf:resource=\"http://purl.org/dc/dcmitype/StillImage\"/>\r\n    <dc:date>2021-05-29T20:40:20.704798</dc:date>\r\n    <dc:format>image/svg+xml</dc:format>\r\n    <dc:creator>\r\n     <cc:Agent>\r\n      <dc:title>Matplotlib v3.4.2, https://matplotlib.org/</dc:title>\r\n     </cc:Agent>\r\n    </dc:creator>\r\n   </cc:Work>\r\n  </rdf:RDF>\r\n </metadata>\r\n <defs>\r\n  <style type=\"text/css\">*{stroke-linecap:butt;stroke-linejoin:round;}</style>\r\n </defs>\r\n <g id=\"figure_1\">\r\n  <g id=\"patch_1\">\r\n   <path d=\"M 0 248.518125 \r\nL 390.029687 248.518125 \r\nL 390.029687 0 \r\nL 0 0 \r\nz\r\n\" style=\"fill:none;\"/>\r\n  </g>\r\n  <g id=\"axes_1\">\r\n   <g id=\"patch_2\">\r\n    <path d=\"M 48.029688 224.64 \r\nL 382.829688 224.64 \r\nL 382.829688 7.2 \r\nL 48.029688 7.2 \r\nz\r\n\" style=\"fill:#ffffff;\"/>\r\n   </g>\r\n   <g id=\"matplotlib.axis_1\">\r\n    <g id=\"xtick_1\">\r\n     <g id=\"line2d_1\">\r\n      <defs>\r\n       <path d=\"M 0 0 \r\nL 0 3.5 \r\n\" id=\"md582566d5f\" style=\"stroke:#000000;stroke-width:0.8;\"/>\r\n      </defs>\r\n      <g>\r\n       <use style=\"stroke:#000000;stroke-width:0.8;\" x=\"62.226515\" xlink:href=\"#md582566d5f\" y=\"224.64\"/>\r\n      </g>\r\n     </g>\r\n     <g id=\"text_1\">\r\n      <!-- 0 -->\r\n      <g transform=\"translate(59.045265 239.238437)scale(0.1 -0.1)\">\r\n       <defs>\r\n        <path d=\"M 2034 4250 \r\nQ 1547 4250 1301 3770 \r\nQ 1056 3291 1056 2328 \r\nQ 1056 1369 1301 889 \r\nQ 1547 409 2034 409 \r\nQ 2525 409 2770 889 \r\nQ 3016 1369 3016 2328 \r\nQ 3016 3291 2770 3770 \r\nQ 2525 4250 2034 4250 \r\nz\r\nM 2034 4750 \r\nQ 2819 4750 3233 4129 \r\nQ 3647 3509 3647 2328 \r\nQ 3647 1150 3233 529 \r\nQ 2819 -91 2034 -91 \r\nQ 1250 -91 836 529 \r\nQ 422 1150 422 2328 \r\nQ 422 3509 836 4129 \r\nQ 1250 4750 2034 4750 \r\nz\r\n\" id=\"DejaVuSans-30\" transform=\"scale(0.015625)\"/>\r\n       </defs>\r\n       <use xlink:href=\"#DejaVuSans-30\"/>\r\n      </g>\r\n     </g>\r\n    </g>\r\n    <g id=\"xtick_2\">\r\n     <g id=\"line2d_2\">\r\n      <g>\r\n       <use style=\"stroke:#000000;stroke-width:0.8;\" x=\"113.294239\" xlink:href=\"#md582566d5f\" y=\"224.64\"/>\r\n      </g>\r\n     </g>\r\n     <g id=\"text_2\">\r\n      <!-- 5 -->\r\n      <g transform=\"translate(110.112989 239.238437)scale(0.1 -0.1)\">\r\n       <defs>\r\n        <path d=\"M 691 4666 \r\nL 3169 4666 \r\nL 3169 4134 \r\nL 1269 4134 \r\nL 1269 2991 \r\nQ 1406 3038 1543 3061 \r\nQ 1681 3084 1819 3084 \r\nQ 2600 3084 3056 2656 \r\nQ 3513 2228 3513 1497 \r\nQ 3513 744 3044 326 \r\nQ 2575 -91 1722 -91 \r\nQ 1428 -91 1123 -41 \r\nQ 819 9 494 109 \r\nL 494 744 \r\nQ 775 591 1075 516 \r\nQ 1375 441 1709 441 \r\nQ 2250 441 2565 725 \r\nQ 2881 1009 2881 1497 \r\nQ 2881 1984 2565 2268 \r\nQ 2250 2553 1709 2553 \r\nQ 1456 2553 1204 2497 \r\nQ 953 2441 691 2322 \r\nL 691 4666 \r\nz\r\n\" id=\"DejaVuSans-35\" transform=\"scale(0.015625)\"/>\r\n       </defs>\r\n       <use xlink:href=\"#DejaVuSans-35\"/>\r\n      </g>\r\n     </g>\r\n    </g>\r\n    <g id=\"xtick_3\">\r\n     <g id=\"line2d_3\">\r\n      <g>\r\n       <use style=\"stroke:#000000;stroke-width:0.8;\" x=\"164.361963\" xlink:href=\"#md582566d5f\" y=\"224.64\"/>\r\n      </g>\r\n     </g>\r\n     <g id=\"text_3\">\r\n      <!-- 10 -->\r\n      <g transform=\"translate(157.999463 239.238437)scale(0.1 -0.1)\">\r\n       <defs>\r\n        <path d=\"M 794 531 \r\nL 1825 531 \r\nL 1825 4091 \r\nL 703 3866 \r\nL 703 4441 \r\nL 1819 4666 \r\nL 2450 4666 \r\nL 2450 531 \r\nL 3481 531 \r\nL 3481 0 \r\nL 794 0 \r\nL 794 531 \r\nz\r\n\" id=\"DejaVuSans-31\" transform=\"scale(0.015625)\"/>\r\n       </defs>\r\n       <use xlink:href=\"#DejaVuSans-31\"/>\r\n       <use x=\"63.623047\" xlink:href=\"#DejaVuSans-30\"/>\r\n      </g>\r\n     </g>\r\n    </g>\r\n    <g id=\"xtick_4\">\r\n     <g id=\"line2d_4\">\r\n      <g>\r\n       <use style=\"stroke:#000000;stroke-width:0.8;\" x=\"215.429688\" xlink:href=\"#md582566d5f\" y=\"224.64\"/>\r\n      </g>\r\n     </g>\r\n     <g id=\"text_4\">\r\n      <!-- 15 -->\r\n      <g transform=\"translate(209.067188 239.238437)scale(0.1 -0.1)\">\r\n       <use xlink:href=\"#DejaVuSans-31\"/>\r\n       <use x=\"63.623047\" xlink:href=\"#DejaVuSans-35\"/>\r\n      </g>\r\n     </g>\r\n    </g>\r\n    <g id=\"xtick_5\">\r\n     <g id=\"line2d_5\">\r\n      <g>\r\n       <use style=\"stroke:#000000;stroke-width:0.8;\" x=\"266.497412\" xlink:href=\"#md582566d5f\" y=\"224.64\"/>\r\n      </g>\r\n     </g>\r\n     <g id=\"text_5\">\r\n      <!-- 20 -->\r\n      <g transform=\"translate(260.134912 239.238437)scale(0.1 -0.1)\">\r\n       <defs>\r\n        <path d=\"M 1228 531 \r\nL 3431 531 \r\nL 3431 0 \r\nL 469 0 \r\nL 469 531 \r\nQ 828 903 1448 1529 \r\nQ 2069 2156 2228 2338 \r\nQ 2531 2678 2651 2914 \r\nQ 2772 3150 2772 3378 \r\nQ 2772 3750 2511 3984 \r\nQ 2250 4219 1831 4219 \r\nQ 1534 4219 1204 4116 \r\nQ 875 4013 500 3803 \r\nL 500 4441 \r\nQ 881 4594 1212 4672 \r\nQ 1544 4750 1819 4750 \r\nQ 2544 4750 2975 4387 \r\nQ 3406 4025 3406 3419 \r\nQ 3406 3131 3298 2873 \r\nQ 3191 2616 2906 2266 \r\nQ 2828 2175 2409 1742 \r\nQ 1991 1309 1228 531 \r\nz\r\n\" id=\"DejaVuSans-32\" transform=\"scale(0.015625)\"/>\r\n       </defs>\r\n       <use xlink:href=\"#DejaVuSans-32\"/>\r\n       <use x=\"63.623047\" xlink:href=\"#DejaVuSans-30\"/>\r\n      </g>\r\n     </g>\r\n    </g>\r\n    <g id=\"xtick_6\">\r\n     <g id=\"line2d_6\">\r\n      <g>\r\n       <use style=\"stroke:#000000;stroke-width:0.8;\" x=\"317.565136\" xlink:href=\"#md582566d5f\" y=\"224.64\"/>\r\n      </g>\r\n     </g>\r\n     <g id=\"text_6\">\r\n      <!-- 25 -->\r\n      <g transform=\"translate(311.202636 239.238437)scale(0.1 -0.1)\">\r\n       <use xlink:href=\"#DejaVuSans-32\"/>\r\n       <use x=\"63.623047\" xlink:href=\"#DejaVuSans-35\"/>\r\n      </g>\r\n     </g>\r\n    </g>\r\n    <g id=\"xtick_7\">\r\n     <g id=\"line2d_7\">\r\n      <g>\r\n       <use style=\"stroke:#000000;stroke-width:0.8;\" x=\"368.63286\" xlink:href=\"#md582566d5f\" y=\"224.64\"/>\r\n      </g>\r\n     </g>\r\n     <g id=\"text_7\">\r\n      <!-- 30 -->\r\n      <g transform=\"translate(362.27036 239.238437)scale(0.1 -0.1)\">\r\n       <defs>\r\n        <path d=\"M 2597 2516 \r\nQ 3050 2419 3304 2112 \r\nQ 3559 1806 3559 1356 \r\nQ 3559 666 3084 287 \r\nQ 2609 -91 1734 -91 \r\nQ 1441 -91 1130 -33 \r\nQ 819 25 488 141 \r\nL 488 750 \r\nQ 750 597 1062 519 \r\nQ 1375 441 1716 441 \r\nQ 2309 441 2620 675 \r\nQ 2931 909 2931 1356 \r\nQ 2931 1769 2642 2001 \r\nQ 2353 2234 1838 2234 \r\nL 1294 2234 \r\nL 1294 2753 \r\nL 1863 2753 \r\nQ 2328 2753 2575 2939 \r\nQ 2822 3125 2822 3475 \r\nQ 2822 3834 2567 4026 \r\nQ 2313 4219 1838 4219 \r\nQ 1578 4219 1281 4162 \r\nQ 984 4106 628 3988 \r\nL 628 4550 \r\nQ 988 4650 1302 4700 \r\nQ 1616 4750 1894 4750 \r\nQ 2613 4750 3031 4423 \r\nQ 3450 4097 3450 3541 \r\nQ 3450 3153 3228 2886 \r\nQ 3006 2619 2597 2516 \r\nz\r\n\" id=\"DejaVuSans-33\" transform=\"scale(0.015625)\"/>\r\n       </defs>\r\n       <use xlink:href=\"#DejaVuSans-33\"/>\r\n       <use x=\"63.623047\" xlink:href=\"#DejaVuSans-30\"/>\r\n      </g>\r\n     </g>\r\n    </g>\r\n   </g>\r\n   <g id=\"matplotlib.axis_2\">\r\n    <g id=\"ytick_1\">\r\n     <g id=\"line2d_8\">\r\n      <defs>\r\n       <path d=\"M 0 0 \r\nL -3.5 0 \r\n\" id=\"m988fea705e\" style=\"stroke:#000000;stroke-width:0.8;\"/>\r\n      </defs>\r\n      <g>\r\n       <use style=\"stroke:#000000;stroke-width:0.8;\" x=\"48.029688\" xlink:href=\"#m988fea705e\" y=\"195.521414\"/>\r\n      </g>\r\n     </g>\r\n     <g id=\"text_8\">\r\n      <!-- −1150 -->\r\n      <g transform=\"translate(7.2 199.320633)scale(0.1 -0.1)\">\r\n       <defs>\r\n        <path d=\"M 678 2272 \r\nL 4684 2272 \r\nL 4684 1741 \r\nL 678 1741 \r\nL 678 2272 \r\nz\r\n\" id=\"DejaVuSans-2212\" transform=\"scale(0.015625)\"/>\r\n       </defs>\r\n       <use xlink:href=\"#DejaVuSans-2212\"/>\r\n       <use x=\"83.789062\" xlink:href=\"#DejaVuSans-31\"/>\r\n       <use x=\"147.412109\" xlink:href=\"#DejaVuSans-31\"/>\r\n       <use x=\"211.035156\" xlink:href=\"#DejaVuSans-35\"/>\r\n       <use x=\"274.658203\" xlink:href=\"#DejaVuSans-30\"/>\r\n      </g>\r\n     </g>\r\n    </g>\r\n    <g id=\"ytick_2\">\r\n     <g id=\"line2d_9\">\r\n      <g>\r\n       <use style=\"stroke:#000000;stroke-width:0.8;\" x=\"48.029688\" xlink:href=\"#m988fea705e\" y=\"165.042498\"/>\r\n      </g>\r\n     </g>\r\n     <g id=\"text_9\">\r\n      <!-- −1140 -->\r\n      <g transform=\"translate(7.2 168.841717)scale(0.1 -0.1)\">\r\n       <defs>\r\n        <path d=\"M 2419 4116 \r\nL 825 1625 \r\nL 2419 1625 \r\nL 2419 4116 \r\nz\r\nM 2253 4666 \r\nL 3047 4666 \r\nL 3047 1625 \r\nL 3713 1625 \r\nL 3713 1100 \r\nL 3047 1100 \r\nL 3047 0 \r\nL 2419 0 \r\nL 2419 1100 \r\nL 313 1100 \r\nL 313 1709 \r\nL 2253 4666 \r\nz\r\n\" id=\"DejaVuSans-34\" transform=\"scale(0.015625)\"/>\r\n       </defs>\r\n       <use xlink:href=\"#DejaVuSans-2212\"/>\r\n       <use x=\"83.789062\" xlink:href=\"#DejaVuSans-31\"/>\r\n       <use x=\"147.412109\" xlink:href=\"#DejaVuSans-31\"/>\r\n       <use x=\"211.035156\" xlink:href=\"#DejaVuSans-34\"/>\r\n       <use x=\"274.658203\" xlink:href=\"#DejaVuSans-30\"/>\r\n      </g>\r\n     </g>\r\n    </g>\r\n    <g id=\"ytick_3\">\r\n     <g id=\"line2d_10\">\r\n      <g>\r\n       <use style=\"stroke:#000000;stroke-width:0.8;\" x=\"48.029688\" xlink:href=\"#m988fea705e\" y=\"134.563582\"/>\r\n      </g>\r\n     </g>\r\n     <g id=\"text_10\">\r\n      <!-- −1130 -->\r\n      <g transform=\"translate(7.2 138.362801)scale(0.1 -0.1)\">\r\n       <use xlink:href=\"#DejaVuSans-2212\"/>\r\n       <use x=\"83.789062\" xlink:href=\"#DejaVuSans-31\"/>\r\n       <use x=\"147.412109\" xlink:href=\"#DejaVuSans-31\"/>\r\n       <use x=\"211.035156\" xlink:href=\"#DejaVuSans-33\"/>\r\n       <use x=\"274.658203\" xlink:href=\"#DejaVuSans-30\"/>\r\n      </g>\r\n     </g>\r\n    </g>\r\n    <g id=\"ytick_4\">\r\n     <g id=\"line2d_11\">\r\n      <g>\r\n       <use style=\"stroke:#000000;stroke-width:0.8;\" x=\"48.029688\" xlink:href=\"#m988fea705e\" y=\"104.084666\"/>\r\n      </g>\r\n     </g>\r\n     <g id=\"text_11\">\r\n      <!-- −1120 -->\r\n      <g transform=\"translate(7.2 107.883885)scale(0.1 -0.1)\">\r\n       <use xlink:href=\"#DejaVuSans-2212\"/>\r\n       <use x=\"83.789062\" xlink:href=\"#DejaVuSans-31\"/>\r\n       <use x=\"147.412109\" xlink:href=\"#DejaVuSans-31\"/>\r\n       <use x=\"211.035156\" xlink:href=\"#DejaVuSans-32\"/>\r\n       <use x=\"274.658203\" xlink:href=\"#DejaVuSans-30\"/>\r\n      </g>\r\n     </g>\r\n    </g>\r\n    <g id=\"ytick_5\">\r\n     <g id=\"line2d_12\">\r\n      <g>\r\n       <use style=\"stroke:#000000;stroke-width:0.8;\" x=\"48.029688\" xlink:href=\"#m988fea705e\" y=\"73.60575\"/>\r\n      </g>\r\n     </g>\r\n     <g id=\"text_12\">\r\n      <!-- −1110 -->\r\n      <g transform=\"translate(7.2 77.404969)scale(0.1 -0.1)\">\r\n       <use xlink:href=\"#DejaVuSans-2212\"/>\r\n       <use x=\"83.789062\" xlink:href=\"#DejaVuSans-31\"/>\r\n       <use x=\"147.412109\" xlink:href=\"#DejaVuSans-31\"/>\r\n       <use x=\"211.035156\" xlink:href=\"#DejaVuSans-31\"/>\r\n       <use x=\"274.658203\" xlink:href=\"#DejaVuSans-30\"/>\r\n      </g>\r\n     </g>\r\n    </g>\r\n    <g id=\"ytick_6\">\r\n     <g id=\"line2d_13\">\r\n      <g>\r\n       <use style=\"stroke:#000000;stroke-width:0.8;\" x=\"48.029688\" xlink:href=\"#m988fea705e\" y=\"43.126834\"/>\r\n      </g>\r\n     </g>\r\n     <g id=\"text_13\">\r\n      <!-- −1100 -->\r\n      <g transform=\"translate(7.2 46.926053)scale(0.1 -0.1)\">\r\n       <use xlink:href=\"#DejaVuSans-2212\"/>\r\n       <use x=\"83.789062\" xlink:href=\"#DejaVuSans-31\"/>\r\n       <use x=\"147.412109\" xlink:href=\"#DejaVuSans-31\"/>\r\n       <use x=\"211.035156\" xlink:href=\"#DejaVuSans-30\"/>\r\n       <use x=\"274.658203\" xlink:href=\"#DejaVuSans-30\"/>\r\n      </g>\r\n     </g>\r\n    </g>\r\n    <g id=\"ytick_7\">\r\n     <g id=\"line2d_14\">\r\n      <g>\r\n       <use style=\"stroke:#000000;stroke-width:0.8;\" x=\"48.029688\" xlink:href=\"#m988fea705e\" y=\"12.647918\"/>\r\n      </g>\r\n     </g>\r\n     <g id=\"text_14\">\r\n      <!-- −1090 -->\r\n      <g transform=\"translate(7.2 16.447137)scale(0.1 -0.1)\">\r\n       <defs>\r\n        <path d=\"M 703 97 \r\nL 703 672 \r\nQ 941 559 1184 500 \r\nQ 1428 441 1663 441 \r\nQ 2288 441 2617 861 \r\nQ 2947 1281 2994 2138 \r\nQ 2813 1869 2534 1725 \r\nQ 2256 1581 1919 1581 \r\nQ 1219 1581 811 2004 \r\nQ 403 2428 403 3163 \r\nQ 403 3881 828 4315 \r\nQ 1253 4750 1959 4750 \r\nQ 2769 4750 3195 4129 \r\nQ 3622 3509 3622 2328 \r\nQ 3622 1225 3098 567 \r\nQ 2575 -91 1691 -91 \r\nQ 1453 -91 1209 -44 \r\nQ 966 3 703 97 \r\nz\r\nM 1959 2075 \r\nQ 2384 2075 2632 2365 \r\nQ 2881 2656 2881 3163 \r\nQ 2881 3666 2632 3958 \r\nQ 2384 4250 1959 4250 \r\nQ 1534 4250 1286 3958 \r\nQ 1038 3666 1038 3163 \r\nQ 1038 2656 1286 2365 \r\nQ 1534 2075 1959 2075 \r\nz\r\n\" id=\"DejaVuSans-39\" transform=\"scale(0.015625)\"/>\r\n       </defs>\r\n       <use xlink:href=\"#DejaVuSans-2212\"/>\r\n       <use x=\"83.789062\" xlink:href=\"#DejaVuSans-31\"/>\r\n       <use x=\"147.412109\" xlink:href=\"#DejaVuSans-30\"/>\r\n       <use x=\"211.035156\" xlink:href=\"#DejaVuSans-39\"/>\r\n       <use x=\"274.658203\" xlink:href=\"#DejaVuSans-30\"/>\r\n      </g>\r\n     </g>\r\n    </g>\r\n   </g>\r\n   <g id=\"line2d_15\">\r\n    <path clip-path=\"url(#p3f50f1b543)\" d=\"M 63.247869 214.756364 \r\nL 67.333287 188.433178 \r\nL 73.461414 150.78095 \r\nL 75.504123 139.461764 \r\nL 81.63225 110.239998 \r\nL 86.739022 91.623419 \r\nL 90.82444 76.717626 \r\nL 92.867149 70.073041 \r\nL 96.952567 58.482465 \r\nL 97.973922 55.921889 \r\nL 98.995276 53.738572 \r\nL 100.016631 52.204628 \r\nL 101.037985 51.108836 \r\nL 106.144758 44.135745 \r\nL 109.208821 39.490445 \r\nL 112.272885 35.848622 \r\nL 118.401011 30.00384 \r\nL 121.465075 27.45049 \r\nL 129.635911 21.901142 \r\nL 132.699974 19.679874 \r\nL 134.742683 18.377526 \r\nL 135.764038 18.000875 \r\nL 139.849456 17.090273 \r\nL 141.892165 17.16426 \r\nL 143.934874 17.588721 \r\nL 146.998937 18.484471 \r\nL 152.105709 20.433714 \r\nL 155.169773 22.260481 \r\nL 158.233836 24.212332 \r\nL 161.2979 25.262198 \r\nL 164.361963 26.199112 \r\nL 166.404672 26.569934 \r\nL 169.468736 27.037136 \r\nL 172.532799 28.046977 \r\nL 176.618217 30.070825 \r\nL 182.746344 33.697089 \r\nL 186.831762 36.42099 \r\nL 193.981243 40.682634 \r\nL 196.023952 41.720427 \r\nL 202.152079 45.342502 \r\nL 205.216143 47.106753 \r\nL 214.408333 53.159368 \r\nL 233.814068 67.703823 \r\nL 234.835423 68.263128 \r\nL 237.899486 69.10899 \r\nL 255.262512 74.504812 \r\nL 258.326576 75.847049 \r\nL 263.433348 77.536633 \r\nL 273.646893 81.616924 \r\nL 284.881792 87.46031 \r\nL 287.945856 89.220495 \r\nL 302.244819 96.484279 \r\nL 316.543781 104.391648 \r\nL 318.58649 105.26988 \r\nL 332.885453 110.809524 \r\nL 335.949517 112.036679 \r\nL 340.034935 113.365112 \r\nL 349.227125 116.365688 \r\nL 367.611506 123.363172 \r\nL 367.611506 123.363172 \r\n\" style=\"fill:none;stroke:#1f77b4;stroke-linecap:square;stroke-width:1.5;\"/>\r\n   </g>\r\n   <g id=\"patch_3\">\r\n    <path d=\"M 48.029688 224.64 \r\nL 48.029688 7.2 \r\n\" style=\"fill:none;stroke:#000000;stroke-linecap:square;stroke-linejoin:miter;stroke-width:0.8;\"/>\r\n   </g>\r\n   <g id=\"patch_4\">\r\n    <path d=\"M 382.829688 224.64 \r\nL 382.829688 7.2 \r\n\" style=\"fill:none;stroke:#000000;stroke-linecap:square;stroke-linejoin:miter;stroke-width:0.8;\"/>\r\n   </g>\r\n   <g id=\"patch_5\">\r\n    <path d=\"M 48.029688 224.64 \r\nL 382.829688 224.64 \r\n\" style=\"fill:none;stroke:#000000;stroke-linecap:square;stroke-linejoin:miter;stroke-width:0.8;\"/>\r\n   </g>\r\n   <g id=\"patch_6\">\r\n    <path d=\"M 48.029688 7.2 \r\nL 382.829688 7.2 \r\n\" style=\"fill:none;stroke:#000000;stroke-linecap:square;stroke-linejoin:miter;stroke-width:0.8;\"/>\r\n   </g>\r\n  </g>\r\n </g>\r\n <defs>\r\n  <clipPath id=\"p3f50f1b543\">\r\n   <rect height=\"217.44\" width=\"334.8\" x=\"48.029688\" y=\"7.2\"/>\r\n  </clipPath>\r\n </defs>\r\n</svg>\r\n",
      "image/png": "[encoded data removed]"
     },
     "metadata": {
      "needs_background": "light"
     }
    }
   ],
   "source": [
    "alpha = []\n",
    "error = []\n",
    "\n",
    "for i in range(1,300):\n",
    "    alpha.append(i/10)\n",
    "    lml = Lasso(alpha=(i/10), max_iter=5000)\n",
    "    error.append(np.mean(cross_val_score(lml,X_train,y_train, scoring = 'neg_mean_absolute_error', cv= 3)))\n",
    "    \n",
    "plt.plot(alpha,error)"
   ]
  },
  {
   "cell_type": "code",
   "execution_count": 26,
   "metadata": {},
   "outputs": [
    {
     "output_type": "execute_result",
     "data": {
      "text/plain": [
       "    alpha       error\n",
       "76    7.7 -1091.45534"
      ],
      "text/html": "<div>\n<style scoped>\n    .dataframe tbody tr th:only-of-type {\n        vertical-align: middle;\n    }\n\n    .dataframe tbody tr th {\n        vertical-align: top;\n    }\n\n    .dataframe thead th {\n        text-align: right;\n    }\n</style>\n<table border=\"1\" class=\"dataframe\">\n  <thead>\n    <tr style=\"text-align: right;\">\n      <th></th>\n      <th>alpha</th>\n      <th>error</th>\n    </tr>\n  </thead>\n  <tbody>\n    <tr>\n      <th>76</th>\n      <td>7.7</td>\n      <td>-1091.45534</td>\n    </tr>\n  </tbody>\n</table>\n</div>"
     },
     "metadata": {},
     "execution_count": 26
    }
   ],
   "source": [
    "err = tuple(zip(alpha,error))\n",
    "df_err = pd.DataFrame(err, columns = ['alpha','error'])\n",
    "df_err[df_err.error == max(df_err.error)]"
   ]
  },
  {
   "source": [
    "Random Forest Regression"
   ],
   "cell_type": "markdown",
   "metadata": {}
  },
  {
   "cell_type": "code",
   "execution_count": 27,
   "metadata": {},
   "outputs": [
    {
     "output_type": "execute_result",
     "data": {
      "text/plain": [
       "-1169.67958725522"
      ]
     },
     "metadata": {},
     "execution_count": 27
    }
   ],
   "source": [
    "from sklearn.ensemble import RandomForestRegressor\n",
    "rf = RandomForestRegressor()\n",
    "\n",
    "np.mean(cross_val_score(rf,X_train,y_train,scoring = 'neg_mean_absolute_error', cv= 3))"
   ]
  },
  {
   "source": [
    "Using GridSearchCV to locate best parameters for Random Forest\n"
   ],
   "cell_type": "markdown",
   "metadata": {}
  },
  {
   "cell_type": "code",
   "execution_count": 28,
   "metadata": {},
   "outputs": [
    {
     "output_type": "execute_result",
     "data": {
      "text/plain": [
       "GridSearchCV(cv=3, estimator=RandomForestRegressor(),\n",
       "             param_grid={'criterion': ('mse', 'mae'),\n",
       "                         'max_features': ('auto', 'sqrt', 'log2'),\n",
       "                         'n_estimators': range(10, 300, 10)},\n",
       "             scoring='neg_mean_absolute_error')"
      ]
     },
     "metadata": {},
     "execution_count": 28
    }
   ],
   "source": [
    "from sklearn.model_selection import GridSearchCV\n",
    "parameters = {'n_estimators':range(10,300,10), 'criterion':('mse','mae'), 'max_features':('auto','sqrt','log2')}\n",
    "\n",
    "gs_rf = GridSearchCV(rf,parameters,scoring='neg_mean_absolute_error',cv=3)\n",
    "gs_rf.fit(X_train,y_train)\n"
   ]
  },
  {
   "source": [
    "print(gs_rf.best_score_)\n",
    "print(gs_rf.best_estimator_)"
   ],
   "cell_type": "code",
   "metadata": {},
   "execution_count": 29,
   "outputs": [
    {
     "output_type": "stream",
     "name": "stdout",
     "text": [
      "-1134.0950960958871\nRandomForestRegressor(criterion='mae', n_estimators=140)\n"
     ]
    }
   ]
  },
  {
   "source": [
    "Gradient Boosting Regression"
   ],
   "cell_type": "markdown",
   "metadata": {}
  },
  {
   "cell_type": "code",
   "execution_count": 30,
   "metadata": {},
   "outputs": [
    {
     "output_type": "execute_result",
     "data": {
      "text/plain": [
       "-1166.01401083622"
      ]
     },
     "metadata": {},
     "execution_count": 30
    }
   ],
   "source": [
    "from sklearn.ensemble import GradientBoostingRegressor\n",
    "gb = GradientBoostingRegressor(random_state=0)\n",
    "gb.fit(X_train, y_train)\n",
    "np.mean(cross_val_score(gb,X_train,y_train,scoring = 'neg_mean_absolute_error', cv= 3))\n"
   ]
  },
  {
   "source": [
    "Using GridSearchCV to locate best parameters for Gradient Boosting"
   ],
   "cell_type": "markdown",
   "metadata": {}
  },
  {
   "cell_type": "code",
   "execution_count": 31,
   "metadata": {
    "tags": []
   },
   "outputs": [
    {
     "output_type": "execute_result",
     "data": {
      "text/plain": [
       "GridSearchCV(cv=3, estimator=GradientBoostingRegressor(random_state=0),\n",
       "             param_grid={'loss': ('lad',),\n",
       "                         'max_features': ('auto', 'sqrt', 'log2'),\n",
       "                         'n_estimators': range(10, 300, 10)},\n",
       "             scoring='neg_mean_absolute_error')"
      ]
     },
     "metadata": {},
     "execution_count": 31
    }
   ],
   "source": [
    "\n",
    "parameters = {'n_estimators':range(10,300,10), 'loss':('lad',), 'max_features':('auto','sqrt','log2')}\n",
    "\n",
    "gs_gb = GridSearchCV(gb,parameters,scoring='neg_mean_absolute_error',cv=3)\n",
    "gs_gb.fit(X_train,y_train)\n"
   ]
  },
  {
   "cell_type": "code",
   "execution_count": 32,
   "metadata": {},
   "outputs": [
    {
     "output_type": "stream",
     "name": "stdout",
     "text": [
      "-1141.5705282006263\nGradientBoostingRegressor(loss='lad', max_features='sqrt', n_estimators=290,\n                          random_state=0)\n"
     ]
    }
   ],
   "source": [
    "print(gs_gb.best_score_)\n",
    "print(gs_gb.best_estimator_)"
   ]
  },
  {
   "source": [
    "Bootstrap Aggregate Regression (Bagging)"
   ],
   "cell_type": "markdown",
   "metadata": {}
  },
  {
   "cell_type": "code",
   "execution_count": 33,
   "metadata": {},
   "outputs": [
    {
     "output_type": "execute_result",
     "data": {
      "text/plain": [
       "-1164.9190197987666"
      ]
     },
     "metadata": {},
     "execution_count": 33
    }
   ],
   "source": [
    "from sklearn.ensemble import BaggingRegressor\n",
    "\n",
    "bc = BaggingRegressor(n_estimators=10, random_state=0)\n",
    "bc.fit(X_train, y_train)\n",
    "np.mean(cross_val_score(bc,X_train,y_train,scoring = 'neg_mean_absolute_error', cv= 3))"
   ]
  },
  {
   "source": [
    "Using GridSearchCV to locate best parameters for Bagging Classifier"
   ],
   "cell_type": "markdown",
   "metadata": {}
  },
  {
   "cell_type": "code",
   "execution_count": 34,
   "metadata": {
    "tags": []
   },
   "outputs": [
    {
     "output_type": "execute_result",
     "data": {
      "text/plain": [
       "GridSearchCV(cv=3, estimator=BaggingRegressor(random_state=0),\n",
       "             param_grid={'bootstrap': [True, False],\n",
       "                         'bootstrap_features': [True, False],\n",
       "                         'n_estimators': range(10, 300, 10)},\n",
       "             scoring='neg_mean_absolute_error')"
      ]
     },
     "metadata": {},
     "execution_count": 34
    }
   ],
   "source": [
    "\n",
    "parameters = {'n_estimators':range(10,300,10),  'bootstrap': [True, False], 'bootstrap_features': [True, False]}\n",
    "\n",
    "gs_bc = GridSearchCV(bc,parameters,scoring='neg_mean_absolute_error',cv=3)\n",
    "gs_bc.fit(X_train,y_train)"
   ]
  },
  {
   "cell_type": "code",
   "execution_count": 35,
   "metadata": {},
   "outputs": [
    {
     "output_type": "stream",
     "name": "stdout",
     "text": [
      "-1121.3495540892536\nBaggingRegressor(bootstrap_features=True, n_estimators=200, random_state=0)\n"
     ]
    }
   ],
   "source": [
    "print(gs_bc.best_score_)\n",
    "print(gs_bc.best_estimator_)"
   ]
  },
  {
   "source": [
    "Test Ensembles"
   ],
   "cell_type": "markdown",
   "metadata": {}
  },
  {
   "source": [
    "Prediction from multiple linear regression"
   ],
   "cell_type": "markdown",
   "metadata": {}
  },
  {
   "cell_type": "code",
   "execution_count": 36,
   "metadata": {},
   "outputs": [
    {
     "output_type": "execute_result",
     "data": {
      "text/plain": [
       "array([ 5871.00778816, 10551.33280834,  2462.88200152,  4244.08090255,\n",
       "        5493.43937435,   949.17951214,  6975.45274575,  8422.77845781,\n",
       "        8260.76977733,  9269.4817946 ,  7818.02495382,  4756.43166619,\n",
       "        5811.58451861,  5526.73403205,  4244.08090255,  4764.78217395,\n",
       "        6635.2196365 ,  1693.91988168,  6654.70433052,  3521.23579179,\n",
       "        5820.12593302,  4248.18330105,  2462.88200152,  5934.74822136,\n",
       "        9473.54122733,  6474.37867189,  7841.56644552, 10288.09654851,\n",
       "        6487.46339842,  8708.88363152,  7462.30060049,  4379.96555244,\n",
       "        7442.49124842,  6169.54880123,  4841.26450306,  5214.97248337,\n",
       "        4098.93587603,  2341.91597207,  7096.98407844,  6262.69721489,\n",
       "        4759.21358371, 10254.38650285,  8648.42396105,  8536.39185928,\n",
       "        9369.35208607,  7918.97951578,  5744.77561679,  4865.23184445,\n",
       "        3576.62519216,  5351.72618315,  4379.96555244,  8648.42396105,\n",
       "        7302.46578501,  6643.26339524,  6670.1242103 ,  6287.90720097,\n",
       "        7553.30001359,  5497.36685011,  7077.05766055])"
      ]
     },
     "metadata": {},
     "execution_count": 36
    }
   ],
   "source": [
    "tpred_lm = lm.predict(X_test)\n",
    "tpred_lm"
   ]
  },
  {
   "source": [
    "Prediction from lasso regression"
   ],
   "cell_type": "markdown",
   "metadata": {}
  },
  {
   "cell_type": "code",
   "execution_count": 37,
   "metadata": {},
   "outputs": [
    {
     "output_type": "execute_result",
     "data": {
      "text/plain": [
       "array([ 6096.19595359, 11037.87114802,  2401.24303306,  4444.30843272,\n",
       "        5691.9876792 ,  1384.05742968,  7115.16824629,  8933.83035827,\n",
       "        7955.5692723 ,  8823.74251375,  7846.76595376,  4695.03412749,\n",
       "        5498.85222316,  5508.27633192,  4444.30843272,  4289.69975344,\n",
       "        6715.93550026,  4168.97580685,  7250.71619781,  3527.68624887,\n",
       "        5698.95520737,  3789.68269526,  2401.24303306,  6024.76484537,\n",
       "        8334.81076684,  6347.81949416,  7803.28665924,  9763.6374362 ,\n",
       "        6116.00819081,  8717.85972762,  7082.21400084,  4330.39054254,\n",
       "        6962.93595981,  6047.36965084,  4780.0529067 ,  5332.70853926,\n",
       "        3538.64777531,  2421.019     ,  7192.34086112,  6091.81226965,\n",
       "        5059.11186395, 10055.85761751,  8604.52662138,  8232.97369786,\n",
       "        8891.18267064,  7617.60357287,  5339.61962192,  5071.86068584,\n",
       "        3583.72507107,  5192.61579418,  4330.39054254,  8604.52662138,\n",
       "        7368.03995902,  6642.02100783,  6745.08048141,  6071.8236162 ,\n",
       "        7409.09725152,  5784.99561942,  6726.35965675])"
      ]
     },
     "metadata": {},
     "execution_count": 37
    }
   ],
   "source": [
    "tpred_lml = lm_l.predict(X_test)\n",
    "tpred_lml"
   ]
  },
  {
   "source": [
    "Prediction from Random Forest Regression (Tuned with Gridsearchcv)"
   ],
   "cell_type": "markdown",
   "metadata": {}
  },
  {
   "cell_type": "code",
   "execution_count": 38,
   "metadata": {},
   "outputs": [
    {
     "output_type": "execute_result",
     "data": {
      "text/plain": [
       "array([ 7262.5       , 11371.42857143,  2700.32142857,  5158.75      ,\n",
       "        5785.        ,  2591.07142857,  7930.35714286, 10244.64285714,\n",
       "        8023.21428571,  9803.03571429,  8080.35714286,  5331.78571429,\n",
       "        5126.28571429,  4221.        ,  5158.75      ,  2993.92857143,\n",
       "        7177.67857143,  5539.28571429,  6901.42857143,  3546.125     ,\n",
       "        4825.        ,  3368.28571429,  2700.32142857,  6130.14285714,\n",
       "        7479.28571429,  6808.21428571,  7928.39285714, 10959.46428571,\n",
       "        6583.96428571,  8758.92857143,  5485.35714286,  4605.71428571,\n",
       "        5648.75      ,  7849.46428571,  5522.67857143,  4231.60714286,\n",
       "        4453.21428571,  2916.89285714,  7251.96428571,  5271.64285714,\n",
       "        4758.96428571, 11110.71428571,  8472.32142857,  8735.89285714,\n",
       "       10345.17857143,  6982.67857143,  4657.53571429,  4948.57142857,\n",
       "        4272.625     ,  4542.85714286,  4605.71428571,  8472.32142857,\n",
       "        7478.57142857,  7133.92857143,  7193.03571429,  5320.17857143,\n",
       "        7266.07142857,  5329.64285714,  5534.64285714])"
      ]
     },
     "metadata": {},
     "execution_count": 38
    }
   ],
   "source": [
    "\n",
    "tpred_rf = gs_rf.best_estimator_.predict(X_test)\n",
    "tpred_rf"
   ]
  },
  {
   "source": [
    "Prediction from Gradient Boost Regression (Tuned with Gridsearchcv)"
   ],
   "cell_type": "markdown",
   "metadata": {}
  },
  {
   "cell_type": "code",
   "execution_count": 39,
   "metadata": {},
   "outputs": [
    {
     "output_type": "execute_result",
     "data": {
      "text/plain": [
       "array([ 6199.36073579, 10004.1126891 ,  2594.54266238,  7034.03803261,\n",
       "        5997.92696929,  1849.7100774 ,  7976.38083756,  8028.25853621,\n",
       "        7679.02391771,  8559.65321332,  7504.48795419,  5291.20943832,\n",
       "        4590.98312752,  6078.22470472,  7034.03803261,  3880.75828483,\n",
       "        6051.38308461,  3820.15780484,  6755.4558794 ,  3546.34555995,\n",
       "        4807.61883321,  3137.70347767,  2594.54266238,  6526.66025936,\n",
       "        8912.66473166,  5724.30454036,  7485.65276769,  9398.01439455,\n",
       "        5802.11641927,  9296.63791262,  5819.42589629,  4616.72149341,\n",
       "        5693.32395653,  5917.92476609,  5410.96070268,  5108.85135394,\n",
       "        3396.94547693,  2393.50452945,  5911.51204877,  5857.1430757 ,\n",
       "        6244.65912867,  9207.19770806,  7265.18656626,  7196.82112793,\n",
       "        9400.47680606,  6804.57174978,  4635.21992875,  5049.25569941,\n",
       "        4911.06809214,  4498.87363194,  4616.72149341,  7265.18656626,\n",
       "        6480.45150554,  6792.05409428,  6530.42626256,  5557.32095582,\n",
       "        6329.58024475,  5701.27374482,  5539.32467805])"
      ]
     },
     "metadata": {},
     "execution_count": 39
    }
   ],
   "source": [
    "tpred_gb = gs_gb.best_estimator_.predict(X_test)\n",
    "tpred_gb"
   ]
  },
  {
   "source": [
    "Prediction from Bagging Regression (Tuned with Gridsearchcv)"
   ],
   "cell_type": "markdown",
   "metadata": {}
  },
  {
   "cell_type": "code",
   "execution_count": 40,
   "metadata": {},
   "outputs": [
    {
     "output_type": "execute_result",
     "data": {
      "text/plain": [
       "array([ 6164.05178571,  9644.1875    ,  2568.64375   ,  6178.83988095,\n",
       "        5805.66488095,  2699.32943272,  7641.36666667,  8381.13636364,\n",
       "        8160.47142857,  9581.94166667,  7924.03571429,  5581.68630952,\n",
       "        5504.08824786,  4550.78738095,  6178.83988095,  4194.63412698,\n",
       "        6721.58422619,  5360.6719697 ,  6523.5       ,  3508.98511905,\n",
       "        5007.72916667,  3366.98958333,  2568.64375   ,  6248.95      ,\n",
       "        8089.7625    ,  5770.95625   ,  7397.75      , 10274.625     ,\n",
       "        6453.77202381,  8518.41369048,  5613.35531136,  4906.36170635,\n",
       "        6002.05833333,  8527.78869048,  5958.06130952,  4604.76160714,\n",
       "        4283.3452381 ,  2997.16666667,  6981.05786505,  5551.94583333,\n",
       "        5695.8875    ,  9812.08333333,  7960.72619048,  8317.11839896,\n",
       "        9546.85416667,  6793.74970238,  5111.1455815 ,  4989.80718864,\n",
       "        4456.96488095,  4695.08724817,  4906.36170635,  7960.72619048,\n",
       "        7153.10416667,  6807.77083333,  6757.8672619 ,  5486.73958333,\n",
       "        6869.26944444,  5385.77767857,  5939.35416667])"
      ]
     },
     "metadata": {},
     "execution_count": 40
    }
   ],
   "source": [
    "tpred_bc = gs_bc.best_estimator_.predict(X_test)\n",
    "tpred_bc"
   ]
  },
  {
   "source": [
    "Tabulating MAE"
   ],
   "cell_type": "markdown",
   "metadata": {}
  },
  {
   "cell_type": "code",
   "execution_count": 41,
   "metadata": {},
   "outputs": [
    {
     "output_type": "stream",
     "name": "stdout",
     "text": [
      "             Regression Model          MAE\n0  Multiple linear regression  1450.715424\n1            Lasso Regression  1395.916264\n2               Random Forest  1403.736077\n3           Gradiant Boosting  1345.158719\n4          Boostrap Aggregate  1391.509327\n"
     ]
    }
   ],
   "source": [
    "from sklearn.metrics import mean_absolute_error\n",
    "\n",
    "results = {'Regression Model': ['Multiple linear regression', 'Lasso Regression', 'Random Forest', 'Gradiant Boosting', 'Boostrap Aggregate'], 'MAE': [mean_absolute_error(y_test,tpred_lm),mean_absolute_error(y_test,tpred_lml),mean_absolute_error(y_test,tpred_rf),mean_absolute_error(y_test,tpred_gb),mean_absolute_error(y_test,tpred_bc)]}\n",
    "results_df = pd.DataFrame(results, columns=['Regression Model', 'MAE'])\n",
    "print(results_df)"
   ]
  },
  {
   "source": [
    "Since Gradient Boosting Regression retuned the lowest MAE, we will use that for our final model."
   ],
   "cell_type": "markdown",
   "metadata": {}
  },
  {
   "cell_type": "code",
   "execution_count": 44,
   "metadata": {},
   "outputs": [],
   "source": [
    "import pickle\n",
    "pickl = {'model': gs_gb.best_estimator_}\n",
    "pickle.dump( pickl, open( 'model_file' + \".p\", \"wb\" ) )"
   ]
  }
 ]
}