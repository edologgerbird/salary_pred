{
 "metadata": {
  "language_info": {
   "codemirror_mode": {
    "name": "ipython",
    "version": 3
   },
   "file_extension": ".py",
   "mimetype": "text/x-python",
   "name": "python",
   "nbconvert_exporter": "python",
   "pygments_lexer": "ipython3",
   "version": "3.9.5"
  },
  "orig_nbformat": 2,
  "kernelspec": {
   "name": "python395jvsc74a57bd09c6bdcf356e3596871587ac993f00432123db66f2a0825ddef4b2f0e6b7efa9f",
   "display_name": "Python 3.9.5 64-bit"
  },
  "metadata": {
   "interpreter": {
    "hash": "9c6bdcf356e3596871587ac993f00432123db66f2a0825ddef4b2f0e6b7efa9f"
   }
  }
 },
 "nbformat": 4,
 "nbformat_minor": 2,
 "cells": [
  {
   "source": [
    "# Model Building\n",
    "\n",
    "1. Train-test split\n",
    "\n",
    "2. Multiple Linear Regression\n",
    "\n",
    "3. Lasso Regression\n",
    "\n",
    "4. Random Forest Regression\n",
    "\n",
    "5. Gradient Boosting Regression\n",
    "\n",
    "6. Bagging Regression\n",
    "\n",
    "7. Tune models using GridsearchCV\n",
    "\n",
    "8. Test Ensembles\n"
   ],
   "cell_type": "markdown",
   "metadata": {}
  },
  {
   "cell_type": "code",
   "execution_count": 1,
   "metadata": {},
   "outputs": [],
   "source": [
    "import pandas as pd \n",
    "import matplotlib.pyplot as plt \n",
    "import numpy as np "
   ]
  },
  {
   "cell_type": "code",
   "execution_count": 2,
   "metadata": {},
   "outputs": [],
   "source": [
    "df = pd.read_csv('jobs_keyword.csv')"
   ]
  },
  {
   "cell_type": "code",
   "execution_count": 6,
   "metadata": {},
   "outputs": [
    {
     "output_type": "execute_result",
     "data": {
      "text/plain": [
       "Index(['Unnamed: 0', 'Unnamed: 0.1', 'Unnamed: 0.1.1', 'company', 'job_title',\n",
       "       'listing_id', 'address', 'employment_type', 'seniority', 'min_exp',\n",
       "       'job_cat', 'salary_range', 'salary_unit', 'date_posted', 'date_expiry',\n",
       "       'job_description', 'avg_salary', 'aws', 'python', 'sql', 'r', 'tableau',\n",
       "       'excel', 'powerbi', 'spark', 'hadoop', 'tensorflow', 'job_desc_len'],\n",
       "      dtype='object')"
      ]
     },
     "metadata": {},
     "execution_count": 6
    }
   ],
   "source": [
    "df.columns"
   ]
  },
  {
   "cell_type": "code",
   "execution_count": 7,
   "metadata": {},
   "outputs": [],
   "source": [
    "df_model = df[['job_title', 'employment_type', 'seniority', 'min_exp', 'job_cat', 'avg_salary', 'aws', 'python', 'sql', 'r', 'tableau',\n",
    "       'excel', 'powerbi', 'spark', 'hadoop', 'tensorflow', 'job_desc_len']]"
   ]
  },
  {
   "cell_type": "code",
   "execution_count": 9,
   "metadata": {},
   "outputs": [
    {
     "output_type": "execute_result",
     "data": {
      "text/plain": [
       "  job_title employment_type         seniority  min_exp  \\\n",
       "0   analyst       full time  Junior Executive        2   \n",
       "1   analyst       full time  Senior Executive        6   \n",
       "2   analyst       full time  Senior Executive        2   \n",
       "3   analyst       full time  Senior Executive        3   \n",
       "4   analyst       full time           Manager        5   \n",
       "\n",
       "                  job_cat  avg_salary  aws  python  sql  r  tableau  excel  \\\n",
       "0  information technology      6750.0    0       1    1  1        1      0   \n",
       "1  information technology      7900.0    1       1    1  0        0      0   \n",
       "2                  others      5750.0    0       0    0  0        0      1   \n",
       "3  information technology      7500.0    0       1    1  0        1      1   \n",
       "4     banking and finance     12000.0    0       1    1  1        1      0   \n",
       "\n",
       "   powerbi  spark  hadoop  tensorflow  job_desc_len  \n",
       "0        0      0       0           0          1626  \n",
       "1        1      0       1           0          1175  \n",
       "2        0      0       0           0          2590  \n",
       "3        1      0       0           0          2416  \n",
       "4        1      0       0           0          1790  "
      ],
      "text/html": "<div>\n<style scoped>\n    .dataframe tbody tr th:only-of-type {\n        vertical-align: middle;\n    }\n\n    .dataframe tbody tr th {\n        vertical-align: top;\n    }\n\n    .dataframe thead th {\n        text-align: right;\n    }\n</style>\n<table border=\"1\" class=\"dataframe\">\n  <thead>\n    <tr style=\"text-align: right;\">\n      <th></th>\n      <th>job_title</th>\n      <th>employment_type</th>\n      <th>seniority</th>\n      <th>min_exp</th>\n      <th>job_cat</th>\n      <th>avg_salary</th>\n      <th>aws</th>\n      <th>python</th>\n      <th>sql</th>\n      <th>r</th>\n      <th>tableau</th>\n      <th>excel</th>\n      <th>powerbi</th>\n      <th>spark</th>\n      <th>hadoop</th>\n      <th>tensorflow</th>\n      <th>job_desc_len</th>\n    </tr>\n  </thead>\n  <tbody>\n    <tr>\n      <th>0</th>\n      <td>analyst</td>\n      <td>full time</td>\n      <td>Junior Executive</td>\n      <td>2</td>\n      <td>information technology</td>\n      <td>6750.0</td>\n      <td>0</td>\n      <td>1</td>\n      <td>1</td>\n      <td>1</td>\n      <td>1</td>\n      <td>0</td>\n      <td>0</td>\n      <td>0</td>\n      <td>0</td>\n      <td>0</td>\n      <td>1626</td>\n    </tr>\n    <tr>\n      <th>1</th>\n      <td>analyst</td>\n      <td>full time</td>\n      <td>Senior Executive</td>\n      <td>6</td>\n      <td>information technology</td>\n      <td>7900.0</td>\n      <td>1</td>\n      <td>1</td>\n      <td>1</td>\n      <td>0</td>\n      <td>0</td>\n      <td>0</td>\n      <td>1</td>\n      <td>0</td>\n      <td>1</td>\n      <td>0</td>\n      <td>1175</td>\n    </tr>\n    <tr>\n      <th>2</th>\n      <td>analyst</td>\n      <td>full time</td>\n      <td>Senior Executive</td>\n      <td>2</td>\n      <td>others</td>\n      <td>5750.0</td>\n      <td>0</td>\n      <td>0</td>\n      <td>0</td>\n      <td>0</td>\n      <td>0</td>\n      <td>1</td>\n      <td>0</td>\n      <td>0</td>\n      <td>0</td>\n      <td>0</td>\n      <td>2590</td>\n    </tr>\n    <tr>\n      <th>3</th>\n      <td>analyst</td>\n      <td>full time</td>\n      <td>Senior Executive</td>\n      <td>3</td>\n      <td>information technology</td>\n      <td>7500.0</td>\n      <td>0</td>\n      <td>1</td>\n      <td>1</td>\n      <td>0</td>\n      <td>1</td>\n      <td>1</td>\n      <td>1</td>\n      <td>0</td>\n      <td>0</td>\n      <td>0</td>\n      <td>2416</td>\n    </tr>\n    <tr>\n      <th>4</th>\n      <td>analyst</td>\n      <td>full time</td>\n      <td>Manager</td>\n      <td>5</td>\n      <td>banking and finance</td>\n      <td>12000.0</td>\n      <td>0</td>\n      <td>1</td>\n      <td>1</td>\n      <td>1</td>\n      <td>1</td>\n      <td>0</td>\n      <td>1</td>\n      <td>0</td>\n      <td>0</td>\n      <td>0</td>\n      <td>1790</td>\n    </tr>\n  </tbody>\n</table>\n</div>"
     },
     "metadata": {},
     "execution_count": 9
    }
   ],
   "source": [
    "df_model.head()"
   ]
  },
  {
   "cell_type": "code",
   "execution_count": 10,
   "metadata": {},
   "outputs": [],
   "source": [
    "df_dum = pd.get_dummies(df_model)"
   ]
  },
  {
   "cell_type": "code",
   "execution_count": 12,
   "metadata": {},
   "outputs": [
    {
     "output_type": "execute_result",
     "data": {
      "text/plain": [
       "Index(['min_exp', 'avg_salary', 'aws', 'python', 'sql', 'r', 'tableau',\n",
       "       'excel', 'powerbi', 'spark', 'hadoop', 'tensorflow', 'job_desc_len',\n",
       "       'job_title_analyst', 'job_title_consultant',\n",
       "       'job_title_data management', 'job_title_data scientist',\n",
       "       'job_title_developer', 'job_title_engineer', 'job_title_manager',\n",
       "       'job_title_others', 'job_title_trainee', 'employment_type_contract',\n",
       "       'employment_type_flexi-work', 'employment_type_full time',\n",
       "       'employment_type_internship/traineeship', 'employment_type_temporary',\n",
       "       'seniority_Executive', 'seniority_Fresh/entry level',\n",
       "       'seniority_Junior Executive', 'seniority_Manager',\n",
       "       'seniority_Middle Management', 'seniority_Non-executive',\n",
       "       'seniority_Professional', 'seniority_Senior Executive',\n",
       "       'seniority_Senior Management',\n",
       "       'job_cat_accounting / auditing / taxation',\n",
       "       'job_cat_admin / secretarial', 'job_cat_advertising / media',\n",
       "       'job_cat_banking and finance', 'job_cat_building and construction',\n",
       "       'job_cat_consulting', 'job_cat_customer service', 'job_cat_engineering',\n",
       "       'job_cat_general work', 'job_cat_healthcare / pharmaceutical',\n",
       "       'job_cat_human resources', 'job_cat_information technology',\n",
       "       'job_cat_insurance', 'job_cat_logistics / supply chain',\n",
       "       'job_cat_manufacturing', 'job_cat_marketing / public relations',\n",
       "       'job_cat_others', 'job_cat_public / civil service',\n",
       "       'job_cat_sciences / laboratory / r&d', 'job_cat_wholesale trade'],\n",
       "      dtype='object')"
      ]
     },
     "metadata": {},
     "execution_count": 12
    }
   ],
   "source": [
    "df_dum.columns"
   ]
  },
  {
   "cell_type": "code",
   "execution_count": 16,
   "metadata": {},
   "outputs": [],
   "source": [
    "from sklearn.model_selection import train_test_split\n"
   ]
  },
  {
   "cell_type": "code",
   "execution_count": 17,
   "metadata": {},
   "outputs": [],
   "source": [
    "X = df_dum.drop('avg_salary', axis =1)\n",
    "y = df_dum.avg_salary.values\n",
    "\n",
    "X_train, X_test, y_train, y_test = train_test_split(X, y, test_size=0.25, random_state=42)"
   ]
  },
  {
   "cell_type": "code",
   "execution_count": 19,
   "metadata": {},
   "outputs": [],
   "source": [
    "import statsmodels.api as sm\n"
   ]
  },
  {
   "cell_type": "code",
   "execution_count": 20,
   "metadata": {},
   "outputs": [
    {
     "output_type": "execute_result",
     "data": {
      "text/plain": [
       "<class 'statsmodels.iolib.summary.Summary'>\n",
       "\"\"\"\n",
       "                            OLS Regression Results                            \n",
       "==============================================================================\n",
       "Dep. Variable:                      y   R-squared:                       0.725\n",
       "Model:                            OLS   Adj. R-squared:                  0.667\n",
       "Method:                 Least Squares   F-statistic:                     12.52\n",
       "Date:                Sat, 29 May 2021   Prob (F-statistic):           2.21e-44\n",
       "Time:                        15:14:55   Log-Likelihood:                -2550.4\n",
       "No. Observations:                 294   AIC:                             5205.\n",
       "Df Residuals:                     242   BIC:                             5396.\n",
       "Df Model:                          51                                         \n",
       "Covariance Type:            nonrobust                                         \n",
       "============================================================================================================\n",
       "                                               coef    std err          t      P>|t|      [0.025      0.975]\n",
       "------------------------------------------------------------------------------------------------------------\n",
       "const                                     2899.7465    400.764      7.236      0.000    2110.315    3689.178\n",
       "min_exp                                    631.7870     61.705     10.239      0.000     510.240     753.334\n",
       "aws                                        722.4221    346.754      2.083      0.038      39.381    1405.463\n",
       "python                                     160.1511    248.775      0.644      0.520    -329.890     650.193\n",
       "sql                                        -38.4930    255.193     -0.151      0.880    -541.176     464.190\n",
       "r                                          193.7101    284.419      0.681      0.496    -366.543     753.963\n",
       "tableau                                   -204.5274    241.263     -0.848      0.397    -679.770     270.715\n",
       "excel                                     -849.0332    214.765     -3.953      0.000   -1272.080    -425.986\n",
       "powerbi                                    313.5862    331.567      0.946      0.345    -339.539     966.711\n",
       "spark                                      158.0389    459.491      0.344      0.731    -747.074    1063.152\n",
       "hadoop                                     382.6001    464.757      0.823      0.411    -532.886    1298.086\n",
       "tensorflow                                 544.9091    820.380      0.664      0.507   -1071.087    2160.906\n",
       "job_desc_len                                 0.0944      0.092      1.026      0.306      -0.087       0.276\n",
       "job_title_analyst                          225.7498    295.490      0.764      0.446    -356.311     807.811\n",
       "job_title_consultant                      1749.3017    907.678      1.927      0.055     -38.657    3537.260\n",
       "job_title_data management                  301.8156   1480.207      0.204      0.839   -2613.918    3217.549\n",
       "job_title_data scientist                  2471.0621    547.514      4.513      0.000    1392.560    3549.564\n",
       "job_title_developer                        178.6842    717.698      0.249      0.804   -1235.048    1592.416\n",
       "job_title_engineer                        -185.7084    465.574     -0.399      0.690   -1102.803     731.386\n",
       "job_title_manager                           -3.3797    828.212     -0.004      0.997   -1634.805    1628.045\n",
       "job_title_others                         -1268.8534    610.080     -2.080      0.039   -2470.598     -67.109\n",
       "job_title_trainee                         -568.9254   1080.092     -0.527      0.599   -2696.507    1558.656\n",
       "employment_type_contract                  1266.9183    372.139      3.404      0.001     533.874    1999.963\n",
       "employment_type_flexi-work                1718.8026    972.952      1.767      0.079    -197.733    3635.338\n",
       "employment_type_full time                  526.4526    296.915      1.773      0.077     -58.415    1111.320\n",
       "employment_type_internship/traineeship    -729.5358    513.048     -1.422      0.156   -1740.146     281.074\n",
       "employment_type_temporary                  117.1088    706.990      0.166      0.869   -1275.530    1509.748\n",
       "seniority_Executive                       -149.0251    258.466     -0.577      0.565    -658.156     360.106\n",
       "seniority_Fresh/entry level               -225.6904    443.894     -0.508      0.612   -1100.080     648.699\n",
       "seniority_Junior Executive                -600.6170    450.057     -1.335      0.183   -1487.145     285.911\n",
       "seniority_Manager                          470.9563    473.876      0.994      0.321    -462.492    1404.405\n",
       "seniority_Middle Management                278.7094    629.934      0.442      0.659    -962.145    1519.564\n",
       "seniority_Non-executive                   -593.3324    942.094     -0.630      0.529   -2449.084    1262.419\n",
       "seniority_Professional                     364.6794    271.287      1.344      0.180    -169.706     899.065\n",
       "seniority_Senior Executive                 190.1102    293.042      0.649      0.517    -387.129     767.349\n",
       "seniority_Senior Management               3163.9561    890.483      3.553      0.000    1409.870    4918.043\n",
       "job_cat_accounting / auditing / taxation  -761.1681    966.208     -0.788      0.432   -2664.420    1142.084\n",
       "job_cat_admin / secretarial                414.7800    914.719      0.453      0.651   -1387.048    2216.608\n",
       "job_cat_advertising / media               -459.3576    841.420     -0.546      0.586   -2116.799    1198.083\n",
       "job_cat_banking and finance                964.6372    331.275      2.912      0.004     312.087    1617.188\n",
       "job_cat_building and construction        -2946.9667   1642.868     -1.794      0.074   -6183.112     289.179\n",
       "job_cat_consulting                         987.3786    447.775      2.205      0.028     105.345    1869.412\n",
       "job_cat_customer service                  -401.4865   1151.884     -0.349      0.728   -2670.485    1867.512\n",
       "job_cat_engineering                       -691.2359    551.530     -1.253      0.211   -1777.648     395.177\n",
       "job_cat_general work                       698.2900   1546.179      0.452      0.652   -2347.397    3743.977\n",
       "job_cat_healthcare / pharmaceutical       -323.2072    607.806     -0.532      0.595   -1520.472     874.058\n",
       "job_cat_human resources                    902.6269   1811.708      0.498      0.619   -2666.102    4471.356\n",
       "job_cat_information technology              57.3804    291.399      0.197      0.844    -516.622     631.383\n",
       "job_cat_insurance                         1720.9814    814.667      2.112      0.036     116.238    3325.725\n",
       "job_cat_logistics / supply chain          -991.6117    919.673     -1.078      0.282   -2803.197     819.973\n",
       "job_cat_manufacturing                      935.2816   1659.630      0.564      0.574   -2333.883    4204.447\n",
       "job_cat_marketing / public relations       328.8665    817.882      0.402      0.688   -1282.209    1939.942\n",
       "job_cat_others                             290.6468    439.944      0.661      0.509    -575.961    1157.254\n",
       "job_cat_public / civil service            -267.7285    991.122     -0.270      0.787   -2220.055    1684.598\n",
       "job_cat_sciences / laboratory / r&d       2372.2481   1018.293      2.330      0.021     366.399    4378.097\n",
       "job_cat_wholesale trade                     69.3909   1542.481      0.045      0.964   -2969.011    3107.793\n",
       "==============================================================================\n",
       "Omnibus:                       48.301   Durbin-Watson:                   2.035\n",
       "Prob(Omnibus):                  0.000   Jarque-Bera (JB):              158.261\n",
       "Skew:                           0.678   Prob(JB):                     4.31e-35\n",
       "Kurtosis:                       6.329   Cond. No.                     5.53e+17\n",
       "==============================================================================\n",
       "\n",
       "Notes:\n",
       "[1] Standard Errors assume that the covariance matrix of the errors is correctly specified.\n",
       "[2] The smallest eigenvalue is 6.08e-27. This might indicate that there are\n",
       "strong multicollinearity problems or that the design matrix is singular.\n",
       "\"\"\""
      ],
      "text/html": "<table class=\"simpletable\">\n<caption>OLS Regression Results</caption>\n<tr>\n  <th>Dep. Variable:</th>            <td>y</td>        <th>  R-squared:         </th> <td>   0.725</td>\n</tr>\n<tr>\n  <th>Model:</th>                   <td>OLS</td>       <th>  Adj. R-squared:    </th> <td>   0.667</td>\n</tr>\n<tr>\n  <th>Method:</th>             <td>Least Squares</td>  <th>  F-statistic:       </th> <td>   12.52</td>\n</tr>\n<tr>\n  <th>Date:</th>             <td>Sat, 29 May 2021</td> <th>  Prob (F-statistic):</th> <td>2.21e-44</td>\n</tr>\n<tr>\n  <th>Time:</th>                 <td>15:14:55</td>     <th>  Log-Likelihood:    </th> <td> -2550.4</td>\n</tr>\n<tr>\n  <th>No. Observations:</th>      <td>   294</td>      <th>  AIC:               </th> <td>   5205.</td>\n</tr>\n<tr>\n  <th>Df Residuals:</th>          <td>   242</td>      <th>  BIC:               </th> <td>   5396.</td>\n</tr>\n<tr>\n  <th>Df Model:</th>              <td>    51</td>      <th>                     </th>     <td> </td>   \n</tr>\n<tr>\n  <th>Covariance Type:</th>      <td>nonrobust</td>    <th>                     </th>     <td> </td>   \n</tr>\n</table>\n<table class=\"simpletable\">\n<tr>\n                      <td></td>                        <th>coef</th>     <th>std err</th>      <th>t</th>      <th>P>|t|</th>  <th>[0.025</th>    <th>0.975]</th>  \n</tr>\n<tr>\n  <th>const</th>                                    <td> 2899.7465</td> <td>  400.764</td> <td>    7.236</td> <td> 0.000</td> <td> 2110.315</td> <td> 3689.178</td>\n</tr>\n<tr>\n  <th>min_exp</th>                                  <td>  631.7870</td> <td>   61.705</td> <td>   10.239</td> <td> 0.000</td> <td>  510.240</td> <td>  753.334</td>\n</tr>\n<tr>\n  <th>aws</th>                                      <td>  722.4221</td> <td>  346.754</td> <td>    2.083</td> <td> 0.038</td> <td>   39.381</td> <td> 1405.463</td>\n</tr>\n<tr>\n  <th>python</th>                                   <td>  160.1511</td> <td>  248.775</td> <td>    0.644</td> <td> 0.520</td> <td> -329.890</td> <td>  650.193</td>\n</tr>\n<tr>\n  <th>sql</th>                                      <td>  -38.4930</td> <td>  255.193</td> <td>   -0.151</td> <td> 0.880</td> <td> -541.176</td> <td>  464.190</td>\n</tr>\n<tr>\n  <th>r</th>                                        <td>  193.7101</td> <td>  284.419</td> <td>    0.681</td> <td> 0.496</td> <td> -366.543</td> <td>  753.963</td>\n</tr>\n<tr>\n  <th>tableau</th>                                  <td> -204.5274</td> <td>  241.263</td> <td>   -0.848</td> <td> 0.397</td> <td> -679.770</td> <td>  270.715</td>\n</tr>\n<tr>\n  <th>excel</th>                                    <td> -849.0332</td> <td>  214.765</td> <td>   -3.953</td> <td> 0.000</td> <td>-1272.080</td> <td> -425.986</td>\n</tr>\n<tr>\n  <th>powerbi</th>                                  <td>  313.5862</td> <td>  331.567</td> <td>    0.946</td> <td> 0.345</td> <td> -339.539</td> <td>  966.711</td>\n</tr>\n<tr>\n  <th>spark</th>                                    <td>  158.0389</td> <td>  459.491</td> <td>    0.344</td> <td> 0.731</td> <td> -747.074</td> <td> 1063.152</td>\n</tr>\n<tr>\n  <th>hadoop</th>                                   <td>  382.6001</td> <td>  464.757</td> <td>    0.823</td> <td> 0.411</td> <td> -532.886</td> <td> 1298.086</td>\n</tr>\n<tr>\n  <th>tensorflow</th>                               <td>  544.9091</td> <td>  820.380</td> <td>    0.664</td> <td> 0.507</td> <td>-1071.087</td> <td> 2160.906</td>\n</tr>\n<tr>\n  <th>job_desc_len</th>                             <td>    0.0944</td> <td>    0.092</td> <td>    1.026</td> <td> 0.306</td> <td>   -0.087</td> <td>    0.276</td>\n</tr>\n<tr>\n  <th>job_title_analyst</th>                        <td>  225.7498</td> <td>  295.490</td> <td>    0.764</td> <td> 0.446</td> <td> -356.311</td> <td>  807.811</td>\n</tr>\n<tr>\n  <th>job_title_consultant</th>                     <td> 1749.3017</td> <td>  907.678</td> <td>    1.927</td> <td> 0.055</td> <td>  -38.657</td> <td> 3537.260</td>\n</tr>\n<tr>\n  <th>job_title_data management</th>                <td>  301.8156</td> <td> 1480.207</td> <td>    0.204</td> <td> 0.839</td> <td>-2613.918</td> <td> 3217.549</td>\n</tr>\n<tr>\n  <th>job_title_data scientist</th>                 <td> 2471.0621</td> <td>  547.514</td> <td>    4.513</td> <td> 0.000</td> <td> 1392.560</td> <td> 3549.564</td>\n</tr>\n<tr>\n  <th>job_title_developer</th>                      <td>  178.6842</td> <td>  717.698</td> <td>    0.249</td> <td> 0.804</td> <td>-1235.048</td> <td> 1592.416</td>\n</tr>\n<tr>\n  <th>job_title_engineer</th>                       <td> -185.7084</td> <td>  465.574</td> <td>   -0.399</td> <td> 0.690</td> <td>-1102.803</td> <td>  731.386</td>\n</tr>\n<tr>\n  <th>job_title_manager</th>                        <td>   -3.3797</td> <td>  828.212</td> <td>   -0.004</td> <td> 0.997</td> <td>-1634.805</td> <td> 1628.045</td>\n</tr>\n<tr>\n  <th>job_title_others</th>                         <td>-1268.8534</td> <td>  610.080</td> <td>   -2.080</td> <td> 0.039</td> <td>-2470.598</td> <td>  -67.109</td>\n</tr>\n<tr>\n  <th>job_title_trainee</th>                        <td> -568.9254</td> <td> 1080.092</td> <td>   -0.527</td> <td> 0.599</td> <td>-2696.507</td> <td> 1558.656</td>\n</tr>\n<tr>\n  <th>employment_type_contract</th>                 <td> 1266.9183</td> <td>  372.139</td> <td>    3.404</td> <td> 0.001</td> <td>  533.874</td> <td> 1999.963</td>\n</tr>\n<tr>\n  <th>employment_type_flexi-work</th>               <td> 1718.8026</td> <td>  972.952</td> <td>    1.767</td> <td> 0.079</td> <td> -197.733</td> <td> 3635.338</td>\n</tr>\n<tr>\n  <th>employment_type_full time</th>                <td>  526.4526</td> <td>  296.915</td> <td>    1.773</td> <td> 0.077</td> <td>  -58.415</td> <td> 1111.320</td>\n</tr>\n<tr>\n  <th>employment_type_internship/traineeship</th>   <td> -729.5358</td> <td>  513.048</td> <td>   -1.422</td> <td> 0.156</td> <td>-1740.146</td> <td>  281.074</td>\n</tr>\n<tr>\n  <th>employment_type_temporary</th>                <td>  117.1088</td> <td>  706.990</td> <td>    0.166</td> <td> 0.869</td> <td>-1275.530</td> <td> 1509.748</td>\n</tr>\n<tr>\n  <th>seniority_Executive</th>                      <td> -149.0251</td> <td>  258.466</td> <td>   -0.577</td> <td> 0.565</td> <td> -658.156</td> <td>  360.106</td>\n</tr>\n<tr>\n  <th>seniority_Fresh/entry level</th>              <td> -225.6904</td> <td>  443.894</td> <td>   -0.508</td> <td> 0.612</td> <td>-1100.080</td> <td>  648.699</td>\n</tr>\n<tr>\n  <th>seniority_Junior Executive</th>               <td> -600.6170</td> <td>  450.057</td> <td>   -1.335</td> <td> 0.183</td> <td>-1487.145</td> <td>  285.911</td>\n</tr>\n<tr>\n  <th>seniority_Manager</th>                        <td>  470.9563</td> <td>  473.876</td> <td>    0.994</td> <td> 0.321</td> <td> -462.492</td> <td> 1404.405</td>\n</tr>\n<tr>\n  <th>seniority_Middle Management</th>              <td>  278.7094</td> <td>  629.934</td> <td>    0.442</td> <td> 0.659</td> <td> -962.145</td> <td> 1519.564</td>\n</tr>\n<tr>\n  <th>seniority_Non-executive</th>                  <td> -593.3324</td> <td>  942.094</td> <td>   -0.630</td> <td> 0.529</td> <td>-2449.084</td> <td> 1262.419</td>\n</tr>\n<tr>\n  <th>seniority_Professional</th>                   <td>  364.6794</td> <td>  271.287</td> <td>    1.344</td> <td> 0.180</td> <td> -169.706</td> <td>  899.065</td>\n</tr>\n<tr>\n  <th>seniority_Senior Executive</th>               <td>  190.1102</td> <td>  293.042</td> <td>    0.649</td> <td> 0.517</td> <td> -387.129</td> <td>  767.349</td>\n</tr>\n<tr>\n  <th>seniority_Senior Management</th>              <td> 3163.9561</td> <td>  890.483</td> <td>    3.553</td> <td> 0.000</td> <td> 1409.870</td> <td> 4918.043</td>\n</tr>\n<tr>\n  <th>job_cat_accounting / auditing / taxation</th> <td> -761.1681</td> <td>  966.208</td> <td>   -0.788</td> <td> 0.432</td> <td>-2664.420</td> <td> 1142.084</td>\n</tr>\n<tr>\n  <th>job_cat_admin / secretarial</th>              <td>  414.7800</td> <td>  914.719</td> <td>    0.453</td> <td> 0.651</td> <td>-1387.048</td> <td> 2216.608</td>\n</tr>\n<tr>\n  <th>job_cat_advertising / media</th>              <td> -459.3576</td> <td>  841.420</td> <td>   -0.546</td> <td> 0.586</td> <td>-2116.799</td> <td> 1198.083</td>\n</tr>\n<tr>\n  <th>job_cat_banking and finance</th>              <td>  964.6372</td> <td>  331.275</td> <td>    2.912</td> <td> 0.004</td> <td>  312.087</td> <td> 1617.188</td>\n</tr>\n<tr>\n  <th>job_cat_building and construction</th>        <td>-2946.9667</td> <td> 1642.868</td> <td>   -1.794</td> <td> 0.074</td> <td>-6183.112</td> <td>  289.179</td>\n</tr>\n<tr>\n  <th>job_cat_consulting</th>                       <td>  987.3786</td> <td>  447.775</td> <td>    2.205</td> <td> 0.028</td> <td>  105.345</td> <td> 1869.412</td>\n</tr>\n<tr>\n  <th>job_cat_customer service</th>                 <td> -401.4865</td> <td> 1151.884</td> <td>   -0.349</td> <td> 0.728</td> <td>-2670.485</td> <td> 1867.512</td>\n</tr>\n<tr>\n  <th>job_cat_engineering</th>                      <td> -691.2359</td> <td>  551.530</td> <td>   -1.253</td> <td> 0.211</td> <td>-1777.648</td> <td>  395.177</td>\n</tr>\n<tr>\n  <th>job_cat_general work</th>                     <td>  698.2900</td> <td> 1546.179</td> <td>    0.452</td> <td> 0.652</td> <td>-2347.397</td> <td> 3743.977</td>\n</tr>\n<tr>\n  <th>job_cat_healthcare / pharmaceutical</th>      <td> -323.2072</td> <td>  607.806</td> <td>   -0.532</td> <td> 0.595</td> <td>-1520.472</td> <td>  874.058</td>\n</tr>\n<tr>\n  <th>job_cat_human resources</th>                  <td>  902.6269</td> <td> 1811.708</td> <td>    0.498</td> <td> 0.619</td> <td>-2666.102</td> <td> 4471.356</td>\n</tr>\n<tr>\n  <th>job_cat_information technology</th>           <td>   57.3804</td> <td>  291.399</td> <td>    0.197</td> <td> 0.844</td> <td> -516.622</td> <td>  631.383</td>\n</tr>\n<tr>\n  <th>job_cat_insurance</th>                        <td> 1720.9814</td> <td>  814.667</td> <td>    2.112</td> <td> 0.036</td> <td>  116.238</td> <td> 3325.725</td>\n</tr>\n<tr>\n  <th>job_cat_logistics / supply chain</th>         <td> -991.6117</td> <td>  919.673</td> <td>   -1.078</td> <td> 0.282</td> <td>-2803.197</td> <td>  819.973</td>\n</tr>\n<tr>\n  <th>job_cat_manufacturing</th>                    <td>  935.2816</td> <td> 1659.630</td> <td>    0.564</td> <td> 0.574</td> <td>-2333.883</td> <td> 4204.447</td>\n</tr>\n<tr>\n  <th>job_cat_marketing / public relations</th>     <td>  328.8665</td> <td>  817.882</td> <td>    0.402</td> <td> 0.688</td> <td>-1282.209</td> <td> 1939.942</td>\n</tr>\n<tr>\n  <th>job_cat_others</th>                           <td>  290.6468</td> <td>  439.944</td> <td>    0.661</td> <td> 0.509</td> <td> -575.961</td> <td> 1157.254</td>\n</tr>\n<tr>\n  <th>job_cat_public / civil service</th>           <td> -267.7285</td> <td>  991.122</td> <td>   -0.270</td> <td> 0.787</td> <td>-2220.055</td> <td> 1684.598</td>\n</tr>\n<tr>\n  <th>job_cat_sciences / laboratory / r&d</th>      <td> 2372.2481</td> <td> 1018.293</td> <td>    2.330</td> <td> 0.021</td> <td>  366.399</td> <td> 4378.097</td>\n</tr>\n<tr>\n  <th>job_cat_wholesale trade</th>                  <td>   69.3909</td> <td> 1542.481</td> <td>    0.045</td> <td> 0.964</td> <td>-2969.011</td> <td> 3107.793</td>\n</tr>\n</table>\n<table class=\"simpletable\">\n<tr>\n  <th>Omnibus:</th>       <td>48.301</td> <th>  Durbin-Watson:     </th> <td>   2.035</td>\n</tr>\n<tr>\n  <th>Prob(Omnibus):</th> <td> 0.000</td> <th>  Jarque-Bera (JB):  </th> <td> 158.261</td>\n</tr>\n<tr>\n  <th>Skew:</th>          <td> 0.678</td> <th>  Prob(JB):          </th> <td>4.31e-35</td>\n</tr>\n<tr>\n  <th>Kurtosis:</th>      <td> 6.329</td> <th>  Cond. No.          </th> <td>5.53e+17</td>\n</tr>\n</table><br/><br/>Notes:<br/>[1] Standard Errors assume that the covariance matrix of the errors is correctly specified.<br/>[2] The smallest eigenvalue is 6.08e-27. This might indicate that there are<br/>strong multicollinearity problems or that the design matrix is singular."
     },
     "metadata": {},
     "execution_count": 20
    }
   ],
   "source": [
    "X_sm = X = sm.add_constant(X)\n",
    "model = sm.OLS(y,X_sm)\n",
    "model.fit().summary()"
   ]
  },
  {
   "cell_type": "code",
   "execution_count": 21,
   "metadata": {},
   "outputs": [],
   "source": [
    "from sklearn.linear_model import LinearRegression, Lasso\n",
    "from sklearn.model_selection import cross_val_score"
   ]
  },
  {
   "cell_type": "code",
   "execution_count": 22,
   "metadata": {},
   "outputs": [
    {
     "output_type": "execute_result",
     "data": {
      "text/plain": [
       "LinearRegression()"
      ]
     },
     "metadata": {},
     "execution_count": 22
    }
   ],
   "source": [
    "lm = LinearRegression()\n",
    "lm.fit(X_train, y_train)"
   ]
  },
  {
   "cell_type": "code",
   "execution_count": 23,
   "metadata": {},
   "outputs": [
    {
     "output_type": "execute_result",
     "data": {
      "text/plain": [
       "-1229.2336368284102"
      ]
     },
     "metadata": {},
     "execution_count": 23
    }
   ],
   "source": [
    "np.mean(cross_val_score(lm,X_train,y_train, scoring = 'neg_mean_absolute_error', cv= 3))\n"
   ]
  },
  {
   "cell_type": "code",
   "execution_count": 25,
   "metadata": {},
   "outputs": [
    {
     "output_type": "execute_result",
     "data": {
      "text/plain": [
       "-1224.3846484820197"
      ]
     },
     "metadata": {},
     "execution_count": 25
    }
   ],
   "source": [
    "# lasso regression \n",
    "lm_l = Lasso(alpha=.13)\n",
    "lm_l.fit(X_train,y_train)\n",
    "np.mean(cross_val_score(lm_l,X_train,y_train, scoring = 'neg_mean_absolute_error', cv= 3))"
   ]
  },
  {
   "cell_type": "code",
   "execution_count": 30,
   "metadata": {},
   "outputs": [
    {
     "output_type": "stream",
     "name": "stderr",
     "text": [
      "C:\\Users\\edmun\\AppData\\Local\\Programs\\Python\\Python39\\lib\\site-packages\\sklearn\\linear_model\\_coordinate_descent.py:530: ConvergenceWarning: Objective did not converge. You might want to increase the number of iterations. Duality gap: 635878.6643087268, tolerance: 91429.41842893836\n  model = cd_fast.enet_coordinate_descent(\n"
     ]
    },
    {
     "output_type": "execute_result",
     "data": {
      "text/plain": [
       "[<matplotlib.lines.Line2D at 0x21714265460>]"
      ]
     },
     "metadata": {},
     "execution_count": 30
    },
    {
     "output_type": "display_data",
     "data": {
      "text/plain": "<Figure size 432x288 with 1 Axes>",
      "image/svg+xml": "<?xml version=\"1.0\" encoding=\"utf-8\" standalone=\"no\"?>\r\n<!DOCTYPE svg PUBLIC \"-//W3C//DTD SVG 1.1//EN\"\r\n  \"http://www.w3.org/Graphics/SVG/1.1/DTD/svg11.dtd\">\r\n<svg height=\"248.518125pt\" version=\"1.1\" viewBox=\"0 0 390.029687 248.518125\" width=\"390.029687pt\" xmlns=\"http://www.w3.org/2000/svg\" xmlns:xlink=\"http://www.w3.org/1999/xlink\">\r\n <metadata>\r\n  <rdf:RDF xmlns:cc=\"http://creativecommons.org/ns#\" xmlns:dc=\"http://purl.org/dc/elements/1.1/\" xmlns:rdf=\"http://www.w3.org/1999/02/22-rdf-syntax-ns#\">\r\n   <cc:Work>\r\n    <dc:type rdf:resource=\"http://purl.org/dc/dcmitype/StillImage\"/>\r\n    <dc:date>2021-05-29T15:20:17.795320</dc:date>\r\n    <dc:format>image/svg+xml</dc:format>\r\n    <dc:creator>\r\n     <cc:Agent>\r\n      <dc:title>Matplotlib v3.4.2, https://matplotlib.org/</dc:title>\r\n     </cc:Agent>\r\n    </dc:creator>\r\n   </cc:Work>\r\n  </rdf:RDF>\r\n </metadata>\r\n <defs>\r\n  <style type=\"text/css\">*{stroke-linecap:butt;stroke-linejoin:round;}</style>\r\n </defs>\r\n <g id=\"figure_1\">\r\n  <g id=\"patch_1\">\r\n   <path d=\"M 0 248.518125 \r\nL 390.029687 248.518125 \r\nL 390.029687 0 \r\nL 0 0 \r\nz\r\n\" style=\"fill:none;\"/>\r\n  </g>\r\n  <g id=\"axes_1\">\r\n   <g id=\"patch_2\">\r\n    <path d=\"M 48.029688 224.64 \r\nL 382.829688 224.64 \r\nL 382.829688 7.2 \r\nL 48.029688 7.2 \r\nz\r\n\" style=\"fill:#ffffff;\"/>\r\n   </g>\r\n   <g id=\"matplotlib.axis_1\">\r\n    <g id=\"xtick_1\">\r\n     <g id=\"line2d_1\">\r\n      <defs>\r\n       <path d=\"M 0 0 \r\nL 0 3.5 \r\n\" id=\"m2d430cc104\" style=\"stroke:#000000;stroke-width:0.8;\"/>\r\n      </defs>\r\n      <g>\r\n       <use style=\"stroke:#000000;stroke-width:0.8;\" x=\"62.226515\" xlink:href=\"#m2d430cc104\" y=\"224.64\"/>\r\n      </g>\r\n     </g>\r\n     <g id=\"text_1\">\r\n      <!-- 0 -->\r\n      <g transform=\"translate(59.045265 239.238438)scale(0.1 -0.1)\">\r\n       <defs>\r\n        <path d=\"M 2034 4250 \r\nQ 1547 4250 1301 3770 \r\nQ 1056 3291 1056 2328 \r\nQ 1056 1369 1301 889 \r\nQ 1547 409 2034 409 \r\nQ 2525 409 2770 889 \r\nQ 3016 1369 3016 2328 \r\nQ 3016 3291 2770 3770 \r\nQ 2525 4250 2034 4250 \r\nz\r\nM 2034 4750 \r\nQ 2819 4750 3233 4129 \r\nQ 3647 3509 3647 2328 \r\nQ 3647 1150 3233 529 \r\nQ 2819 -91 2034 -91 \r\nQ 1250 -91 836 529 \r\nQ 422 1150 422 2328 \r\nQ 422 3509 836 4129 \r\nQ 1250 4750 2034 4750 \r\nz\r\n\" id=\"DejaVuSans-30\" transform=\"scale(0.015625)\"/>\r\n       </defs>\r\n       <use xlink:href=\"#DejaVuSans-30\"/>\r\n      </g>\r\n     </g>\r\n    </g>\r\n    <g id=\"xtick_2\">\r\n     <g id=\"line2d_2\">\r\n      <g>\r\n       <use style=\"stroke:#000000;stroke-width:0.8;\" x=\"113.294239\" xlink:href=\"#m2d430cc104\" y=\"224.64\"/>\r\n      </g>\r\n     </g>\r\n     <g id=\"text_2\">\r\n      <!-- 5 -->\r\n      <g transform=\"translate(110.112989 239.238438)scale(0.1 -0.1)\">\r\n       <defs>\r\n        <path d=\"M 691 4666 \r\nL 3169 4666 \r\nL 3169 4134 \r\nL 1269 4134 \r\nL 1269 2991 \r\nQ 1406 3038 1543 3061 \r\nQ 1681 3084 1819 3084 \r\nQ 2600 3084 3056 2656 \r\nQ 3513 2228 3513 1497 \r\nQ 3513 744 3044 326 \r\nQ 2575 -91 1722 -91 \r\nQ 1428 -91 1123 -41 \r\nQ 819 9 494 109 \r\nL 494 744 \r\nQ 775 591 1075 516 \r\nQ 1375 441 1709 441 \r\nQ 2250 441 2565 725 \r\nQ 2881 1009 2881 1497 \r\nQ 2881 1984 2565 2268 \r\nQ 2250 2553 1709 2553 \r\nQ 1456 2553 1204 2497 \r\nQ 953 2441 691 2322 \r\nL 691 4666 \r\nz\r\n\" id=\"DejaVuSans-35\" transform=\"scale(0.015625)\"/>\r\n       </defs>\r\n       <use xlink:href=\"#DejaVuSans-35\"/>\r\n      </g>\r\n     </g>\r\n    </g>\r\n    <g id=\"xtick_3\">\r\n     <g id=\"line2d_3\">\r\n      <g>\r\n       <use style=\"stroke:#000000;stroke-width:0.8;\" x=\"164.361963\" xlink:href=\"#m2d430cc104\" y=\"224.64\"/>\r\n      </g>\r\n     </g>\r\n     <g id=\"text_3\">\r\n      <!-- 10 -->\r\n      <g transform=\"translate(157.999463 239.238438)scale(0.1 -0.1)\">\r\n       <defs>\r\n        <path d=\"M 794 531 \r\nL 1825 531 \r\nL 1825 4091 \r\nL 703 3866 \r\nL 703 4441 \r\nL 1819 4666 \r\nL 2450 4666 \r\nL 2450 531 \r\nL 3481 531 \r\nL 3481 0 \r\nL 794 0 \r\nL 794 531 \r\nz\r\n\" id=\"DejaVuSans-31\" transform=\"scale(0.015625)\"/>\r\n       </defs>\r\n       <use xlink:href=\"#DejaVuSans-31\"/>\r\n       <use x=\"63.623047\" xlink:href=\"#DejaVuSans-30\"/>\r\n      </g>\r\n     </g>\r\n    </g>\r\n    <g id=\"xtick_4\">\r\n     <g id=\"line2d_4\">\r\n      <g>\r\n       <use style=\"stroke:#000000;stroke-width:0.8;\" x=\"215.429688\" xlink:href=\"#m2d430cc104\" y=\"224.64\"/>\r\n      </g>\r\n     </g>\r\n     <g id=\"text_4\">\r\n      <!-- 15 -->\r\n      <g transform=\"translate(209.067188 239.238438)scale(0.1 -0.1)\">\r\n       <use xlink:href=\"#DejaVuSans-31\"/>\r\n       <use x=\"63.623047\" xlink:href=\"#DejaVuSans-35\"/>\r\n      </g>\r\n     </g>\r\n    </g>\r\n    <g id=\"xtick_5\">\r\n     <g id=\"line2d_5\">\r\n      <g>\r\n       <use style=\"stroke:#000000;stroke-width:0.8;\" x=\"266.497412\" xlink:href=\"#m2d430cc104\" y=\"224.64\"/>\r\n      </g>\r\n     </g>\r\n     <g id=\"text_5\">\r\n      <!-- 20 -->\r\n      <g transform=\"translate(260.134912 239.238438)scale(0.1 -0.1)\">\r\n       <defs>\r\n        <path d=\"M 1228 531 \r\nL 3431 531 \r\nL 3431 0 \r\nL 469 0 \r\nL 469 531 \r\nQ 828 903 1448 1529 \r\nQ 2069 2156 2228 2338 \r\nQ 2531 2678 2651 2914 \r\nQ 2772 3150 2772 3378 \r\nQ 2772 3750 2511 3984 \r\nQ 2250 4219 1831 4219 \r\nQ 1534 4219 1204 4116 \r\nQ 875 4013 500 3803 \r\nL 500 4441 \r\nQ 881 4594 1212 4672 \r\nQ 1544 4750 1819 4750 \r\nQ 2544 4750 2975 4387 \r\nQ 3406 4025 3406 3419 \r\nQ 3406 3131 3298 2873 \r\nQ 3191 2616 2906 2266 \r\nQ 2828 2175 2409 1742 \r\nQ 1991 1309 1228 531 \r\nz\r\n\" id=\"DejaVuSans-32\" transform=\"scale(0.015625)\"/>\r\n       </defs>\r\n       <use xlink:href=\"#DejaVuSans-32\"/>\r\n       <use x=\"63.623047\" xlink:href=\"#DejaVuSans-30\"/>\r\n      </g>\r\n     </g>\r\n    </g>\r\n    <g id=\"xtick_6\">\r\n     <g id=\"line2d_6\">\r\n      <g>\r\n       <use style=\"stroke:#000000;stroke-width:0.8;\" x=\"317.565136\" xlink:href=\"#m2d430cc104\" y=\"224.64\"/>\r\n      </g>\r\n     </g>\r\n     <g id=\"text_6\">\r\n      <!-- 25 -->\r\n      <g transform=\"translate(311.202636 239.238438)scale(0.1 -0.1)\">\r\n       <use xlink:href=\"#DejaVuSans-32\"/>\r\n       <use x=\"63.623047\" xlink:href=\"#DejaVuSans-35\"/>\r\n      </g>\r\n     </g>\r\n    </g>\r\n    <g id=\"xtick_7\">\r\n     <g id=\"line2d_7\">\r\n      <g>\r\n       <use style=\"stroke:#000000;stroke-width:0.8;\" x=\"368.63286\" xlink:href=\"#m2d430cc104\" y=\"224.64\"/>\r\n      </g>\r\n     </g>\r\n     <g id=\"text_7\">\r\n      <!-- 30 -->\r\n      <g transform=\"translate(362.27036 239.238438)scale(0.1 -0.1)\">\r\n       <defs>\r\n        <path d=\"M 2597 2516 \r\nQ 3050 2419 3304 2112 \r\nQ 3559 1806 3559 1356 \r\nQ 3559 666 3084 287 \r\nQ 2609 -91 1734 -91 \r\nQ 1441 -91 1130 -33 \r\nQ 819 25 488 141 \r\nL 488 750 \r\nQ 750 597 1062 519 \r\nQ 1375 441 1716 441 \r\nQ 2309 441 2620 675 \r\nQ 2931 909 2931 1356 \r\nQ 2931 1769 2642 2001 \r\nQ 2353 2234 1838 2234 \r\nL 1294 2234 \r\nL 1294 2753 \r\nL 1863 2753 \r\nQ 2328 2753 2575 2939 \r\nQ 2822 3125 2822 3475 \r\nQ 2822 3834 2567 4026 \r\nQ 2313 4219 1838 4219 \r\nQ 1578 4219 1281 4162 \r\nQ 984 4106 628 3988 \r\nL 628 4550 \r\nQ 988 4650 1302 4700 \r\nQ 1616 4750 1894 4750 \r\nQ 2613 4750 3031 4423 \r\nQ 3450 4097 3450 3541 \r\nQ 3450 3153 3228 2886 \r\nQ 3006 2619 2597 2516 \r\nz\r\n\" id=\"DejaVuSans-33\" transform=\"scale(0.015625)\"/>\r\n       </defs>\r\n       <use xlink:href=\"#DejaVuSans-33\"/>\r\n       <use x=\"63.623047\" xlink:href=\"#DejaVuSans-30\"/>\r\n      </g>\r\n     </g>\r\n    </g>\r\n   </g>\r\n   <g id=\"matplotlib.axis_2\">\r\n    <g id=\"ytick_1\">\r\n     <g id=\"line2d_8\">\r\n      <defs>\r\n       <path d=\"M 0 0 \r\nL -3.5 0 \r\n\" id=\"m2afe022190\" style=\"stroke:#000000;stroke-width:0.8;\"/>\r\n      </defs>\r\n      <g>\r\n       <use style=\"stroke:#000000;stroke-width:0.8;\" x=\"48.029688\" xlink:href=\"#m2afe022190\" y=\"203.358998\"/>\r\n      </g>\r\n     </g>\r\n     <g id=\"text_8\">\r\n      <!-- −1220 -->\r\n      <g transform=\"translate(7.2 207.158217)scale(0.1 -0.1)\">\r\n       <defs>\r\n        <path d=\"M 678 2272 \r\nL 4684 2272 \r\nL 4684 1741 \r\nL 678 1741 \r\nL 678 2272 \r\nz\r\n\" id=\"DejaVuSans-2212\" transform=\"scale(0.015625)\"/>\r\n       </defs>\r\n       <use xlink:href=\"#DejaVuSans-2212\"/>\r\n       <use x=\"83.789062\" xlink:href=\"#DejaVuSans-31\"/>\r\n       <use x=\"147.412109\" xlink:href=\"#DejaVuSans-32\"/>\r\n       <use x=\"211.035156\" xlink:href=\"#DejaVuSans-32\"/>\r\n       <use x=\"274.658203\" xlink:href=\"#DejaVuSans-30\"/>\r\n      </g>\r\n     </g>\r\n    </g>\r\n    <g id=\"ytick_2\">\r\n     <g id=\"line2d_9\">\r\n      <g>\r\n       <use style=\"stroke:#000000;stroke-width:0.8;\" x=\"48.029688\" xlink:href=\"#m2afe022190\" y=\"157.960196\"/>\r\n      </g>\r\n     </g>\r\n     <g id=\"text_9\">\r\n      <!-- −1200 -->\r\n      <g transform=\"translate(7.2 161.759415)scale(0.1 -0.1)\">\r\n       <use xlink:href=\"#DejaVuSans-2212\"/>\r\n       <use x=\"83.789062\" xlink:href=\"#DejaVuSans-31\"/>\r\n       <use x=\"147.412109\" xlink:href=\"#DejaVuSans-32\"/>\r\n       <use x=\"211.035156\" xlink:href=\"#DejaVuSans-30\"/>\r\n       <use x=\"274.658203\" xlink:href=\"#DejaVuSans-30\"/>\r\n      </g>\r\n     </g>\r\n    </g>\r\n    <g id=\"ytick_3\">\r\n     <g id=\"line2d_10\">\r\n      <g>\r\n       <use style=\"stroke:#000000;stroke-width:0.8;\" x=\"48.029688\" xlink:href=\"#m2afe022190\" y=\"112.561394\"/>\r\n      </g>\r\n     </g>\r\n     <g id=\"text_10\">\r\n      <!-- −1180 -->\r\n      <g transform=\"translate(7.2 116.360613)scale(0.1 -0.1)\">\r\n       <defs>\r\n        <path d=\"M 2034 2216 \r\nQ 1584 2216 1326 1975 \r\nQ 1069 1734 1069 1313 \r\nQ 1069 891 1326 650 \r\nQ 1584 409 2034 409 \r\nQ 2484 409 2743 651 \r\nQ 3003 894 3003 1313 \r\nQ 3003 1734 2745 1975 \r\nQ 2488 2216 2034 2216 \r\nz\r\nM 1403 2484 \r\nQ 997 2584 770 2862 \r\nQ 544 3141 544 3541 \r\nQ 544 4100 942 4425 \r\nQ 1341 4750 2034 4750 \r\nQ 2731 4750 3128 4425 \r\nQ 3525 4100 3525 3541 \r\nQ 3525 3141 3298 2862 \r\nQ 3072 2584 2669 2484 \r\nQ 3125 2378 3379 2068 \r\nQ 3634 1759 3634 1313 \r\nQ 3634 634 3220 271 \r\nQ 2806 -91 2034 -91 \r\nQ 1263 -91 848 271 \r\nQ 434 634 434 1313 \r\nQ 434 1759 690 2068 \r\nQ 947 2378 1403 2484 \r\nz\r\nM 1172 3481 \r\nQ 1172 3119 1398 2916 \r\nQ 1625 2713 2034 2713 \r\nQ 2441 2713 2670 2916 \r\nQ 2900 3119 2900 3481 \r\nQ 2900 3844 2670 4047 \r\nQ 2441 4250 2034 4250 \r\nQ 1625 4250 1398 4047 \r\nQ 1172 3844 1172 3481 \r\nz\r\n\" id=\"DejaVuSans-38\" transform=\"scale(0.015625)\"/>\r\n       </defs>\r\n       <use xlink:href=\"#DejaVuSans-2212\"/>\r\n       <use x=\"83.789062\" xlink:href=\"#DejaVuSans-31\"/>\r\n       <use x=\"147.412109\" xlink:href=\"#DejaVuSans-31\"/>\r\n       <use x=\"211.035156\" xlink:href=\"#DejaVuSans-38\"/>\r\n       <use x=\"274.658203\" xlink:href=\"#DejaVuSans-30\"/>\r\n      </g>\r\n     </g>\r\n    </g>\r\n    <g id=\"ytick_4\">\r\n     <g id=\"line2d_11\">\r\n      <g>\r\n       <use style=\"stroke:#000000;stroke-width:0.8;\" x=\"48.029688\" xlink:href=\"#m2afe022190\" y=\"67.162592\"/>\r\n      </g>\r\n     </g>\r\n     <g id=\"text_11\">\r\n      <!-- −1160 -->\r\n      <g transform=\"translate(7.2 70.961811)scale(0.1 -0.1)\">\r\n       <defs>\r\n        <path d=\"M 2113 2584 \r\nQ 1688 2584 1439 2293 \r\nQ 1191 2003 1191 1497 \r\nQ 1191 994 1439 701 \r\nQ 1688 409 2113 409 \r\nQ 2538 409 2786 701 \r\nQ 3034 994 3034 1497 \r\nQ 3034 2003 2786 2293 \r\nQ 2538 2584 2113 2584 \r\nz\r\nM 3366 4563 \r\nL 3366 3988 \r\nQ 3128 4100 2886 4159 \r\nQ 2644 4219 2406 4219 \r\nQ 1781 4219 1451 3797 \r\nQ 1122 3375 1075 2522 \r\nQ 1259 2794 1537 2939 \r\nQ 1816 3084 2150 3084 \r\nQ 2853 3084 3261 2657 \r\nQ 3669 2231 3669 1497 \r\nQ 3669 778 3244 343 \r\nQ 2819 -91 2113 -91 \r\nQ 1303 -91 875 529 \r\nQ 447 1150 447 2328 \r\nQ 447 3434 972 4092 \r\nQ 1497 4750 2381 4750 \r\nQ 2619 4750 2861 4703 \r\nQ 3103 4656 3366 4563 \r\nz\r\n\" id=\"DejaVuSans-36\" transform=\"scale(0.015625)\"/>\r\n       </defs>\r\n       <use xlink:href=\"#DejaVuSans-2212\"/>\r\n       <use x=\"83.789062\" xlink:href=\"#DejaVuSans-31\"/>\r\n       <use x=\"147.412109\" xlink:href=\"#DejaVuSans-31\"/>\r\n       <use x=\"211.035156\" xlink:href=\"#DejaVuSans-36\"/>\r\n       <use x=\"274.658203\" xlink:href=\"#DejaVuSans-30\"/>\r\n      </g>\r\n     </g>\r\n    </g>\r\n    <g id=\"ytick_5\">\r\n     <g id=\"line2d_12\">\r\n      <g>\r\n       <use style=\"stroke:#000000;stroke-width:0.8;\" x=\"48.029688\" xlink:href=\"#m2afe022190\" y=\"21.76379\"/>\r\n      </g>\r\n     </g>\r\n     <g id=\"text_12\">\r\n      <!-- −1140 -->\r\n      <g transform=\"translate(7.2 25.563008)scale(0.1 -0.1)\">\r\n       <defs>\r\n        <path d=\"M 2419 4116 \r\nL 825 1625 \r\nL 2419 1625 \r\nL 2419 4116 \r\nz\r\nM 2253 4666 \r\nL 3047 4666 \r\nL 3047 1625 \r\nL 3713 1625 \r\nL 3713 1100 \r\nL 3047 1100 \r\nL 3047 0 \r\nL 2419 0 \r\nL 2419 1100 \r\nL 313 1100 \r\nL 313 1709 \r\nL 2253 4666 \r\nz\r\n\" id=\"DejaVuSans-34\" transform=\"scale(0.015625)\"/>\r\n       </defs>\r\n       <use xlink:href=\"#DejaVuSans-2212\"/>\r\n       <use x=\"83.789062\" xlink:href=\"#DejaVuSans-31\"/>\r\n       <use x=\"147.412109\" xlink:href=\"#DejaVuSans-31\"/>\r\n       <use x=\"211.035156\" xlink:href=\"#DejaVuSans-34\"/>\r\n       <use x=\"274.658203\" xlink:href=\"#DejaVuSans-30\"/>\r\n      </g>\r\n     </g>\r\n    </g>\r\n   </g>\r\n   <g id=\"line2d_13\">\r\n    <path clip-path=\"url(#p4608b91e41)\" d=\"M 63.247869 214.756364 \r\nL 68.354642 191.34887 \r\nL 71.418705 178.979103 \r\nL 82.653605 135.183015 \r\nL 86.739022 120.401774 \r\nL 92.867149 99.57608 \r\nL 95.931213 90.615742 \r\nL 102.05934 73.071757 \r\nL 104.102049 67.729477 \r\nL 106.144758 63.406392 \r\nL 110.230176 55.236111 \r\nL 114.315594 48.157769 \r\nL 121.465075 38.522621 \r\nL 125.550493 32.70507 \r\nL 126.571847 31.484848 \r\nL 127.593202 30.528438 \r\nL 130.657265 29.147918 \r\nL 137.806747 26.038627 \r\nL 139.849456 24.779962 \r\nL 141.892165 23.470659 \r\nL 142.913519 22.924243 \r\nL 144.956228 22.338221 \r\nL 152.105709 20.931758 \r\nL 156.191127 19.834269 \r\nL 162.319254 18.024639 \r\nL 165.383318 17.549157 \r\nL 167.426027 17.251836 \r\nL 176.618217 17.083636 \r\nL 179.682281 17.275382 \r\nL 188.874471 18.66998 \r\nL 191.938534 18.580893 \r\nL 198.066661 18.316676 \r\nL 203.173434 18.436011 \r\nL 206.237497 18.74654 \r\nL 218.493751 20.586773 \r\nL 224.621878 21.440875 \r\nL 229.72865 22.341123 \r\nL 262.411994 30.018618 \r\nL 266.497412 31.526039 \r\nL 269.561475 32.623534 \r\nL 279.77502 35.120243 \r\nL 284.881792 36.204476 \r\nL 291.009919 37.534556 \r\nL 295.095337 38.108376 \r\nL 309.3943 38.287378 \r\nL 314.501072 38.08236 \r\nL 330.842744 36.839654 \r\nL 333.906808 36.790786 \r\nL 339.01358 36.977481 \r\nL 354.333897 38.334417 \r\nL 367.611506 39.061832 \r\nL 367.611506 39.061832 \r\n\" style=\"fill:none;stroke:#1f77b4;stroke-linecap:square;stroke-width:1.5;\"/>\r\n   </g>\r\n   <g id=\"patch_3\">\r\n    <path d=\"M 48.029688 224.64 \r\nL 48.029688 7.2 \r\n\" style=\"fill:none;stroke:#000000;stroke-linecap:square;stroke-linejoin:miter;stroke-width:0.8;\"/>\r\n   </g>\r\n   <g id=\"patch_4\">\r\n    <path d=\"M 382.829688 224.64 \r\nL 382.829688 7.2 \r\n\" style=\"fill:none;stroke:#000000;stroke-linecap:square;stroke-linejoin:miter;stroke-width:0.8;\"/>\r\n   </g>\r\n   <g id=\"patch_5\">\r\n    <path d=\"M 48.029688 224.64 \r\nL 382.829688 224.64 \r\n\" style=\"fill:none;stroke:#000000;stroke-linecap:square;stroke-linejoin:miter;stroke-width:0.8;\"/>\r\n   </g>\r\n   <g id=\"patch_6\">\r\n    <path d=\"M 48.029688 7.2 \r\nL 382.829688 7.2 \r\n\" style=\"fill:none;stroke:#000000;stroke-linecap:square;stroke-linejoin:miter;stroke-width:0.8;\"/>\r\n   </g>\r\n  </g>\r\n </g>\r\n <defs>\r\n  <clipPath id=\"p4608b91e41\">\r\n   <rect height=\"217.44\" width=\"334.8\" x=\"48.029688\" y=\"7.2\"/>\r\n  </clipPath>\r\n </defs>\r\n</svg>\r\n",
      "image/png": "[encoded data removed]"
     },
     "metadata": {
      "needs_background": "light"
     }
    }
   ],
   "source": [
    "alpha = []\n",
    "error = []\n",
    "\n",
    "for i in range(1,300):\n",
    "    alpha.append(i/10)\n",
    "    lml = Lasso(alpha=(i/10))\n",
    "    error.append(np.mean(cross_val_score(lml,X_train,y_train, scoring = 'neg_mean_absolute_error', cv= 3)))\n",
    "    \n",
    "plt.plot(alpha,error)"
   ]
  },
  {
   "cell_type": "code",
   "execution_count": 31,
   "metadata": {},
   "outputs": [
    {
     "output_type": "execute_result",
     "data": {
      "text/plain": [
       "     alpha        error\n",
       "111   11.2 -1137.938204"
      ],
      "text/html": "<div>\n<style scoped>\n    .dataframe tbody tr th:only-of-type {\n        vertical-align: middle;\n    }\n\n    .dataframe tbody tr th {\n        vertical-align: top;\n    }\n\n    .dataframe thead th {\n        text-align: right;\n    }\n</style>\n<table border=\"1\" class=\"dataframe\">\n  <thead>\n    <tr style=\"text-align: right;\">\n      <th></th>\n      <th>alpha</th>\n      <th>error</th>\n    </tr>\n  </thead>\n  <tbody>\n    <tr>\n      <th>111</th>\n      <td>11.2</td>\n      <td>-1137.938204</td>\n    </tr>\n  </tbody>\n</table>\n</div>"
     },
     "metadata": {},
     "execution_count": 31
    }
   ],
   "source": [
    "err = tuple(zip(alpha,error))\n",
    "df_err = pd.DataFrame(err, columns = ['alpha','error'])\n",
    "df_err[df_err.error == max(df_err.error)]"
   ]
  },
  {
   "cell_type": "code",
   "execution_count": 32,
   "metadata": {},
   "outputs": [
    {
     "output_type": "execute_result",
     "data": {
      "text/plain": [
       "-1222.2081065654695"
      ]
     },
     "metadata": {},
     "execution_count": 32
    }
   ],
   "source": [
    "#Random Forest\n",
    "from sklearn.ensemble import RandomForestRegressor\n",
    "rf = RandomForestRegressor()\n",
    "\n",
    "np.mean(cross_val_score(rf,X_train,y_train,scoring = 'neg_mean_absolute_error', cv= 3))"
   ]
  },
  {
   "cell_type": "code",
   "execution_count": 101,
   "metadata": {},
   "outputs": [
    {
     "output_type": "execute_result",
     "data": {
      "text/plain": [
       "RandomForestRegressor(criterion='mae', n_estimators=60)"
      ]
     },
     "metadata": {},
     "execution_count": 101
    }
   ],
   "source": [
    "#Using GridSearchCV to locate best parameters for Random Forest\n",
    "from sklearn.model_selection import GridSearchCV\n",
    "parameters = {'n_estimators':range(10,300,10), 'criterion':('mse','mae'), 'max_features':('auto','sqrt','log2')}\n",
    "\n",
    "gs_rf = GridSearchCV(rf,parameters,scoring='neg_mean_absolute_error',cv=3)\n",
    "gs_rf.fit(X_train,y_train)\n"
   ]
  },
  {
   "cell_type": "code",
   "execution_count": 103,
   "metadata": {},
   "outputs": [
    {
     "output_type": "execute_result",
     "data": {
      "text/plain": [
       "-1182.3374573203341"
      ]
     },
     "metadata": {},
     "execution_count": 103
    }
   ],
   "source": [
    "print(gs_rf.best_score_)\n",
    "print(gs_rf.best_estimator_)"
   ]
  },
  {
   "cell_type": "code",
   "execution_count": 73,
   "metadata": {},
   "outputs": [
    {
     "output_type": "execute_result",
     "data": {
      "text/plain": [
       "-1239.2675049307172"
      ]
     },
     "metadata": {},
     "execution_count": 73
    }
   ],
   "source": [
    "#Gradient Boosting\n",
    "from sklearn.ensemble import GradientBoostingRegressor\n",
    "gb = GradientBoostingRegressor(random_state=0)\n",
    "gb.fit(X_train, y_train)\n",
    "np.mean(cross_val_score(gb,X_train,y_train,scoring = 'neg_mean_absolute_error', cv= 3))\n"
   ]
  },
  {
   "cell_type": "code",
   "execution_count": 98,
   "metadata": {
    "tags": []
   },
   "outputs": [
    {
     "output_type": "execute_result",
     "data": {
      "text/plain": [
       "GridSearchCV(cv=3, estimator=GradientBoostingRegressor(random_state=0),\n",
       "             param_grid={'loss': ('lad',),\n",
       "                         'max_features': ('auto', 'sqrt', 'log2'),\n",
       "                         'n_estimators': range(10, 300, 10)},\n",
       "             scoring='neg_mean_absolute_error')"
      ]
     },
     "metadata": {},
     "execution_count": 98
    }
   ],
   "source": [
    "#Using GridSearchCV to locate best parameters for Gradient Boosting\n",
    "from sklearn.model_selection import GridSearchCV\n",
    "parameters = {'n_estimators':range(10,300,10), 'loss':('lad',), 'max_features':('auto','sqrt','log2')}\n",
    "\n",
    "gs_gb = GridSearchCV(gb,parameters,scoring='neg_mean_absolute_error',cv=3)\n",
    "gs_gb.fit(X_train,y_train)\n"
   ]
  },
  {
   "cell_type": "code",
   "execution_count": 99,
   "metadata": {},
   "outputs": [
    {
     "output_type": "stream",
     "name": "stdout",
     "text": [
      "-1142.339618311585\nGradientBoostingRegressor(loss='lad', max_features='auto', n_estimators=240,\n                          random_state=0)\n"
     ]
    }
   ],
   "source": [
    "print(gs_gb.best_score_)\n",
    "print(gs_gb.best_estimator_)"
   ]
  },
  {
   "cell_type": "code",
   "execution_count": 83,
   "metadata": {},
   "outputs": [
    {
     "output_type": "execute_result",
     "data": {
      "text/plain": [
       "-1278.3514593360483"
      ]
     },
     "metadata": {},
     "execution_count": 83
    }
   ],
   "source": [
    "#Bagging\n",
    "from sklearn.ensemble import BaggingRegressor\n",
    "\n",
    "bc = BaggingRegressor(n_estimators=10, random_state=0)\n",
    "bc.fit(X_train, y_train)\n",
    "np.mean(cross_val_score(bc,X_train,y_train,scoring = 'neg_mean_absolute_error', cv= 3))"
   ]
  },
  {
   "cell_type": "code",
   "execution_count": 107,
   "metadata": {
    "tags": []
   },
   "outputs": [
    {
     "output_type": "execute_result",
     "data": {
      "text/plain": [
       "GridSearchCV(cv=3, estimator=BaggingRegressor(random_state=0),\n",
       "             param_grid={'bootstrap': [True, False],\n",
       "                         'bootstrap_features': [True, False],\n",
       "                         'n_estimators': range(10, 300, 10)},\n",
       "             scoring='neg_mean_absolute_error')"
      ]
     },
     "metadata": {},
     "execution_count": 107
    }
   ],
   "source": [
    "#Using GridSearchCV to locate best parameters for Bagging Classifier\n",
    "parameters = {'n_estimators':range(10,300,10),  'bootstrap': [True, False], 'bootstrap_features': [True, False]}\n",
    "\n",
    "gs_bc = GridSearchCV(bc,parameters,scoring='neg_mean_absolute_error',cv=3)\n",
    "gs_bc.fit(X_train,y_train)"
   ]
  },
  {
   "cell_type": "code",
   "execution_count": 109,
   "metadata": {},
   "outputs": [
    {
     "output_type": "stream",
     "name": "stdout",
     "text": [
      "-1185.7741159142731\nBaggingRegressor(bootstrap_features=True, n_estimators=290, random_state=0)\n"
     ]
    }
   ],
   "source": [
    "print(gs_bc.best_score_)\n",
    "print(gs_bc.best_estimator_)"
   ]
  },
  {
   "cell_type": "code",
   "execution_count": 38,
   "metadata": {},
   "outputs": [
    {
     "output_type": "execute_result",
     "data": {
      "text/plain": [
       "array([ 6016.73669553, 10340.14083878,  2468.76857068,  4545.96029862,\n",
       "        5489.08639933,  1278.97703036,  6863.18694882,  8426.21286459,\n",
       "        8399.50013242,  9219.55980982,  8095.05331281,  5209.02394864,\n",
       "        5466.99211928,  5275.83051054,  4545.96029862,  4466.15789036,\n",
       "        6375.33548789,  1567.36195117,  6790.13082459,  3508.42393645,\n",
       "        5529.70856255,  3879.47935691,  2468.76857068,  6004.29097111,\n",
       "        9736.10830558,  5998.54396357,  7707.00093115, 10232.46557763,\n",
       "        6382.43778771,  8962.66503152,  7333.29896853,  4212.52491846,\n",
       "        7655.42515228,  5794.70965029,  5272.78619761,  4921.52932604,\n",
       "        4131.48290417,  2336.07922983,  6883.28504401,  5814.82742521,\n",
       "        4383.91337057, 10097.83310556,  8218.13808378,  8108.23759988,\n",
       "        9194.09608824,  7642.23493422,  5255.70644411,  4799.27398575,\n",
       "        3595.80238368,  4880.40237205,  4212.52491846,  8218.13808378,\n",
       "        7173.99474792,  6515.17504317,  6480.56090617,  5852.09028592,\n",
       "        7468.11634011,  5691.21048033,  6907.47671929,  7690.04583848,\n",
       "       13369.21672095,  6223.52037114,  4269.29805948,  3222.26685624,\n",
       "        6248.15811393,  3739.62447455,  6668.42156448,  2354.91830176,\n",
       "        7080.09073942,  5263.19650734,  5814.4842165 ,  4970.76024989,\n",
       "        6545.56544095,  7887.02135776])"
      ]
     },
     "metadata": {},
     "execution_count": 38
    }
   ],
   "source": [
    "tpred_lm = lm.predict(X_test)\n",
    "tpred_lm"
   ]
  },
  {
   "cell_type": "code",
   "execution_count": 39,
   "metadata": {},
   "outputs": [
    {
     "output_type": "execute_result",
     "data": {
      "text/plain": [
       "array([ 6022.6897708 , 10350.06735099,  2467.17106545,  4546.00308454,\n",
       "        5493.7519244 ,  1288.90444576,  6870.41199073,  8439.18758724,\n",
       "        8391.00511941,  9208.25270623,  8093.26757738,  5164.13409879,\n",
       "        5460.43869074,  5281.47017401,  4546.00308454,  4454.89817132,\n",
       "        6375.66620886,  1632.7195402 ,  6806.18290041,  3506.23735776,\n",
       "        5527.94938212,  3871.97890071,  2467.17106545,  6011.14542492,\n",
       "        9707.0472229 ,  6002.55481043,  7699.93647479, 10208.7339691 ,\n",
       "        6375.453607  ,  8958.48841168,  7328.6694712 ,  4212.05274311,\n",
       "        7647.82599667,  5793.30608912,  5227.78254128,  4925.17192462,\n",
       "        4118.26864725,  2334.60749726,  6887.64861269,  5813.79641182,\n",
       "        4395.29444456, 10091.78096656,  8219.78983533,  8102.07394453,\n",
       "        9183.16255064,  7634.82471845,  5249.12094542,  4806.09988262,\n",
       "        3599.0987722 ,  4878.45048241,  4212.05274311,  8219.78983533,\n",
       "        7177.40913838,  6517.15479339,  6481.16114232,  5847.89035439,\n",
       "        7465.21951663,  5656.09178382,  6904.03755673,  7698.9187131 ,\n",
       "       13344.0011755 ,  6232.27507704,  4267.88506434,  3201.62378653,\n",
       "        6253.28437725,  3743.21527072,  6660.91078132,  2361.48754585,\n",
       "        7047.69140335,  5261.30972079,  5807.1716367 ,  4974.92837715,\n",
       "        6538.8579647 ,  7886.18149501])"
      ]
     },
     "metadata": {},
     "execution_count": 39
    }
   ],
   "source": [
    "tpred_lml = lm_l.predict(X_test)\n",
    "tpred_lml"
   ]
  },
  {
   "cell_type": "code",
   "execution_count": 40,
   "metadata": {},
   "outputs": [
    {
     "output_type": "execute_result",
     "data": {
      "text/plain": [
       "array([ 5996.73913043,  9349.34782609,  2691.31521739,  6731.95652174,\n",
       "        5776.7826087 ,  2571.26086957,  7811.65217391,  7853.80434783,\n",
       "        8146.19565217,  8439.7826087 ,  7569.89130435,  5707.06521739,\n",
       "        5419.2173913 ,  5194.7173913 ,  6731.95652174,  4444.02173913,\n",
       "        6532.39130435,  4820.32608696,  6693.69565217,  3731.38043478,\n",
       "        5165.2173913 ,  3367.95652174,  2691.31521739,  6389.65217391,\n",
       "        8133.60869565,  5650.97826087,  7436.95652174,  9376.84782609,\n",
       "        6587.93478261,  8336.95652174,  5702.82608696,  4605.52173913,\n",
       "        6712.17391304,  5572.82608696,  5818.58695652,  4562.39130435,\n",
       "        4027.09782609,  2818.91304348,  6833.80434783,  5618.30434783,\n",
       "        5724.        ,  8210.76086957,  6864.82608696,  7063.15217391,\n",
       "        9064.02173913,  6855.43478261,  4383.60869565,  5167.39130435,\n",
       "        4941.93478261,  4109.45652174,  4605.52173913,  6864.82608696,\n",
       "        7311.73913043,  6755.        ,  6546.08695652,  4997.73913043,\n",
       "        6606.95652174,  5551.95652174,  5764.67391304,  7440.76086957,\n",
       "       10208.80434783,  6764.91304348,  4569.06521739,  4030.06521739,\n",
       "        5877.39130435,  6409.95652174,  5833.84782609,  2585.43478261,\n",
       "        7240.        ,  5608.58695652,  5987.06521739,  5906.54347826,\n",
       "        6220.2173913 ,  6840.65217391])"
      ]
     },
     "metadata": {},
     "execution_count": 40
    }
   ],
   "source": [
    "\n",
    "tpred_rf = gs_rf.best_estimator_.predict(X_test)\n",
    "tpred_rf"
   ]
  },
  {
   "cell_type": "code",
   "execution_count": 111,
   "metadata": {},
   "outputs": [
    {
     "output_type": "execute_result",
     "data": {
      "text/plain": [
       "array([ 6699.37749436, 10205.09929069,  2108.66511643,  5651.86912334,\n",
       "        6106.39435561,  2120.90904111,  7463.64261414,  8678.9830083 ,\n",
       "        6664.69211695,  7196.10148067,  6527.1495214 ,  5464.69096619,\n",
       "        4581.06074401,  4558.84443323,  5651.86912334,  2969.19722647,\n",
       "        6788.90606561,  4486.31485734,  7261.11875464,  3360.05730036,\n",
       "        4293.10763201,  3763.09406151,  2108.66511643,  6206.89993778,\n",
       "        6839.08209839,  5324.37706794,  7633.26638839, 10339.72437638,\n",
       "        5457.65752782,  8364.40586978,  6231.27132632,  4268.74488002,\n",
       "        4631.71913554,  5158.87185046,  5461.59336099,  4445.45005757,\n",
       "        4601.87949313,  3182.81635104,  6737.84759562,  5642.76147897,\n",
       "        4985.16616892,  8382.16950102,  6842.54807206,  6404.206691  ,\n",
       "        7424.36755886,  6871.50737557,  4193.79838095,  5757.95727917,\n",
       "        3885.6454626 ,  4185.1581457 ,  4268.74488002,  6842.54807206,\n",
       "        6834.15324423,  7058.40545732,  6780.53592962,  5183.33287999,\n",
       "        6802.90738526,  5838.22395106,  6094.17964506,  7538.22255536,\n",
       "        9460.77185599,  7504.63646512,  4152.4774775 ,  3423.5717304 ,\n",
       "        5873.17048197,  4835.56710736,  5410.27786035,  2509.84040884,\n",
       "        6969.08608024,  5672.10015365,  5045.04686218,  5921.76524492,\n",
       "        5308.69562676,  6356.34727369])"
      ]
     },
     "metadata": {},
     "execution_count": 111
    }
   ],
   "source": [
    "tpred_gb = gs_gb.best_estimator_.predict(X_test)\n",
    "tpred_gb"
   ]
  },
  {
   "cell_type": "code",
   "execution_count": 112,
   "metadata": {},
   "outputs": [
    {
     "output_type": "execute_result",
     "data": {
      "text/plain": [
       "array([ 6434.64778325,  9871.50862069,  2565.48121921,  6055.00287356,\n",
       "        5880.35153257,  2631.40995484,  7850.87602627,  8721.59277504,\n",
       "        7873.17049808,  9067.4137931 ,  7866.02011494,  5677.75862069,\n",
       "        5408.82060755,  4475.64655172,  6055.00287356,  3972.2179803 ,\n",
       "        6766.62931034,  4867.19376026,  6531.4819376 ,  3436.9454023 ,\n",
       "        4972.29885057,  3432.73563218,  2565.48121921,  6147.7865353 ,\n",
       "        7525.27298851,  5959.1277327 ,  7016.90948276, 10089.85837438,\n",
       "        6953.17200328,  8480.79022989,  5758.05931856,  4644.94106899,\n",
       "        6001.38649425,  5792.27873563,  5972.84482759,  4433.81321839,\n",
       "        4298.7183908 ,  2936.77791461,  6675.05353918,  5458.48515326,\n",
       "        5775.59031199,  9531.6954023 ,  6913.18390805,  7165.28872469,\n",
       "        9283.54885057,  6885.27969349,  4384.92528736,  4983.82681906,\n",
       "        4396.8908046 ,  4341.49952107,  4644.94106899,  6913.18390805,\n",
       "        6969.44745484,  6613.0681445 ,  6819.95011789,  5227.3591954 ,\n",
       "        6795.9802726 ,  5351.09071197,  5813.78516914,  7547.01149425,\n",
       "       10971.23563218,  7206.18390805,  4281.20296446,  3861.82942947,\n",
       "        6192.57183908,  5995.11925287,  6306.37931034,  2549.19622332,\n",
       "        6871.92911877,  5545.00164204,  6310.40843352,  5647.75862069,\n",
       "        6296.80418719,  6828.29022989])"
      ]
     },
     "metadata": {},
     "execution_count": 112
    }
   ],
   "source": [
    "tpred_bc = gs_bc.best_estimator_.predict(X_test)\n",
    "tpred_bc"
   ]
  },
  {
   "cell_type": "code",
   "execution_count": 113,
   "metadata": {},
   "outputs": [
    {
     "output_type": "stream",
     "name": "stdout",
     "text": [
      "1415.730761040994\n1414.6088468143355\n1326.6101645123383\n1434.8165377536004\n1362.1875779944112\n1300.8470770412684\n"
     ]
    }
   ],
   "source": [
    "from sklearn.metrics import mean_absolute_error\n",
    "print(mean_absolute_error(y_test,tpred_lm))\n",
    "print(mean_absolute_error(y_test,tpred_lml))\n",
    "print(mean_absolute_error(y_test,tpred_rf))\n",
    "print(mean_absolute_error(y_test,tpred_gb))\n",
    "print(mean_absolute_error(y_test,tpred_bc))\n",
    "print(mean_absolute_error(y_test,(tpred_lm+tpred_rf)/2))"
   ]
  },
  {
   "cell_type": "code",
   "execution_count": 86,
   "metadata": {},
   "outputs": [
    {
     "output_type": "execute_result",
     "data": {
      "text/plain": [
       "[10,\n",
       " 0,\n",
       " 0,\n",
       " 1,\n",
       " 0,\n",
       " 0,\n",
       " 1,\n",
       " 0,\n",
       " 0,\n",
       " 0,\n",
       " 0,\n",
       " 2156,\n",
       " 1,\n",
       " 0,\n",
       " 0,\n",
       " 0,\n",
       " 0,\n",
       " 0,\n",
       " 0,\n",
       " 0,\n",
       " 0,\n",
       " 0,\n",
       " 0,\n",
       " 1,\n",
       " 0,\n",
       " 0,\n",
       " 0,\n",
       " 0,\n",
       " 0,\n",
       " 0,\n",
       " 0,\n",
       " 0,\n",
       " 0,\n",
       " 1,\n",
       " 0,\n",
       " 0,\n",
       " 0,\n",
       " 0,\n",
       " 1,\n",
       " 0,\n",
       " 0,\n",
       " 0,\n",
       " 0,\n",
       " 0,\n",
       " 0,\n",
       " 0,\n",
       " 0,\n",
       " 0,\n",
       " 0,\n",
       " 0,\n",
       " 0,\n",
       " 0,\n",
       " 0,\n",
       " 0,\n",
       " 0]"
      ]
     },
     "metadata": {},
     "execution_count": 86
    }
   ],
   "source": [
    "import pickle\n",
    "pickl = {'model': gs.best_estimator_}\n",
    "pickle.dump( pickl, open( 'model_file' + \".p\", \"wb\" ) )\n",
    "\n",
    "file_name = \"model_file.p\"\n",
    "with open(file_name, 'rb') as pickled:\n",
    "    data = pickle.load(pickled)\n",
    "    model = data['model']\n",
    "\n",
    "model.predict(np.array(list(X_test.iloc[1,:])).reshape(1,-1))[0]\n",
    "\n",
    "list(X_test.iloc[1,:])"
   ]
  },
  {
   "cell_type": "code",
   "execution_count": null,
   "metadata": {},
   "outputs": [],
   "source": []
  }
 ]
}