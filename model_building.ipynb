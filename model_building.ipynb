{
 "metadata": {
  "language_info": {
   "codemirror_mode": {
    "name": "ipython",
    "version": 3
   },
   "file_extension": ".py",
   "mimetype": "text/x-python",
   "name": "python",
   "nbconvert_exporter": "python",
   "pygments_lexer": "ipython3",
   "version": 3
  },
  "orig_nbformat": 2
 },
 "nbformat": 4,
 "nbformat_minor": 2,
 "cells": [
  {
   "source": [
    "# Model Building\n",
    "\n",
    "1. Train-test split\n",
    "\n",
    "2. Multiple Linear Regression\n",
    "\n",
    "3. Lasso Regression\n",
    "\n",
    "4. Random Forest Regression\n",
    "\n",
    "5. Gradient Boosting Regression\n",
    "\n",
    "6. Bagging Regression\n",
    "\n",
    "7. Tune models using GridsearchCV\n",
    "\n",
    "8. Test Ensembles\n"
   ],
   "cell_type": "markdown",
   "metadata": {}
  }
 ]
}