{
 "metadata": {
  "language_info": {
   "codemirror_mode": {
    "name": "ipython",
    "version": 3
   },
   "file_extension": ".py",
   "mimetype": "text/x-python",
   "name": "python",
   "nbconvert_exporter": "python",
   "pygments_lexer": "ipython3",
   "version": "3.9.5"
  },
  "orig_nbformat": 2,
  "kernelspec": {
   "name": "python395jvsc74a57bd09c6bdcf356e3596871587ac993f00432123db66f2a0825ddef4b2f0e6b7efa9f",
   "display_name": "Python 3.9.5 64-bit"
  },
  "metadata": {
   "interpreter": {
    "hash": "9c6bdcf356e3596871587ac993f00432123db66f2a0825ddef4b2f0e6b7efa9f"
   }
  }
 },
 "nbformat": 4,
 "nbformat_minor": 2,
 "cells": [
  {
   "cell_type": "code",
   "execution_count": 224,
   "metadata": {},
   "outputs": [],
   "source": [
    "import pandas as pd\n",
    "from re import sub\n"
   ]
  },
  {
   "cell_type": "code",
   "execution_count": 225,
   "metadata": {},
   "outputs": [],
   "source": [
    "df = pd.read_csv(\"jobs.csv\")"
   ]
  },
  {
   "cell_type": "code",
   "execution_count": 226,
   "metadata": {},
   "outputs": [
    {
     "output_type": "execute_result",
     "data": {
      "text/plain": [
       "   Unnamed: 0                             company  \\\n",
       "0           0     DELIVERY HERO APAC PTE. LIMITED   \n",
       "1           1       HELIUS TECHNOLOGIES PTE. LTD.   \n",
       "2           2   COMFORTDELGRO CORPORATION LIMITED   \n",
       "3           3     DARAZ SINGAPORE PRIVATE LIMITED   \n",
       "4           4  BIPO SERVICE (SINGAPORE) PTE. LTD.   \n",
       "\n",
       "                       job_title        listing_id  \\\n",
       "0  Data Analyst - Fintech (APAC)  MCF-2021-0240128   \n",
       "1            Senior Data Analyst  MCF-2021-0238815   \n",
       "2                   Data Analyst  MCF-2021-0190739   \n",
       "3          Regional Data Analyst  MCF-2021-0240086   \n",
       "4    Data Analyst Lead / Manager  MCF-2021-0240396   \n",
       "\n",
       "                                         address       employment_type  \\\n",
       "0  CROSS STREET EXCHANGE, 18 CROSS STREET 048423             Full Time   \n",
       "1                                     Islandwide             Full Time   \n",
       "2                       205 BRADDELL ROAD 579701  Permanent, Full Time   \n",
       "3                AXA TOWER, 8 SHENTON WAY 068811             Full Time   \n",
       "4                                     Islandwide             Permanent   \n",
       "\n",
       "          seniority      min_exp                 job_cat     salary_range  \\\n",
       "0  Junior Executive  2 years exp  Information Technology   $5,000to$8,500   \n",
       "1  Senior Executive  6 years exp  Information Technology   $6,800to$9,000   \n",
       "2  Senior Executive  2 years exp                  Others   $4,500to$7,000   \n",
       "3  Senior Executive  3 years exp  Information Technology   $6,000to$9,000   \n",
       "4           Manager  5 years exp     Banking and Finance  $9,000to$15,000   \n",
       "\n",
       "  salary_unit         date_posted             date_expiry  \\\n",
       "0     Monthly  Posted 27 May 2021  Closing on 26 Jun 2021   \n",
       "1     Monthly  Posted 27 May 2021  Closing on 26 Jun 2021   \n",
       "2     Monthly  Posted 28 Apr 2021  Closing on 28 May 2021   \n",
       "3     Monthly  Posted 27 May 2021  Closing on 26 Jun 2021   \n",
       "4     Monthly  Posted 27 May 2021  Closing on 26 Jun 2021   \n",
       "\n",
       "                                     job_description  \n",
       "0  Roles & Responsibilities\\nWe are looking for a...  \n",
       "1  Roles & Responsibilities\\nTitle: Senior Data A...  \n",
       "2  Roles & Responsibilities\\nWho are We Looking F...  \n",
       "3  Roles & Responsibilities\\nWe are looking for a...  \n",
       "4  Roles & Responsibilities\\nJob Description:\\nLe...  "
      ],
      "text/html": "<div>\n<style scoped>\n    .dataframe tbody tr th:only-of-type {\n        vertical-align: middle;\n    }\n\n    .dataframe tbody tr th {\n        vertical-align: top;\n    }\n\n    .dataframe thead th {\n        text-align: right;\n    }\n</style>\n<table border=\"1\" class=\"dataframe\">\n  <thead>\n    <tr style=\"text-align: right;\">\n      <th></th>\n      <th>Unnamed: 0</th>\n      <th>company</th>\n      <th>job_title</th>\n      <th>listing_id</th>\n      <th>address</th>\n      <th>employment_type</th>\n      <th>seniority</th>\n      <th>min_exp</th>\n      <th>job_cat</th>\n      <th>salary_range</th>\n      <th>salary_unit</th>\n      <th>date_posted</th>\n      <th>date_expiry</th>\n      <th>job_description</th>\n    </tr>\n  </thead>\n  <tbody>\n    <tr>\n      <th>0</th>\n      <td>0</td>\n      <td>DELIVERY HERO APAC PTE. LIMITED</td>\n      <td>Data Analyst - Fintech (APAC)</td>\n      <td>MCF-2021-0240128</td>\n      <td>CROSS STREET EXCHANGE, 18 CROSS STREET 048423</td>\n      <td>Full Time</td>\n      <td>Junior Executive</td>\n      <td>2 years exp</td>\n      <td>Information Technology</td>\n      <td>$5,000to$8,500</td>\n      <td>Monthly</td>\n      <td>Posted 27 May 2021</td>\n      <td>Closing on 26 Jun 2021</td>\n      <td>Roles &amp; Responsibilities\\nWe are looking for a...</td>\n    </tr>\n    <tr>\n      <th>1</th>\n      <td>1</td>\n      <td>HELIUS TECHNOLOGIES PTE. LTD.</td>\n      <td>Senior Data Analyst</td>\n      <td>MCF-2021-0238815</td>\n      <td>Islandwide</td>\n      <td>Full Time</td>\n      <td>Senior Executive</td>\n      <td>6 years exp</td>\n      <td>Information Technology</td>\n      <td>$6,800to$9,000</td>\n      <td>Monthly</td>\n      <td>Posted 27 May 2021</td>\n      <td>Closing on 26 Jun 2021</td>\n      <td>Roles &amp; Responsibilities\\nTitle: Senior Data A...</td>\n    </tr>\n    <tr>\n      <th>2</th>\n      <td>2</td>\n      <td>COMFORTDELGRO CORPORATION LIMITED</td>\n      <td>Data Analyst</td>\n      <td>MCF-2021-0190739</td>\n      <td>205 BRADDELL ROAD 579701</td>\n      <td>Permanent, Full Time</td>\n      <td>Senior Executive</td>\n      <td>2 years exp</td>\n      <td>Others</td>\n      <td>$4,500to$7,000</td>\n      <td>Monthly</td>\n      <td>Posted 28 Apr 2021</td>\n      <td>Closing on 28 May 2021</td>\n      <td>Roles &amp; Responsibilities\\nWho are We Looking F...</td>\n    </tr>\n    <tr>\n      <th>3</th>\n      <td>3</td>\n      <td>DARAZ SINGAPORE PRIVATE LIMITED</td>\n      <td>Regional Data Analyst</td>\n      <td>MCF-2021-0240086</td>\n      <td>AXA TOWER, 8 SHENTON WAY 068811</td>\n      <td>Full Time</td>\n      <td>Senior Executive</td>\n      <td>3 years exp</td>\n      <td>Information Technology</td>\n      <td>$6,000to$9,000</td>\n      <td>Monthly</td>\n      <td>Posted 27 May 2021</td>\n      <td>Closing on 26 Jun 2021</td>\n      <td>Roles &amp; Responsibilities\\nWe are looking for a...</td>\n    </tr>\n    <tr>\n      <th>4</th>\n      <td>4</td>\n      <td>BIPO SERVICE (SINGAPORE) PTE. LTD.</td>\n      <td>Data Analyst Lead / Manager</td>\n      <td>MCF-2021-0240396</td>\n      <td>Islandwide</td>\n      <td>Permanent</td>\n      <td>Manager</td>\n      <td>5 years exp</td>\n      <td>Banking and Finance</td>\n      <td>$9,000to$15,000</td>\n      <td>Monthly</td>\n      <td>Posted 27 May 2021</td>\n      <td>Closing on 26 Jun 2021</td>\n      <td>Roles &amp; Responsibilities\\nJob Description:\\nLe...</td>\n    </tr>\n  </tbody>\n</table>\n</div>"
     },
     "metadata": {},
     "execution_count": 226
    }
   ],
   "source": [
    "df.head()"
   ]
  },
  {
   "source": [
    "## Re-categorise job_titles"
   ],
   "cell_type": "markdown",
   "metadata": {}
  },
  {
   "cell_type": "code",
   "execution_count": 227,
   "metadata": {},
   "outputs": [
    {
     "output_type": "execute_result",
     "data": {
      "text/plain": [
       "array(['Data Analyst - Fintech (APAC)', 'Senior Data Analyst',\n",
       "       'Data Analyst', 'Regional Data Analyst',\n",
       "       'Data Analyst Lead / Manager', 'Quality Data Analyst',\n",
       "       'Senior Data Management Business Analyst',\n",
       "       'Data Migration Analyst - Contract = 12 months',\n",
       "       'Techno-Functional Business Analyst, Data Protection Program',\n",
       "       'Senior / Analyst (Heath Informatics and Data Analytics)',\n",
       "       'Technical Business Analyst, Data Solution',\n",
       "       'Data Loss Prevention & Forensic Analyst', 'Junior Data Analyst',\n",
       "       '[MAS] #WSIP #SGUnitedJobs, Assistant Director, Data Analyst and Report Developer (Contract)',\n",
       "       'Analyst - Senior Principal Analyst (Research and Statistics Unit / Energy Technology & Data Department)',\n",
       "       'Business Data Analyst', 'Lead Data Analyst',\n",
       "       'Regional Sales & Marketing Data Analyst, APAC #SGUnitedTraineeships #SGUP',\n",
       "       'Data Analyst (106)',\n",
       "       '[MAS] #WSIP #SGUnitedJobs Assistant Director, Data Analyst (Contract)',\n",
       "       'Data Analyst (Policy)',\n",
       "       'Data Analyst Trainee #SGUnitedTraineeships #SGUP',\n",
       "       'Matter Finance Data Analyst (APAC)',\n",
       "       'Data Analyst (Bank) (Ref: JT)',\n",
       "       'Data Business Analyst (Banking - Financial Market Data Remediation) - 1 year contract',\n",
       "       'Data Migration Analyst', 'Data Visualisation Analyst',\n",
       "       'Junior Data Visualization Analyst', 'Chief Data Scientist',\n",
       "       'Business Analyst (No experience / up to $2,500)',\n",
       "       'Database Test Manager',\n",
       "       'Data Analyst #SGUnitedTraineeships #SGUP',\n",
       "       'Temp Data Analyst (5-6 months contract)',\n",
       "       'Assistant Manager - Data Analyst', 'Cloud Big Data Analyst',\n",
       "       'Data Analyst (Power BI)',\n",
       "       'Senior / Data Analyst, Vigilance and Compliance Branch',\n",
       "       'Infrastructure & Marine Data Analyst',\n",
       "       'Senior Business Data Analyst',\n",
       "       'Data Analyst, Compliance Strategy and Analytics - 1 Year Contract',\n",
       "       'Data Science Analyst',\n",
       "       'DATA ENGINEER (FIXED-TERM) – CENTRE OF LEARNING & TEACHING EXCELLENCE',\n",
       "       'Data Scientist', 'Web Developer',\n",
       "       '#SgUnitedJobs Senior Research Engineer (IIoT Data Analytic), I3',\n",
       "       '#SgUnitedJobs Research Engineer (IIoT Data Analytic), I3',\n",
       "       '#PublicService #SGUnited Data Analyst (Finance Operations & Treasury) - Contract',\n",
       "       'Data Reporting Analyst', 'Data Analyst- Financial Services',\n",
       "       'Data Analyst, eCommerce', 'SAP Data Analyst',\n",
       "       'Pricing Report and Data Analyst (Brokerage Firm)',\n",
       "       'Data Analyst / Modeler', 'Data Analyst Positions in Singapore',\n",
       "       'SGUnited Trainee, Data Analyst, IBG-COO Data CoE, Institutional Banking Group (1_30) #SGUnitedTraineeships #SGUP',\n",
       "       'SGUnited Trainee, Data Analyst - Group IBG Operations, Technology & Operations (1_49) #SGUnitedTraineeships #SGUP',\n",
       "       'SGUnited Trainee, Data Analyst, T&O Group Procurement Services, Technology & Operations (1_165) #SGUnitedTraineeships #SGUP',\n",
       "       'Data & Programming Analyst #SGUnitedTraineeships #SGUP',\n",
       "       'Digital Performance Marketing Executive and Data Analyst',\n",
       "       'SGUnited Trainee, Data Analyst - Group Portfolio Analytics, Risk Management Group (1_132) #SGUnitedTraineeships #SGUP',\n",
       "       'SGUnited Trainee, AML Data Analyst - IBG COO, Institutional Banking Group (1_147) #SGUnitedTraineeships #SGUP',\n",
       "       'Psychology Manager (Up to $7000, Applied Research, Tableau, Data Analyst)',\n",
       "       'Data Analyst, Quality Assurance, Greater Asia',\n",
       "       'Data Analyst - Contract',\n",
       "       'Junior Data Analyst (1 year / SAP System)',\n",
       "       'SGUnited Trainee, Data Analyst - CBG Credit, Risk Management Group (1_37) #SGUnitedTraineeships #SGUP',\n",
       "       'Data Analyst - Permanent Role - Up to 3k X 13 months',\n",
       "       'Data and Regulatory Reporting Analyst',\n",
       "       'Data Visualization Analyst',\n",
       "       'AVP / VP, Data in Motion Analyst (DLP), Cyber Security Defense, Global Information Security',\n",
       "       'Data Modeler', 'Data Engineer', 'Business Analyst',\n",
       "       'Junior Data Planner', 'Senior Data Scientist',\n",
       "       'SGUnited Trainee, Business Planning & Communications - Consumer Banking Group Operations, Technology & Operations (1_57) #SGUnitedTraineeships #SGUP',\n",
       "       'SGUnited Trainee, Tax Transformation, Group Finance (1_166) #SGUnitedTraineeships #SGUP',\n",
       "       'Senior Executive, Partnership & Loyalty',\n",
       "       'Data Analyst (SAP Lumira / BI / BWH)',\n",
       "       'Data Analyst / Data Analyst Associate#SGUnitedJobs',\n",
       "       'SGUnited Trainee, Data Analyst, IBG-COO Data CoE, Institutional Banking Group (1_23) #SGUnitedTraineeships #SGUP',\n",
       "       'Senior TechOps Data Analyst', 'Data Analyst (Pioneer MRT)',\n",
       "       'SGUnited Trainee, Data Analyst - Global Transaction Services, Institutional Banking Group (1_14) #SGUnitedTraineeships #SGUP',\n",
       "       'Product Data Analyst (12 Months Contract)',\n",
       "       'Regional Finance Data Analyst, APAC #SGUnitedTraineeships #SGUP',\n",
       "       'Executive (Health Data Analyst), SingHealth Duke-NUS Transplant Centre',\n",
       "       'SGUnited Trainee, Data Analyst, Group Finance (1_120) #SGUnitedTraineeships #SGUP',\n",
       "       '\"#SGUnitedJobs\" Research Engineer- Cloud and data analyst',\n",
       "       'Senior Analyst (Data Management), Office for Insights and Analytics (Contract)',\n",
       "       'Data Analyst - Business Intelligence', 'Data Engineer (PERM)',\n",
       "       'Data Scientist_EDP', 'Visualisation Engineer_EDP',\n",
       "       'Business Analyst cum Data Analyst', 'IT Data Analyst',\n",
       "       'Data Analyst (Recruited for one of TLA’s startups focus on urban Aquaculture solution)',\n",
       "       'Trainee Data Management & Solutions Analyst, Data Office, Strategy Division',\n",
       "       'Data Support Analyst #SGUnitedTraineeships #SGUP',\n",
       "       'Data Engineer - Permanent', 'ETL & SQL Developer (Permanent)',\n",
       "       'Data Analyst (SP Digital)',\n",
       "       'Business & Data Analyst, Market Risk Technology',\n",
       "       'Contract Bank Data Analyst',\n",
       "       'Business Data Analyst #SGUnitedTraineeships #SGUP',\n",
       "       'Data Analyst / Engineer',\n",
       "       'Marketing Data Analyst [SAS / SQL] - Up to $6K',\n",
       "       'Analyst / Associate, Data Analysis (Japanese Speaking)',\n",
       "       'Data Specialist - CardsPal',\n",
       "       'Executive, Operations Information System',\n",
       "       'Senior Data Scientist / Data Scientist / Data Analyst (Compliance Strategy & Insights Division)',\n",
       "       'Data Analyst - Insights and Advanced Analytics (NFC / Health)',\n",
       "       'IT Data Analyst , Tableau and Power BI experience (Data Analytics) - KNY',\n",
       "       'Data Analyst - up to $6K',\n",
       "       'Data Analyst for Ministries (Island wide)',\n",
       "       'Senior Data Analyst (NLP)',\n",
       "       'Senior Analyst / Analyst, Valuation & Stamp Duty (Property Tax Division) - Data',\n",
       "       'Data Business Analyst',\n",
       "       'IT Analyst (Statistics and Data Governance)',\n",
       "       'Analyst, Data Science #SGUnitedTraineeships #SGUP',\n",
       "       'Reference Data Operations - Analyst',\n",
       "       'Senior Analyst- Data, Manufacturing System',\n",
       "       'Business Analyst (Salesforce & CRM)',\n",
       "       'Data Governance Consultant (12 months contract)',\n",
       "       'Senior Tableau Developer', 'Data Science Engineer',\n",
       "       'Data Management Lead (Partners Engaging and Empowering Rough Sleepers Office), OED / ELG',\n",
       "       'Data Analyst (JD#6919)', 'Jnr Data Analyst Intern',\n",
       "       'Senior Manager / Program Manager / Group Technical Manager / Group Technical Specialist / Solutions Architect / Senior Program Manager / Senior Solutions Architect - Data Architect',\n",
       "       'Technical Manager / Technical Specialist / Technical Architect / Senior Technical Manager / Senior Technical Specialist / Senior Technical Architect - Data Architect',\n",
       "       'Technical Lead / Senior Technical Lead / Senior Consultant / Lead Consultant - Data Architect',\n",
       "       'Data Analyst (JT)', 'Business Analyst (Data Visualization) (JT)',\n",
       "       'QA Engineer', 'Senior / Data Analyst', 'Data Analyst Assistant',\n",
       "       'Data Analyst (Viet language)', 'Data Analyst (YC)',\n",
       "       'Data Analyst (Excel, VLOOK UP and Pivot Table)',\n",
       "       'Data Governance Consultant (12 months)',\n",
       "       'Compliance Conduct Operational Risk - Data Management – Associate',\n",
       "       'Visualisation Engineer', 'Operations Specialist',\n",
       "       'Data Analyst - Web Analytics', '#SGunitedJobs Data Analyst (RPA)',\n",
       "       'Operations Data Analyst & Management Associate',\n",
       "       'Lead Data Analyst (Digital Marketing)',\n",
       "       'Analytics Success Manager', 'Data Analyst / Senior Data Analyst',\n",
       "       'Data Analyst (QlikSense)', 'Data Quality Management Analyst',\n",
       "       'Business Analyst (Data Visualization)',\n",
       "       'Business Analyst (Data Modelling)',\n",
       "       'Business Analyst for Data & Analytics',\n",
       "       'Data Steward, Performance Technology',\n",
       "       'Data Scientist - CardsPal',\n",
       "       'Business Planning and Operations Analyst', 'Tableau Developer',\n",
       "       'Manager - Operations, Planning & Controlling',\n",
       "       'Regional Associate Data Analyst',\n",
       "       'Data Analyst / Data Manager (Contract) #SGUnitedJobs',\n",
       "       'Senior Associate / Associate, Data Analyst [Data Analytics Division] (#SGUnitedTraineeships)(#SGUP)(#Public Service)',\n",
       "       'Credit Data Analyst #SGUnitedTraineeships #SGUP',\n",
       "       'Senior Associate - Data Associate / Analyst [Digital Experience, Career Services, Data Analytics Division] (#SGUP)(#Public Service)',\n",
       "       'Senior / Lead Data Analyst', 'Data Analyst Intern',\n",
       "       'Data Scientist / Analyst (Transformation & Data Office), Strategic Planning and Policy Division',\n",
       "       'Sales Data Quality Analyst', 'AML Analyst (3 months Contract)',\n",
       "       'Senior Data Engineer', 'Master Data Analyst Consultant',\n",
       "       'Master Data Analyst', 'L&D Data Analyst',\n",
       "       'Data Analyst / Programmer (Python)',\n",
       "       'Data Analyst (Data Management Unit, Contact Tracing Centre) (One-Year Contract)',\n",
       "       'Data Analyst Engineer', 'Big Data Analytics', 'Big Data Analyst',\n",
       "       'Data Analyst (SQL) (Bank) (JT)',\n",
       "       'Associate, Data Analyst - Collection MIS & Analytics, Consumer Banking, Risk Management Group (WD22377)',\n",
       "       'Material Data Analyst (SAP)',\n",
       "       'Data governance Business Analyst (JT)',\n",
       "       'Business Analyst (Digital Services, AGILE, Data Migration)',\n",
       "       'Master Scheduler / Production Planner',\n",
       "       'QA Engineer (Harddisk / No experience required)',\n",
       "       'Data Analyst (Ecommerce)', 'Assistant Data Scientist / Analyst',\n",
       "       'Product Owner', 'IT Governance & QA Analyst', 'Backend Engineer',\n",
       "       'Research Engineer (User Experience Designer)',\n",
       "       'Data Analyst - Ref: YC',\n",
       "       'Business Analyst (Data Governance) - Ref: YC',\n",
       "       'Marketing Analyst',\n",
       "       'VP, Big Data Analytics, Institutional Banking Technology, Technology and Operations (WD22264)',\n",
       "       '1 Year Contract Data Warehouse Analyst (Foreign Bank)',\n",
       "       'Insights Manager',\n",
       "       'Lead Analyst, Data Governance Framework & Policies',\n",
       "       'Assistant Vice President, Business Analyst, Data Management Office',\n",
       "       'Business Analyst (Data Analytics Projects) (JT)',\n",
       "       'CMI - Sales & Data - Omega - Business Analyst - Senior 874',\n",
       "       'Data Consultant',\n",
       "       'Business Data Analyst (Strategy Analytics & Intel)',\n",
       "       'Senior Data Analyst, Business Intelligence & Viz',\n",
       "       'Data Analyst-Internal Audit and Risk Control',\n",
       "       'IT Business Analyst & Data Analyst'], dtype=object)"
      ]
     },
     "metadata": {},
     "execution_count": 227
    }
   ],
   "source": [
    "df.job_title.unique() "
   ]
  },
  {
   "source": [
    "We will first categorise the jobs into the following:\n",
    "\n",
    "1. Analyst\n",
    "\n",
    "2. Data Scientist\n",
    "\n",
    "3. Engineer\n",
    "\n",
    "4. Consultant"
   ],
   "cell_type": "markdown",
   "metadata": {}
  },
  {
   "cell_type": "code",
   "execution_count": 228,
   "metadata": {},
   "outputs": [],
   "source": [
    "def job_title_recat(title):\n",
    "    title = title.lower()\n",
    "    if 'analyst' in title or 'analytics' in title:\n",
    "        return 'analyst'\n",
    "    elif 'data scientist' in title:\n",
    "        return 'data scientist'\n",
    "    elif 'engineer' in title:\n",
    "        return 'engineer'\n",
    "    elif 'consultant' in title:\n",
    "        return 'consultant'\n",
    "    else:\n",
    "        return title"
   ]
  },
  {
   "cell_type": "code",
   "execution_count": 229,
   "metadata": {},
   "outputs": [],
   "source": [
    "df['job_title'] = df['job_title'].apply(job_title_recat)"
   ]
  },
  {
   "cell_type": "code",
   "execution_count": 230,
   "metadata": {},
   "outputs": [
    {
     "output_type": "execute_result",
     "data": {
      "text/plain": [
       "array(['analyst', 'data scientist', 'database test manager', 'engineer',\n",
       "       'web developer', 'data modeler', 'junior data planner',\n",
       "       'sgunited trainee, business planning & communications - consumer banking group operations, technology & operations (1_57) #sgunitedtraineeships #sgup',\n",
       "       'sgunited trainee, tax transformation, group finance (1_166) #sgunitedtraineeships #sgup',\n",
       "       'senior executive, partnership & loyalty',\n",
       "       'etl & sql developer (permanent)', 'data specialist - cardspal',\n",
       "       'executive, operations information system', 'consultant',\n",
       "       'senior tableau developer',\n",
       "       'data management lead (partners engaging and empowering rough sleepers office), oed / elg',\n",
       "       'senior manager / program manager / group technical manager / group technical specialist / solutions architect / senior program manager / senior solutions architect - data architect',\n",
       "       'technical manager / technical specialist / technical architect / senior technical manager / senior technical specialist / senior technical architect - data architect',\n",
       "       'compliance conduct operational risk - data management – associate',\n",
       "       'operations specialist', 'data steward, performance technology',\n",
       "       'tableau developer',\n",
       "       'manager - operations, planning & controlling',\n",
       "       'master scheduler / production planner', 'product owner',\n",
       "       'insights manager'], dtype=object)"
      ]
     },
     "metadata": {},
     "execution_count": 230
    }
   ],
   "source": [
    "df.job_title.unique()"
   ]
  },
  {
   "source": [
    "After the first round of transformation, we notice other title categories not yet considered. Most notably:\n",
    "\n",
    "1. Manager\n",
    "\n",
    "2. Developer\n",
    "\n",
    "3. Trainee\n",
    "\n",
    "4. Architect\n",
    "\n",
    "5. Data management\n",
    "\n",
    "\n",
    "We will further recategorise the job titles."
   ],
   "cell_type": "markdown",
   "metadata": {}
  },
  {
   "cell_type": "code",
   "execution_count": 231,
   "metadata": {},
   "outputs": [],
   "source": [
    "def job_title_recat_2(title):\n",
    "    title = title.lower()\n",
    "    if 'manager' in title:\n",
    "        return 'manager'\n",
    "    elif 'developer' in title:\n",
    "        return 'developer'\n",
    "    elif 'trainee' in title:\n",
    "        return 'trainee'\n",
    "    elif 'architect' in title:\n",
    "        return 'architect'\n",
    "    elif 'data management' in title:\n",
    "        return 'data management'\n",
    "    else:\n",
    "        return title"
   ]
  },
  {
   "cell_type": "code",
   "execution_count": 232,
   "metadata": {},
   "outputs": [],
   "source": [
    "df['job_title'] = df['job_title'].apply(job_title_recat_2)"
   ]
  },
  {
   "cell_type": "code",
   "execution_count": 233,
   "metadata": {},
   "outputs": [
    {
     "output_type": "execute_result",
     "data": {
      "text/plain": [
       "array(['analyst', 'data scientist', 'manager', 'engineer', 'developer',\n",
       "       'data modeler', 'junior data planner', 'trainee',\n",
       "       'senior executive, partnership & loyalty',\n",
       "       'data specialist - cardspal',\n",
       "       'executive, operations information system', 'consultant',\n",
       "       'data management', 'operations specialist',\n",
       "       'data steward, performance technology',\n",
       "       'master scheduler / production planner', 'product owner'],\n",
       "      dtype=object)"
      ]
     },
     "metadata": {},
     "execution_count": 233
    }
   ],
   "source": [
    "df.job_title.unique()"
   ]
  },
  {
   "source": [
    "we will reclassify the remaining job titles as \"others\""
   ],
   "cell_type": "markdown",
   "metadata": {}
  },
  {
   "cell_type": "code",
   "execution_count": 234,
   "metadata": {},
   "outputs": [],
   "source": [
    "def job_title_recat_final(title):\n",
    "    title = title.lower()\n",
    "    if 'analyst' in title or 'analytics' in title:\n",
    "        return 'analyst'\n",
    "    elif 'data scientist' in title:\n",
    "        return 'data scientist'\n",
    "    elif 'engineer' in title:\n",
    "        return 'engineer'\n",
    "    elif 'consultant' in title:\n",
    "        return 'consultant'\n",
    "    elif 'manager' in title:\n",
    "        return 'manager'\n",
    "    elif 'developer' in title:\n",
    "        return 'developer'\n",
    "    elif 'trainee' in title:\n",
    "        return 'trainee'\n",
    "    elif 'architect' in title:\n",
    "        return 'architect'\n",
    "    elif 'data management' in title:\n",
    "        return 'data management'\n",
    "    else:\n",
    "        return 'others'"
   ]
  },
  {
   "cell_type": "code",
   "execution_count": 235,
   "metadata": {},
   "outputs": [],
   "source": [
    "df['job_title'] = df['job_title'].apply(job_title_recat_final)"
   ]
  },
  {
   "cell_type": "code",
   "execution_count": 236,
   "metadata": {},
   "outputs": [
    {
     "output_type": "execute_result",
     "data": {
      "text/plain": [
       "analyst            243\n",
       "engineer            23\n",
       "data scientist      13\n",
       "others              12\n",
       "manager              5\n",
       "developer            5\n",
       "consultant           4\n",
       "data management      2\n",
       "trainee              2\n",
       "Name: job_title, dtype: int64"
      ]
     },
     "metadata": {},
     "execution_count": 236
    }
   ],
   "source": [
    "df.job_title.value_counts()"
   ]
  },
  {
   "cell_type": "code",
   "execution_count": 237,
   "metadata": {},
   "outputs": [
    {
     "output_type": "execute_result",
     "data": {
      "text/plain": [
       "     Unnamed: 0                                           company job_title  \\\n",
       "0             0                   DELIVERY HERO APAC PTE. LIMITED   analyst   \n",
       "1             1                     HELIUS TECHNOLOGIES PTE. LTD.   analyst   \n",
       "2             2                 COMFORTDELGRO CORPORATION LIMITED   analyst   \n",
       "3             3                   DARAZ SINGAPORE PRIVATE LIMITED   analyst   \n",
       "4             4                BIPO SERVICE (SINGAPORE) PTE. LTD.   analyst   \n",
       "..          ...                                               ...       ...   \n",
       "304         304                 COMFORTDELGRO CORPORATION LIMITED   analyst   \n",
       "305         305  THE GREAT EASTERN LIFE ASSURANCE COMPANY LIMITED   analyst   \n",
       "306         306                                  TIKTOK PTE. LTD.   analyst   \n",
       "307         307             OPTIMUM SOLUTIONS (SINGAPORE) PTE LTD   analyst   \n",
       "308         308                               ACCREDIFY PTE. LTD.   analyst   \n",
       "\n",
       "           listing_id                                            address  \\\n",
       "0    MCF-2021-0240128      CROSS STREET EXCHANGE, 18 CROSS STREET 048423   \n",
       "1    MCF-2021-0238815                                         Islandwide   \n",
       "2    MCF-2021-0190739                           205 BRADDELL ROAD 579701   \n",
       "3    MCF-2021-0240086                    AXA TOWER, 8 SHENTON WAY 068811   \n",
       "4    MCF-2021-0240396                                         Islandwide   \n",
       "..                ...                                                ...   \n",
       "304  MCF-2021-0190739                           205 BRADDELL ROAD 579701   \n",
       "305  MCF-2021-0190284    GREAT EASTERN CENTRE, 1 PICKERING STREET 048659   \n",
       "306  MCF-2021-0191253                              1 RAFFLES QUAY 048583   \n",
       "307  MCF-2021-0190044  PLAZA 8 @ CBP, 1 CHANGI BUSINESS PARK CRESCENT...   \n",
       "308  MCF-2021-0190578                      75 AYER RAJAH CRESCENT 139953   \n",
       "\n",
       "          employment_type          seniority      min_exp  \\\n",
       "0               Full Time   Junior Executive  2 years exp   \n",
       "1               Full Time   Senior Executive  6 years exp   \n",
       "2    Permanent, Full Time   Senior Executive  2 years exp   \n",
       "3               Full Time   Senior Executive  3 years exp   \n",
       "4               Permanent            Manager  5 years exp   \n",
       "..                    ...                ...          ...   \n",
       "304  Permanent, Full Time   Senior Executive  2 years exp   \n",
       "305             Full Time   Senior Executive   1 year exp   \n",
       "306             Full Time       Professional  3 years exp   \n",
       "307             Full Time          Executive  5 years exp   \n",
       "308             Full Time  Fresh/entry level          NaN   \n",
       "\n",
       "                               job_cat     salary_range salary_unit  \\\n",
       "0               Information Technology   $5,000to$8,500     Monthly   \n",
       "1               Information Technology   $6,800to$9,000     Monthly   \n",
       "2                               Others   $4,500to$7,000     Monthly   \n",
       "3               Information Technology   $6,000to$9,000     Monthly   \n",
       "4                  Banking and Finance  $9,000to$15,000     Monthly   \n",
       "..                                 ...              ...         ...   \n",
       "304                             Others   $4,500to$7,000     Monthly   \n",
       "305                          Insurance   $3,800to$7,000     Monthly   \n",
       "306                             Others  $7,500to$15,000     Monthly   \n",
       "307  Information Technology, Insurance   $6,800to$7,800     Monthly   \n",
       "308             Information Technology   $3,000to$4,000     Monthly   \n",
       "\n",
       "            date_posted             date_expiry  \\\n",
       "0    Posted 27 May 2021  Closing on 26 Jun 2021   \n",
       "1    Posted 27 May 2021  Closing on 26 Jun 2021   \n",
       "2    Posted 28 Apr 2021  Closing on 28 May 2021   \n",
       "3    Posted 27 May 2021  Closing on 26 Jun 2021   \n",
       "4    Posted 27 May 2021  Closing on 26 Jun 2021   \n",
       "..                  ...                     ...   \n",
       "304  Posted 28 Apr 2021  Closing on 28 May 2021   \n",
       "305  Posted 28 Apr 2021  Closing on 28 May 2021   \n",
       "306  Posted 28 Apr 2021  Closing on 28 May 2021   \n",
       "307  Posted 28 Apr 2021  Closing on 28 May 2021   \n",
       "308  Posted 28 Apr 2021  Closing on 28 May 2021   \n",
       "\n",
       "                                       job_description  \n",
       "0    Roles & Responsibilities\\nWe are looking for a...  \n",
       "1    Roles & Responsibilities\\nTitle: Senior Data A...  \n",
       "2    Roles & Responsibilities\\nWho are We Looking F...  \n",
       "3    Roles & Responsibilities\\nWe are looking for a...  \n",
       "4    Roles & Responsibilities\\nJob Description:\\nLe...  \n",
       "..                                                 ...  \n",
       "304  Roles & Responsibilities\\nWho are We Looking F...  \n",
       "305  Roles & Responsibilities\\nJob Purpose\\nThe Bus...  \n",
       "306  Roles & Responsibilities\\nTikTok is the leadin...  \n",
       "307  Roles & Responsibilities\\nRoles and Responsibi...  \n",
       "308  Roles & Responsibilities\\nAccredify is a well-...  \n",
       "\n",
       "[309 rows x 14 columns]"
      ],
      "text/html": "<div>\n<style scoped>\n    .dataframe tbody tr th:only-of-type {\n        vertical-align: middle;\n    }\n\n    .dataframe tbody tr th {\n        vertical-align: top;\n    }\n\n    .dataframe thead th {\n        text-align: right;\n    }\n</style>\n<table border=\"1\" class=\"dataframe\">\n  <thead>\n    <tr style=\"text-align: right;\">\n      <th></th>\n      <th>Unnamed: 0</th>\n      <th>company</th>\n      <th>job_title</th>\n      <th>listing_id</th>\n      <th>address</th>\n      <th>employment_type</th>\n      <th>seniority</th>\n      <th>min_exp</th>\n      <th>job_cat</th>\n      <th>salary_range</th>\n      <th>salary_unit</th>\n      <th>date_posted</th>\n      <th>date_expiry</th>\n      <th>job_description</th>\n    </tr>\n  </thead>\n  <tbody>\n    <tr>\n      <th>0</th>\n      <td>0</td>\n      <td>DELIVERY HERO APAC PTE. LIMITED</td>\n      <td>analyst</td>\n      <td>MCF-2021-0240128</td>\n      <td>CROSS STREET EXCHANGE, 18 CROSS STREET 048423</td>\n      <td>Full Time</td>\n      <td>Junior Executive</td>\n      <td>2 years exp</td>\n      <td>Information Technology</td>\n      <td>$5,000to$8,500</td>\n      <td>Monthly</td>\n      <td>Posted 27 May 2021</td>\n      <td>Closing on 26 Jun 2021</td>\n      <td>Roles &amp; Responsibilities\\nWe are looking for a...</td>\n    </tr>\n    <tr>\n      <th>1</th>\n      <td>1</td>\n      <td>HELIUS TECHNOLOGIES PTE. LTD.</td>\n      <td>analyst</td>\n      <td>MCF-2021-0238815</td>\n      <td>Islandwide</td>\n      <td>Full Time</td>\n      <td>Senior Executive</td>\n      <td>6 years exp</td>\n      <td>Information Technology</td>\n      <td>$6,800to$9,000</td>\n      <td>Monthly</td>\n      <td>Posted 27 May 2021</td>\n      <td>Closing on 26 Jun 2021</td>\n      <td>Roles &amp; Responsibilities\\nTitle: Senior Data A...</td>\n    </tr>\n    <tr>\n      <th>2</th>\n      <td>2</td>\n      <td>COMFORTDELGRO CORPORATION LIMITED</td>\n      <td>analyst</td>\n      <td>MCF-2021-0190739</td>\n      <td>205 BRADDELL ROAD 579701</td>\n      <td>Permanent, Full Time</td>\n      <td>Senior Executive</td>\n      <td>2 years exp</td>\n      <td>Others</td>\n      <td>$4,500to$7,000</td>\n      <td>Monthly</td>\n      <td>Posted 28 Apr 2021</td>\n      <td>Closing on 28 May 2021</td>\n      <td>Roles &amp; Responsibilities\\nWho are We Looking F...</td>\n    </tr>\n    <tr>\n      <th>3</th>\n      <td>3</td>\n      <td>DARAZ SINGAPORE PRIVATE LIMITED</td>\n      <td>analyst</td>\n      <td>MCF-2021-0240086</td>\n      <td>AXA TOWER, 8 SHENTON WAY 068811</td>\n      <td>Full Time</td>\n      <td>Senior Executive</td>\n      <td>3 years exp</td>\n      <td>Information Technology</td>\n      <td>$6,000to$9,000</td>\n      <td>Monthly</td>\n      <td>Posted 27 May 2021</td>\n      <td>Closing on 26 Jun 2021</td>\n      <td>Roles &amp; Responsibilities\\nWe are looking for a...</td>\n    </tr>\n    <tr>\n      <th>4</th>\n      <td>4</td>\n      <td>BIPO SERVICE (SINGAPORE) PTE. LTD.</td>\n      <td>analyst</td>\n      <td>MCF-2021-0240396</td>\n      <td>Islandwide</td>\n      <td>Permanent</td>\n      <td>Manager</td>\n      <td>5 years exp</td>\n      <td>Banking and Finance</td>\n      <td>$9,000to$15,000</td>\n      <td>Monthly</td>\n      <td>Posted 27 May 2021</td>\n      <td>Closing on 26 Jun 2021</td>\n      <td>Roles &amp; Responsibilities\\nJob Description:\\nLe...</td>\n    </tr>\n    <tr>\n      <th>...</th>\n      <td>...</td>\n      <td>...</td>\n      <td>...</td>\n      <td>...</td>\n      <td>...</td>\n      <td>...</td>\n      <td>...</td>\n      <td>...</td>\n      <td>...</td>\n      <td>...</td>\n      <td>...</td>\n      <td>...</td>\n      <td>...</td>\n      <td>...</td>\n    </tr>\n    <tr>\n      <th>304</th>\n      <td>304</td>\n      <td>COMFORTDELGRO CORPORATION LIMITED</td>\n      <td>analyst</td>\n      <td>MCF-2021-0190739</td>\n      <td>205 BRADDELL ROAD 579701</td>\n      <td>Permanent, Full Time</td>\n      <td>Senior Executive</td>\n      <td>2 years exp</td>\n      <td>Others</td>\n      <td>$4,500to$7,000</td>\n      <td>Monthly</td>\n      <td>Posted 28 Apr 2021</td>\n      <td>Closing on 28 May 2021</td>\n      <td>Roles &amp; Responsibilities\\nWho are We Looking F...</td>\n    </tr>\n    <tr>\n      <th>305</th>\n      <td>305</td>\n      <td>THE GREAT EASTERN LIFE ASSURANCE COMPANY LIMITED</td>\n      <td>analyst</td>\n      <td>MCF-2021-0190284</td>\n      <td>GREAT EASTERN CENTRE, 1 PICKERING STREET 048659</td>\n      <td>Full Time</td>\n      <td>Senior Executive</td>\n      <td>1 year exp</td>\n      <td>Insurance</td>\n      <td>$3,800to$7,000</td>\n      <td>Monthly</td>\n      <td>Posted 28 Apr 2021</td>\n      <td>Closing on 28 May 2021</td>\n      <td>Roles &amp; Responsibilities\\nJob Purpose\\nThe Bus...</td>\n    </tr>\n    <tr>\n      <th>306</th>\n      <td>306</td>\n      <td>TIKTOK PTE. LTD.</td>\n      <td>analyst</td>\n      <td>MCF-2021-0191253</td>\n      <td>1 RAFFLES QUAY 048583</td>\n      <td>Full Time</td>\n      <td>Professional</td>\n      <td>3 years exp</td>\n      <td>Others</td>\n      <td>$7,500to$15,000</td>\n      <td>Monthly</td>\n      <td>Posted 28 Apr 2021</td>\n      <td>Closing on 28 May 2021</td>\n      <td>Roles &amp; Responsibilities\\nTikTok is the leadin...</td>\n    </tr>\n    <tr>\n      <th>307</th>\n      <td>307</td>\n      <td>OPTIMUM SOLUTIONS (SINGAPORE) PTE LTD</td>\n      <td>analyst</td>\n      <td>MCF-2021-0190044</td>\n      <td>PLAZA 8 @ CBP, 1 CHANGI BUSINESS PARK CRESCENT...</td>\n      <td>Full Time</td>\n      <td>Executive</td>\n      <td>5 years exp</td>\n      <td>Information Technology, Insurance</td>\n      <td>$6,800to$7,800</td>\n      <td>Monthly</td>\n      <td>Posted 28 Apr 2021</td>\n      <td>Closing on 28 May 2021</td>\n      <td>Roles &amp; Responsibilities\\nRoles and Responsibi...</td>\n    </tr>\n    <tr>\n      <th>308</th>\n      <td>308</td>\n      <td>ACCREDIFY PTE. LTD.</td>\n      <td>analyst</td>\n      <td>MCF-2021-0190578</td>\n      <td>75 AYER RAJAH CRESCENT 139953</td>\n      <td>Full Time</td>\n      <td>Fresh/entry level</td>\n      <td>NaN</td>\n      <td>Information Technology</td>\n      <td>$3,000to$4,000</td>\n      <td>Monthly</td>\n      <td>Posted 28 Apr 2021</td>\n      <td>Closing on 28 May 2021</td>\n      <td>Roles &amp; Responsibilities\\nAccredify is a well-...</td>\n    </tr>\n  </tbody>\n</table>\n<p>309 rows × 14 columns</p>\n</div>"
     },
     "metadata": {},
     "execution_count": 237
    }
   ],
   "source": [
    "df"
   ]
  },
  {
   "source": [
    "Next, we re-catagorise employment_type."
   ],
   "cell_type": "markdown",
   "metadata": {}
  },
  {
   "cell_type": "code",
   "execution_count": 238,
   "metadata": {},
   "outputs": [
    {
     "output_type": "execute_result",
     "data": {
      "text/plain": [
       "array(['Full Time', 'Permanent, Full Time', 'Permanent',\n",
       "       'Contract, Full Time', 'Contract', 'Internship/Traineeship',\n",
       "       'Temporary', 'Contract, Permanent',\n",
       "       'Contract, Permanent, Full Time',\n",
       "       'Contract, Internship/Traineeship',\n",
       "       'Full Time, Internship/Traineeship', 'Part Time, Full Time',\n",
       "       'Flexi-work', 'Contract, Permanent, Full Time, Flexi-work',\n",
       "       'Temporary, Full Time'], dtype=object)"
      ]
     },
     "metadata": {},
     "execution_count": 238
    }
   ],
   "source": [
    "df.employment_type.unique()"
   ]
  },
  {
   "source": [
    "We will clasify the employment types into the following:\n",
    "\n",
    "1. Full Time\n",
    "\n",
    "2. Internship/Traineeship\n",
    "\n",
    "3. Temporary\n",
    "\n",
    "4. Flexi-work"
   ],
   "cell_type": "markdown",
   "metadata": {}
  },
  {
   "cell_type": "code",
   "execution_count": 239,
   "metadata": {},
   "outputs": [],
   "source": [
    "def job_type_recat(job_type):\n",
    "    job_type=job_type.lower()\n",
    "    if \"internship\" in job_type or \"traineeship\" in job_type:\n",
    "        return \"internship/traineeship\"\n",
    "    elif \"temporary\" in job_type:\n",
    "        return \"temporary\"\n",
    "    elif \"permanent\" in job_type or \"full time\" in job_type:\n",
    "        return \"full time\"\n",
    "    elif \"flexi-work\" in job_type:\n",
    "        return \"flexi-work\"\n",
    "    else:\n",
    "        return job_type"
   ]
  },
  {
   "cell_type": "code",
   "execution_count": 240,
   "metadata": {},
   "outputs": [],
   "source": [
    "df['employment_type'] = df['employment_type'].apply(job_type_recat)"
   ]
  },
  {
   "cell_type": "code",
   "execution_count": 241,
   "metadata": {},
   "outputs": [
    {
     "output_type": "execute_result",
     "data": {
      "text/plain": [
       "full time                 224\n",
       "contract                   52\n",
       "internship/traineeship     27\n",
       "temporary                   4\n",
       "flexi-work                  2\n",
       "Name: employment_type, dtype: int64"
      ]
     },
     "metadata": {},
     "execution_count": 241
    }
   ],
   "source": [
    "df.employment_type.value_counts()"
   ]
  },
  {
   "source": [
    "all employment types have been reclassified. "
   ],
   "cell_type": "markdown",
   "metadata": {}
  },
  {
   "source": [
    "# Re-catagorising seniority\n"
   ],
   "cell_type": "markdown",
   "metadata": {}
  },
  {
   "cell_type": "code",
   "execution_count": 242,
   "metadata": {},
   "outputs": [
    {
     "output_type": "execute_result",
     "data": {
      "text/plain": [
       "Executive            92\n",
       "Professional         66\n",
       "Senior Executive     51\n",
       "Fresh/entry level    42\n",
       "Junior Executive     16\n",
       "Manager              16\n",
       "Middle Management     6\n",
       "Senior Management     4\n",
       "Non-executive         3\n",
       "Name: seniority, dtype: int64"
      ]
     },
     "metadata": {},
     "execution_count": 242
    }
   ],
   "source": [
    "df.seniority.value_counts()"
   ]
  },
  {
   "source": [
    "Job seniority has been classified distinctly. We will use the pre-classified labels."
   ],
   "cell_type": "markdown",
   "metadata": {}
  },
  {
   "source": [
    "# Converting min_exp into numerical data\n",
    "    "
   ],
   "cell_type": "markdown",
   "metadata": {}
  },
  {
   "cell_type": "code",
   "execution_count": 243,
   "metadata": {},
   "outputs": [],
   "source": [
    "def min_exp_to_num(input):\n",
    "    if type(input) == float:\n",
    "        return 0\n",
    "    else:\n",
    "        return input.split()[0]"
   ]
  },
  {
   "cell_type": "code",
   "execution_count": 244,
   "metadata": {},
   "outputs": [],
   "source": [
    "df['min_exp'] = df['min_exp'].apply(min_exp_to_num)"
   ]
  },
  {
   "cell_type": "code",
   "execution_count": 121,
   "metadata": {},
   "outputs": [
    {
     "output_type": "execute_result",
     "data": {
      "text/plain": [
       "     Unnamed: 0                                           company job_title  \\\n",
       "0             0                   DELIVERY HERO APAC PTE. LIMITED   analyst   \n",
       "1             1                     HELIUS TECHNOLOGIES PTE. LTD.   analyst   \n",
       "2             2                 COMFORTDELGRO CORPORATION LIMITED   analyst   \n",
       "3             3                   DARAZ SINGAPORE PRIVATE LIMITED   analyst   \n",
       "4             4                BIPO SERVICE (SINGAPORE) PTE. LTD.   analyst   \n",
       "..          ...                                               ...       ...   \n",
       "304         304                 COMFORTDELGRO CORPORATION LIMITED   analyst   \n",
       "305         305  THE GREAT EASTERN LIFE ASSURANCE COMPANY LIMITED   analyst   \n",
       "306         306                                  TIKTOK PTE. LTD.   analyst   \n",
       "307         307             OPTIMUM SOLUTIONS (SINGAPORE) PTE LTD   analyst   \n",
       "308         308                               ACCREDIFY PTE. LTD.   analyst   \n",
       "\n",
       "           listing_id                                            address  \\\n",
       "0    MCF-2021-0240128      CROSS STREET EXCHANGE, 18 CROSS STREET 048423   \n",
       "1    MCF-2021-0238815                                         Islandwide   \n",
       "2    MCF-2021-0190739                           205 BRADDELL ROAD 579701   \n",
       "3    MCF-2021-0240086                    AXA TOWER, 8 SHENTON WAY 068811   \n",
       "4    MCF-2021-0240396                                         Islandwide   \n",
       "..                ...                                                ...   \n",
       "304  MCF-2021-0190739                           205 BRADDELL ROAD 579701   \n",
       "305  MCF-2021-0190284    GREAT EASTERN CENTRE, 1 PICKERING STREET 048659   \n",
       "306  MCF-2021-0191253                              1 RAFFLES QUAY 048583   \n",
       "307  MCF-2021-0190044  PLAZA 8 @ CBP, 1 CHANGI BUSINESS PARK CRESCENT...   \n",
       "308  MCF-2021-0190578                      75 AYER RAJAH CRESCENT 139953   \n",
       "\n",
       "    employment_type          seniority min_exp  \\\n",
       "0         full time   Junior Executive       2   \n",
       "1         full time   Senior Executive       6   \n",
       "2         full time   Senior Executive       2   \n",
       "3         full time   Senior Executive       3   \n",
       "4         full time            Manager       5   \n",
       "..              ...                ...     ...   \n",
       "304       full time   Senior Executive       2   \n",
       "305       full time   Senior Executive       1   \n",
       "306       full time       Professional       3   \n",
       "307       full time          Executive       5   \n",
       "308       full time  Fresh/entry level       0   \n",
       "\n",
       "                               job_cat     salary_range salary_unit  \\\n",
       "0               Information Technology   $5,000to$8,500     Monthly   \n",
       "1               Information Technology   $6,800to$9,000     Monthly   \n",
       "2                               Others   $4,500to$7,000     Monthly   \n",
       "3               Information Technology   $6,000to$9,000     Monthly   \n",
       "4                  Banking and Finance  $9,000to$15,000     Monthly   \n",
       "..                                 ...              ...         ...   \n",
       "304                             Others   $4,500to$7,000     Monthly   \n",
       "305                          Insurance   $3,800to$7,000     Monthly   \n",
       "306                             Others  $7,500to$15,000     Monthly   \n",
       "307  Information Technology, Insurance   $6,800to$7,800     Monthly   \n",
       "308             Information Technology   $3,000to$4,000     Monthly   \n",
       "\n",
       "            date_posted             date_expiry  \\\n",
       "0    Posted 27 May 2021  Closing on 26 Jun 2021   \n",
       "1    Posted 27 May 2021  Closing on 26 Jun 2021   \n",
       "2    Posted 28 Apr 2021  Closing on 28 May 2021   \n",
       "3    Posted 27 May 2021  Closing on 26 Jun 2021   \n",
       "4    Posted 27 May 2021  Closing on 26 Jun 2021   \n",
       "..                  ...                     ...   \n",
       "304  Posted 28 Apr 2021  Closing on 28 May 2021   \n",
       "305  Posted 28 Apr 2021  Closing on 28 May 2021   \n",
       "306  Posted 28 Apr 2021  Closing on 28 May 2021   \n",
       "307  Posted 28 Apr 2021  Closing on 28 May 2021   \n",
       "308  Posted 28 Apr 2021  Closing on 28 May 2021   \n",
       "\n",
       "                                       job_description     min_exp_type  \n",
       "0    Roles & Responsibilities\\nWe are looking for a...    <class 'str'>  \n",
       "1    Roles & Responsibilities\\nTitle: Senior Data A...    <class 'str'>  \n",
       "2    Roles & Responsibilities\\nWho are We Looking F...    <class 'str'>  \n",
       "3    Roles & Responsibilities\\nWe are looking for a...    <class 'str'>  \n",
       "4    Roles & Responsibilities\\nJob Description:\\nLe...    <class 'str'>  \n",
       "..                                                 ...              ...  \n",
       "304  Roles & Responsibilities\\nWho are We Looking F...    <class 'str'>  \n",
       "305  Roles & Responsibilities\\nJob Purpose\\nThe Bus...    <class 'str'>  \n",
       "306  Roles & Responsibilities\\nTikTok is the leadin...    <class 'str'>  \n",
       "307  Roles & Responsibilities\\nRoles and Responsibi...    <class 'str'>  \n",
       "308  Roles & Responsibilities\\nAccredify is a well-...  <class 'float'>  \n",
       "\n",
       "[309 rows x 15 columns]"
      ],
      "text/html": "<div>\n<style scoped>\n    .dataframe tbody tr th:only-of-type {\n        vertical-align: middle;\n    }\n\n    .dataframe tbody tr th {\n        vertical-align: top;\n    }\n\n    .dataframe thead th {\n        text-align: right;\n    }\n</style>\n<table border=\"1\" class=\"dataframe\">\n  <thead>\n    <tr style=\"text-align: right;\">\n      <th></th>\n      <th>Unnamed: 0</th>\n      <th>company</th>\n      <th>job_title</th>\n      <th>listing_id</th>\n      <th>address</th>\n      <th>employment_type</th>\n      <th>seniority</th>\n      <th>min_exp</th>\n      <th>job_cat</th>\n      <th>salary_range</th>\n      <th>salary_unit</th>\n      <th>date_posted</th>\n      <th>date_expiry</th>\n      <th>job_description</th>\n      <th>min_exp_type</th>\n    </tr>\n  </thead>\n  <tbody>\n    <tr>\n      <th>0</th>\n      <td>0</td>\n      <td>DELIVERY HERO APAC PTE. LIMITED</td>\n      <td>analyst</td>\n      <td>MCF-2021-0240128</td>\n      <td>CROSS STREET EXCHANGE, 18 CROSS STREET 048423</td>\n      <td>full time</td>\n      <td>Junior Executive</td>\n      <td>2</td>\n      <td>Information Technology</td>\n      <td>$5,000to$8,500</td>\n      <td>Monthly</td>\n      <td>Posted 27 May 2021</td>\n      <td>Closing on 26 Jun 2021</td>\n      <td>Roles &amp; Responsibilities\\nWe are looking for a...</td>\n      <td>&lt;class 'str'&gt;</td>\n    </tr>\n    <tr>\n      <th>1</th>\n      <td>1</td>\n      <td>HELIUS TECHNOLOGIES PTE. LTD.</td>\n      <td>analyst</td>\n      <td>MCF-2021-0238815</td>\n      <td>Islandwide</td>\n      <td>full time</td>\n      <td>Senior Executive</td>\n      <td>6</td>\n      <td>Information Technology</td>\n      <td>$6,800to$9,000</td>\n      <td>Monthly</td>\n      <td>Posted 27 May 2021</td>\n      <td>Closing on 26 Jun 2021</td>\n      <td>Roles &amp; Responsibilities\\nTitle: Senior Data A...</td>\n      <td>&lt;class 'str'&gt;</td>\n    </tr>\n    <tr>\n      <th>2</th>\n      <td>2</td>\n      <td>COMFORTDELGRO CORPORATION LIMITED</td>\n      <td>analyst</td>\n      <td>MCF-2021-0190739</td>\n      <td>205 BRADDELL ROAD 579701</td>\n      <td>full time</td>\n      <td>Senior Executive</td>\n      <td>2</td>\n      <td>Others</td>\n      <td>$4,500to$7,000</td>\n      <td>Monthly</td>\n      <td>Posted 28 Apr 2021</td>\n      <td>Closing on 28 May 2021</td>\n      <td>Roles &amp; Responsibilities\\nWho are We Looking F...</td>\n      <td>&lt;class 'str'&gt;</td>\n    </tr>\n    <tr>\n      <th>3</th>\n      <td>3</td>\n      <td>DARAZ SINGAPORE PRIVATE LIMITED</td>\n      <td>analyst</td>\n      <td>MCF-2021-0240086</td>\n      <td>AXA TOWER, 8 SHENTON WAY 068811</td>\n      <td>full time</td>\n      <td>Senior Executive</td>\n      <td>3</td>\n      <td>Information Technology</td>\n      <td>$6,000to$9,000</td>\n      <td>Monthly</td>\n      <td>Posted 27 May 2021</td>\n      <td>Closing on 26 Jun 2021</td>\n      <td>Roles &amp; Responsibilities\\nWe are looking for a...</td>\n      <td>&lt;class 'str'&gt;</td>\n    </tr>\n    <tr>\n      <th>4</th>\n      <td>4</td>\n      <td>BIPO SERVICE (SINGAPORE) PTE. LTD.</td>\n      <td>analyst</td>\n      <td>MCF-2021-0240396</td>\n      <td>Islandwide</td>\n      <td>full time</td>\n      <td>Manager</td>\n      <td>5</td>\n      <td>Banking and Finance</td>\n      <td>$9,000to$15,000</td>\n      <td>Monthly</td>\n      <td>Posted 27 May 2021</td>\n      <td>Closing on 26 Jun 2021</td>\n      <td>Roles &amp; Responsibilities\\nJob Description:\\nLe...</td>\n      <td>&lt;class 'str'&gt;</td>\n    </tr>\n    <tr>\n      <th>...</th>\n      <td>...</td>\n      <td>...</td>\n      <td>...</td>\n      <td>...</td>\n      <td>...</td>\n      <td>...</td>\n      <td>...</td>\n      <td>...</td>\n      <td>...</td>\n      <td>...</td>\n      <td>...</td>\n      <td>...</td>\n      <td>...</td>\n      <td>...</td>\n      <td>...</td>\n    </tr>\n    <tr>\n      <th>304</th>\n      <td>304</td>\n      <td>COMFORTDELGRO CORPORATION LIMITED</td>\n      <td>analyst</td>\n      <td>MCF-2021-0190739</td>\n      <td>205 BRADDELL ROAD 579701</td>\n      <td>full time</td>\n      <td>Senior Executive</td>\n      <td>2</td>\n      <td>Others</td>\n      <td>$4,500to$7,000</td>\n      <td>Monthly</td>\n      <td>Posted 28 Apr 2021</td>\n      <td>Closing on 28 May 2021</td>\n      <td>Roles &amp; Responsibilities\\nWho are We Looking F...</td>\n      <td>&lt;class 'str'&gt;</td>\n    </tr>\n    <tr>\n      <th>305</th>\n      <td>305</td>\n      <td>THE GREAT EASTERN LIFE ASSURANCE COMPANY LIMITED</td>\n      <td>analyst</td>\n      <td>MCF-2021-0190284</td>\n      <td>GREAT EASTERN CENTRE, 1 PICKERING STREET 048659</td>\n      <td>full time</td>\n      <td>Senior Executive</td>\n      <td>1</td>\n      <td>Insurance</td>\n      <td>$3,800to$7,000</td>\n      <td>Monthly</td>\n      <td>Posted 28 Apr 2021</td>\n      <td>Closing on 28 May 2021</td>\n      <td>Roles &amp; Responsibilities\\nJob Purpose\\nThe Bus...</td>\n      <td>&lt;class 'str'&gt;</td>\n    </tr>\n    <tr>\n      <th>306</th>\n      <td>306</td>\n      <td>TIKTOK PTE. LTD.</td>\n      <td>analyst</td>\n      <td>MCF-2021-0191253</td>\n      <td>1 RAFFLES QUAY 048583</td>\n      <td>full time</td>\n      <td>Professional</td>\n      <td>3</td>\n      <td>Others</td>\n      <td>$7,500to$15,000</td>\n      <td>Monthly</td>\n      <td>Posted 28 Apr 2021</td>\n      <td>Closing on 28 May 2021</td>\n      <td>Roles &amp; Responsibilities\\nTikTok is the leadin...</td>\n      <td>&lt;class 'str'&gt;</td>\n    </tr>\n    <tr>\n      <th>307</th>\n      <td>307</td>\n      <td>OPTIMUM SOLUTIONS (SINGAPORE) PTE LTD</td>\n      <td>analyst</td>\n      <td>MCF-2021-0190044</td>\n      <td>PLAZA 8 @ CBP, 1 CHANGI BUSINESS PARK CRESCENT...</td>\n      <td>full time</td>\n      <td>Executive</td>\n      <td>5</td>\n      <td>Information Technology, Insurance</td>\n      <td>$6,800to$7,800</td>\n      <td>Monthly</td>\n      <td>Posted 28 Apr 2021</td>\n      <td>Closing on 28 May 2021</td>\n      <td>Roles &amp; Responsibilities\\nRoles and Responsibi...</td>\n      <td>&lt;class 'str'&gt;</td>\n    </tr>\n    <tr>\n      <th>308</th>\n      <td>308</td>\n      <td>ACCREDIFY PTE. LTD.</td>\n      <td>analyst</td>\n      <td>MCF-2021-0190578</td>\n      <td>75 AYER RAJAH CRESCENT 139953</td>\n      <td>full time</td>\n      <td>Fresh/entry level</td>\n      <td>0</td>\n      <td>Information Technology</td>\n      <td>$3,000to$4,000</td>\n      <td>Monthly</td>\n      <td>Posted 28 Apr 2021</td>\n      <td>Closing on 28 May 2021</td>\n      <td>Roles &amp; Responsibilities\\nAccredify is a well-...</td>\n      <td>&lt;class 'float'&gt;</td>\n    </tr>\n  </tbody>\n</table>\n<p>309 rows × 15 columns</p>\n</div>"
     },
     "metadata": {},
     "execution_count": 121
    }
   ],
   "source": []
  },
  {
   "source": [
    "# Re-catagorising job_cat\n"
   ],
   "cell_type": "markdown",
   "metadata": {}
  },
  {
   "cell_type": "code",
   "execution_count": 245,
   "metadata": {},
   "outputs": [
    {
     "output_type": "execute_result",
     "data": {
      "text/plain": [
       "Information Technology                                                                            127\n",
       "Banking and Finance                                                                                39\n",
       "Banking and Finance, Information Technology                                                        20\n",
       "Others                                                                                             18\n",
       "Public / Civil Service                                                                             12\n",
       "Consulting                                                                                          9\n",
       "Engineering                                                                                         6\n",
       "Insurance                                                                                           4\n",
       "Healthcare / Pharmaceutical                                                                         4\n",
       "Information Technology, Others                                                                      3\n",
       "Consulting, Information Technology                                                                  3\n",
       "Sciences / Laboratory / R&D                                                                         3\n",
       "Banking and Finance, Consulting, Information Technology                                             3\n",
       "Banking and Finance, Risk Management                                                                3\n",
       "Marketing / Public Relations                                                                        3\n",
       "Banking and Finance, Information Technology, Risk Management                                        2\n",
       "Engineering, Information Technology, Sciences / Laboratory / R&D                                    2\n",
       "Information Technology, Marketing / Public Relations                                                2\n",
       "Engineering, Information Technology                                                                 2\n",
       "Public / Civil Service, Others                                                                      2\n",
       "Information Technology, Public / Civil Service                                                      2\n",
       "Accounting / Auditing / Taxation, Public / Civil Service                                            2\n",
       "Advertising / Media                                                                                 2\n",
       "Healthcare / Pharmaceutical, Information Technology                                                 1\n",
       "Banking and Finance, Information Technology, Professional Services                                  1\n",
       "Logistics / Supply Chain, Risk Management                                                           1\n",
       "Information Technology, Marketing / Public Relations, Sales / Retail, Others, Wholesale Trade       1\n",
       "Healthcare / Pharmaceutical, Information Technology, Others                                         1\n",
       "Accounting / Auditing / Taxation, Banking and Finance, Consulting                                   1\n",
       "Banking and Finance, Others                                                                         1\n",
       "Advertising / Media, Engineering                                                                    1\n",
       "Consulting, Risk Management                                                                         1\n",
       "Engineering, Manufacturing                                                                          1\n",
       "Information Technology, Insurance                                                                   1\n",
       "Human Resources                                                                                     1\n",
       "Healthcare / Pharmaceutical, Public / Civil Service                                                 1\n",
       "Logistics / Supply Chain, Sales / Retail                                                            1\n",
       "Healthcare / Pharmaceutical, Insurance, Others                                                      1\n",
       "Accounting / Auditing / Taxation                                                                    1\n",
       "Building and Construction                                                                           1\n",
       "Customer Service, Logistics / Supply Chain                                                          1\n",
       "Consulting, Information Technology, Marketing / Public Relations                                    1\n",
       "Banking and Finance, Information Technology, Marketing / Public Relations                           1\n",
       "Manufacturing                                                                                       1\n",
       "Marketing / Public Relations, Others                                                                1\n",
       "Consulting, Engineering, Information Technology, Professional Services, Others                      1\n",
       "Logistics / Supply Chain, Manufacturing                                                             1\n",
       "Consulting, General Management, Information Technology, Risk Management, Others                     1\n",
       "Advertising / Media, Education and Training, Information Technology                                 1\n",
       "Consulting, Engineering, Information Technology, Professional Services, Public / Civil Service      1\n",
       "General Work                                                                                        1\n",
       "Consulting, Healthcare / Pharmaceutical, Sciences / Laboratory / R&D                                1\n",
       "Admin / Secretarial, Building and Construction                                                      1\n",
       "Admin / Secretarial, Healthcare / Pharmaceutical                                                    1\n",
       "Information Technology, Telecommunications, Others                                                  1\n",
       "Wholesale Trade                                                                                     1\n",
       "Customer Service, Design, Engineering, Manufacturing, Risk Management                               1\n",
       "Accounting / Auditing / Taxation, Information Technology, Professional Services, Others             1\n",
       "Admin / Secretarial, Engineering, Manufacturing                                                     1\n",
       "Name: job_cat, dtype: int64"
      ]
     },
     "metadata": {},
     "execution_count": 245
    }
   ],
   "source": [
    "df.job_cat.value_counts()"
   ]
  },
  {
   "source": [
    "Re-classification of Job Catagories to their primary category"
   ],
   "cell_type": "markdown",
   "metadata": {}
  },
  {
   "cell_type": "code",
   "execution_count": 246,
   "metadata": {},
   "outputs": [],
   "source": [
    "def job_cat_recat(job_cat):\n",
    "    job_cat = job_cat.lower().split(\",\")[0]\n",
    "    return job_cat"
   ]
  },
  {
   "cell_type": "code",
   "execution_count": 247,
   "metadata": {},
   "outputs": [],
   "source": [
    "df['job_cat'] = df['job_cat'].apply(job_cat_recat)"
   ]
  },
  {
   "cell_type": "code",
   "execution_count": 248,
   "metadata": {},
   "outputs": [
    {
     "output_type": "execute_result",
     "data": {
      "text/plain": [
       "information technology              137\n",
       "banking and finance                  70\n",
       "consulting                           18\n",
       "others                               18\n",
       "public / civil service               14\n",
       "engineering                          11\n",
       "healthcare / pharmaceutical           8\n",
       "accounting / auditing / taxation      5\n",
       "advertising / media                   4\n",
       "marketing / public relations          4\n",
       "insurance                             4\n",
       "admin / secretarial                   3\n",
       "sciences / laboratory / r&d           3\n",
       "logistics / supply chain              3\n",
       "customer service                      2\n",
       "general work                          1\n",
       "building and construction             1\n",
       "wholesale trade                       1\n",
       "human resources                       1\n",
       "manufacturing                         1\n",
       "Name: job_cat, dtype: int64"
      ]
     },
     "metadata": {},
     "execution_count": 248
    }
   ],
   "source": [
    "df.job_cat.value_counts()"
   ]
  },
  {
   "source": [
    "# Converting salary range to average salary"
   ],
   "cell_type": "markdown",
   "metadata": {}
  },
  {
   "source": [
    "Since our target variable is salary, we will remove the rows with undisclosed salary"
   ],
   "cell_type": "markdown",
   "metadata": {}
  },
  {
   "cell_type": "code",
   "execution_count": 249,
   "metadata": {},
   "outputs": [],
   "source": [
    "df = df[df['salary_range'] != 'Salary undisclosed']"
   ]
  },
  {
   "cell_type": "code",
   "execution_count": 250,
   "metadata": {},
   "outputs": [
    {
     "output_type": "execute_result",
     "data": {
      "text/plain": [
       "Monthly    294\n",
       "Name: salary_unit, dtype: int64"
      ]
     },
     "metadata": {},
     "execution_count": 250
    }
   ],
   "source": [
    "df.salary_unit.value_counts()"
   ]
  },
  {
   "cell_type": "code",
   "execution_count": 251,
   "metadata": {},
   "outputs": [],
   "source": [
    "def get_avg_salary(input):\n",
    "    spl = input.split(\"to\")\n",
    "    min_salary = float(sub(r'[^\\d.]', '', spl[0]))\n",
    "    max_salary = float(sub(r'[^\\d.]', '', spl[1]))\n",
    "    return (min_salary+max_salary)/2\n"
   ]
  },
  {
   "cell_type": "code",
   "execution_count": 252,
   "metadata": {},
   "outputs": [
    {
     "output_type": "stream",
     "name": "stderr",
     "text": [
      "<ipython-input-252-de261dde558d>:1: SettingWithCopyWarning: \nA value is trying to be set on a copy of a slice from a DataFrame.\nTry using .loc[row_indexer,col_indexer] = value instead\n\nSee the caveats in the documentation: https://pandas.pydata.org/pandas-docs/stable/user_guide/indexing.html#returning-a-view-versus-a-copy\n  df['avg_salary'] = df['salary_range'].apply(get_avg_salary)\n"
     ]
    }
   ],
   "source": [
    "df['avg_salary'] = df['salary_range'].apply(get_avg_salary)"
   ]
  },
  {
   "cell_type": "code",
   "execution_count": 253,
   "metadata": {},
   "outputs": [
    {
     "output_type": "execute_result",
     "data": {
      "text/plain": [
       "     Unnamed: 0                                           company job_title  \\\n",
       "0             0                   DELIVERY HERO APAC PTE. LIMITED   analyst   \n",
       "1             1                     HELIUS TECHNOLOGIES PTE. LTD.   analyst   \n",
       "2             2                 COMFORTDELGRO CORPORATION LIMITED   analyst   \n",
       "3             3                   DARAZ SINGAPORE PRIVATE LIMITED   analyst   \n",
       "4             4                BIPO SERVICE (SINGAPORE) PTE. LTD.   analyst   \n",
       "..          ...                                               ...       ...   \n",
       "304         304                 COMFORTDELGRO CORPORATION LIMITED   analyst   \n",
       "305         305  THE GREAT EASTERN LIFE ASSURANCE COMPANY LIMITED   analyst   \n",
       "306         306                                  TIKTOK PTE. LTD.   analyst   \n",
       "307         307             OPTIMUM SOLUTIONS (SINGAPORE) PTE LTD   analyst   \n",
       "308         308                               ACCREDIFY PTE. LTD.   analyst   \n",
       "\n",
       "           listing_id                                            address  \\\n",
       "0    MCF-2021-0240128      CROSS STREET EXCHANGE, 18 CROSS STREET 048423   \n",
       "1    MCF-2021-0238815                                         Islandwide   \n",
       "2    MCF-2021-0190739                           205 BRADDELL ROAD 579701   \n",
       "3    MCF-2021-0240086                    AXA TOWER, 8 SHENTON WAY 068811   \n",
       "4    MCF-2021-0240396                                         Islandwide   \n",
       "..                ...                                                ...   \n",
       "304  MCF-2021-0190739                           205 BRADDELL ROAD 579701   \n",
       "305  MCF-2021-0190284    GREAT EASTERN CENTRE, 1 PICKERING STREET 048659   \n",
       "306  MCF-2021-0191253                              1 RAFFLES QUAY 048583   \n",
       "307  MCF-2021-0190044  PLAZA 8 @ CBP, 1 CHANGI BUSINESS PARK CRESCENT...   \n",
       "308  MCF-2021-0190578                      75 AYER RAJAH CRESCENT 139953   \n",
       "\n",
       "    employment_type          seniority min_exp                 job_cat  \\\n",
       "0         full time   Junior Executive       2  information technology   \n",
       "1         full time   Senior Executive       6  information technology   \n",
       "2         full time   Senior Executive       2                  others   \n",
       "3         full time   Senior Executive       3  information technology   \n",
       "4         full time            Manager       5     banking and finance   \n",
       "..              ...                ...     ...                     ...   \n",
       "304       full time   Senior Executive       2                  others   \n",
       "305       full time   Senior Executive       1               insurance   \n",
       "306       full time       Professional       3                  others   \n",
       "307       full time          Executive       5  information technology   \n",
       "308       full time  Fresh/entry level       0  information technology   \n",
       "\n",
       "        salary_range salary_unit         date_posted             date_expiry  \\\n",
       "0     $5,000to$8,500     Monthly  Posted 27 May 2021  Closing on 26 Jun 2021   \n",
       "1     $6,800to$9,000     Monthly  Posted 27 May 2021  Closing on 26 Jun 2021   \n",
       "2     $4,500to$7,000     Monthly  Posted 28 Apr 2021  Closing on 28 May 2021   \n",
       "3     $6,000to$9,000     Monthly  Posted 27 May 2021  Closing on 26 Jun 2021   \n",
       "4    $9,000to$15,000     Monthly  Posted 27 May 2021  Closing on 26 Jun 2021   \n",
       "..               ...         ...                 ...                     ...   \n",
       "304   $4,500to$7,000     Monthly  Posted 28 Apr 2021  Closing on 28 May 2021   \n",
       "305   $3,800to$7,000     Monthly  Posted 28 Apr 2021  Closing on 28 May 2021   \n",
       "306  $7,500to$15,000     Monthly  Posted 28 Apr 2021  Closing on 28 May 2021   \n",
       "307   $6,800to$7,800     Monthly  Posted 28 Apr 2021  Closing on 28 May 2021   \n",
       "308   $3,000to$4,000     Monthly  Posted 28 Apr 2021  Closing on 28 May 2021   \n",
       "\n",
       "                                       job_description  avg_salary  \n",
       "0    Roles & Responsibilities\\nWe are looking for a...      6750.0  \n",
       "1    Roles & Responsibilities\\nTitle: Senior Data A...      7900.0  \n",
       "2    Roles & Responsibilities\\nWho are We Looking F...      5750.0  \n",
       "3    Roles & Responsibilities\\nWe are looking for a...      7500.0  \n",
       "4    Roles & Responsibilities\\nJob Description:\\nLe...     12000.0  \n",
       "..                                                 ...         ...  \n",
       "304  Roles & Responsibilities\\nWho are We Looking F...      5750.0  \n",
       "305  Roles & Responsibilities\\nJob Purpose\\nThe Bus...      5400.0  \n",
       "306  Roles & Responsibilities\\nTikTok is the leadin...     11250.0  \n",
       "307  Roles & Responsibilities\\nRoles and Responsibi...      7300.0  \n",
       "308  Roles & Responsibilities\\nAccredify is a well-...      3500.0  \n",
       "\n",
       "[294 rows x 15 columns]"
      ],
      "text/html": "<div>\n<style scoped>\n    .dataframe tbody tr th:only-of-type {\n        vertical-align: middle;\n    }\n\n    .dataframe tbody tr th {\n        vertical-align: top;\n    }\n\n    .dataframe thead th {\n        text-align: right;\n    }\n</style>\n<table border=\"1\" class=\"dataframe\">\n  <thead>\n    <tr style=\"text-align: right;\">\n      <th></th>\n      <th>Unnamed: 0</th>\n      <th>company</th>\n      <th>job_title</th>\n      <th>listing_id</th>\n      <th>address</th>\n      <th>employment_type</th>\n      <th>seniority</th>\n      <th>min_exp</th>\n      <th>job_cat</th>\n      <th>salary_range</th>\n      <th>salary_unit</th>\n      <th>date_posted</th>\n      <th>date_expiry</th>\n      <th>job_description</th>\n      <th>avg_salary</th>\n    </tr>\n  </thead>\n  <tbody>\n    <tr>\n      <th>0</th>\n      <td>0</td>\n      <td>DELIVERY HERO APAC PTE. LIMITED</td>\n      <td>analyst</td>\n      <td>MCF-2021-0240128</td>\n      <td>CROSS STREET EXCHANGE, 18 CROSS STREET 048423</td>\n      <td>full time</td>\n      <td>Junior Executive</td>\n      <td>2</td>\n      <td>information technology</td>\n      <td>$5,000to$8,500</td>\n      <td>Monthly</td>\n      <td>Posted 27 May 2021</td>\n      <td>Closing on 26 Jun 2021</td>\n      <td>Roles &amp; Responsibilities\\nWe are looking for a...</td>\n      <td>6750.0</td>\n    </tr>\n    <tr>\n      <th>1</th>\n      <td>1</td>\n      <td>HELIUS TECHNOLOGIES PTE. LTD.</td>\n      <td>analyst</td>\n      <td>MCF-2021-0238815</td>\n      <td>Islandwide</td>\n      <td>full time</td>\n      <td>Senior Executive</td>\n      <td>6</td>\n      <td>information technology</td>\n      <td>$6,800to$9,000</td>\n      <td>Monthly</td>\n      <td>Posted 27 May 2021</td>\n      <td>Closing on 26 Jun 2021</td>\n      <td>Roles &amp; Responsibilities\\nTitle: Senior Data A...</td>\n      <td>7900.0</td>\n    </tr>\n    <tr>\n      <th>2</th>\n      <td>2</td>\n      <td>COMFORTDELGRO CORPORATION LIMITED</td>\n      <td>analyst</td>\n      <td>MCF-2021-0190739</td>\n      <td>205 BRADDELL ROAD 579701</td>\n      <td>full time</td>\n      <td>Senior Executive</td>\n      <td>2</td>\n      <td>others</td>\n      <td>$4,500to$7,000</td>\n      <td>Monthly</td>\n      <td>Posted 28 Apr 2021</td>\n      <td>Closing on 28 May 2021</td>\n      <td>Roles &amp; Responsibilities\\nWho are We Looking F...</td>\n      <td>5750.0</td>\n    </tr>\n    <tr>\n      <th>3</th>\n      <td>3</td>\n      <td>DARAZ SINGAPORE PRIVATE LIMITED</td>\n      <td>analyst</td>\n      <td>MCF-2021-0240086</td>\n      <td>AXA TOWER, 8 SHENTON WAY 068811</td>\n      <td>full time</td>\n      <td>Senior Executive</td>\n      <td>3</td>\n      <td>information technology</td>\n      <td>$6,000to$9,000</td>\n      <td>Monthly</td>\n      <td>Posted 27 May 2021</td>\n      <td>Closing on 26 Jun 2021</td>\n      <td>Roles &amp; Responsibilities\\nWe are looking for a...</td>\n      <td>7500.0</td>\n    </tr>\n    <tr>\n      <th>4</th>\n      <td>4</td>\n      <td>BIPO SERVICE (SINGAPORE) PTE. LTD.</td>\n      <td>analyst</td>\n      <td>MCF-2021-0240396</td>\n      <td>Islandwide</td>\n      <td>full time</td>\n      <td>Manager</td>\n      <td>5</td>\n      <td>banking and finance</td>\n      <td>$9,000to$15,000</td>\n      <td>Monthly</td>\n      <td>Posted 27 May 2021</td>\n      <td>Closing on 26 Jun 2021</td>\n      <td>Roles &amp; Responsibilities\\nJob Description:\\nLe...</td>\n      <td>12000.0</td>\n    </tr>\n    <tr>\n      <th>...</th>\n      <td>...</td>\n      <td>...</td>\n      <td>...</td>\n      <td>...</td>\n      <td>...</td>\n      <td>...</td>\n      <td>...</td>\n      <td>...</td>\n      <td>...</td>\n      <td>...</td>\n      <td>...</td>\n      <td>...</td>\n      <td>...</td>\n      <td>...</td>\n      <td>...</td>\n    </tr>\n    <tr>\n      <th>304</th>\n      <td>304</td>\n      <td>COMFORTDELGRO CORPORATION LIMITED</td>\n      <td>analyst</td>\n      <td>MCF-2021-0190739</td>\n      <td>205 BRADDELL ROAD 579701</td>\n      <td>full time</td>\n      <td>Senior Executive</td>\n      <td>2</td>\n      <td>others</td>\n      <td>$4,500to$7,000</td>\n      <td>Monthly</td>\n      <td>Posted 28 Apr 2021</td>\n      <td>Closing on 28 May 2021</td>\n      <td>Roles &amp; Responsibilities\\nWho are We Looking F...</td>\n      <td>5750.0</td>\n    </tr>\n    <tr>\n      <th>305</th>\n      <td>305</td>\n      <td>THE GREAT EASTERN LIFE ASSURANCE COMPANY LIMITED</td>\n      <td>analyst</td>\n      <td>MCF-2021-0190284</td>\n      <td>GREAT EASTERN CENTRE, 1 PICKERING STREET 048659</td>\n      <td>full time</td>\n      <td>Senior Executive</td>\n      <td>1</td>\n      <td>insurance</td>\n      <td>$3,800to$7,000</td>\n      <td>Monthly</td>\n      <td>Posted 28 Apr 2021</td>\n      <td>Closing on 28 May 2021</td>\n      <td>Roles &amp; Responsibilities\\nJob Purpose\\nThe Bus...</td>\n      <td>5400.0</td>\n    </tr>\n    <tr>\n      <th>306</th>\n      <td>306</td>\n      <td>TIKTOK PTE. LTD.</td>\n      <td>analyst</td>\n      <td>MCF-2021-0191253</td>\n      <td>1 RAFFLES QUAY 048583</td>\n      <td>full time</td>\n      <td>Professional</td>\n      <td>3</td>\n      <td>others</td>\n      <td>$7,500to$15,000</td>\n      <td>Monthly</td>\n      <td>Posted 28 Apr 2021</td>\n      <td>Closing on 28 May 2021</td>\n      <td>Roles &amp; Responsibilities\\nTikTok is the leadin...</td>\n      <td>11250.0</td>\n    </tr>\n    <tr>\n      <th>307</th>\n      <td>307</td>\n      <td>OPTIMUM SOLUTIONS (SINGAPORE) PTE LTD</td>\n      <td>analyst</td>\n      <td>MCF-2021-0190044</td>\n      <td>PLAZA 8 @ CBP, 1 CHANGI BUSINESS PARK CRESCENT...</td>\n      <td>full time</td>\n      <td>Executive</td>\n      <td>5</td>\n      <td>information technology</td>\n      <td>$6,800to$7,800</td>\n      <td>Monthly</td>\n      <td>Posted 28 Apr 2021</td>\n      <td>Closing on 28 May 2021</td>\n      <td>Roles &amp; Responsibilities\\nRoles and Responsibi...</td>\n      <td>7300.0</td>\n    </tr>\n    <tr>\n      <th>308</th>\n      <td>308</td>\n      <td>ACCREDIFY PTE. LTD.</td>\n      <td>analyst</td>\n      <td>MCF-2021-0190578</td>\n      <td>75 AYER RAJAH CRESCENT 139953</td>\n      <td>full time</td>\n      <td>Fresh/entry level</td>\n      <td>0</td>\n      <td>information technology</td>\n      <td>$3,000to$4,000</td>\n      <td>Monthly</td>\n      <td>Posted 28 Apr 2021</td>\n      <td>Closing on 28 May 2021</td>\n      <td>Roles &amp; Responsibilities\\nAccredify is a well-...</td>\n      <td>3500.0</td>\n    </tr>\n  </tbody>\n</table>\n<p>294 rows × 15 columns</p>\n</div>"
     },
     "metadata": {},
     "execution_count": 253
    }
   ],
   "source": [
    "df"
   ]
  },
  {
   "source": [
    " # Dropping unused columns"
   ],
   "cell_type": "markdown",
   "metadata": {}
  },
  {
   "cell_type": "code",
   "execution_count": 254,
   "metadata": {},
   "outputs": [
    {
     "output_type": "execute_result",
     "data": {
      "text/plain": [
       "     Unnamed: 0 job_title        listing_id employment_type  \\\n",
       "0             0   analyst  MCF-2021-0240128       full time   \n",
       "1             1   analyst  MCF-2021-0238815       full time   \n",
       "2             2   analyst  MCF-2021-0190739       full time   \n",
       "3             3   analyst  MCF-2021-0240086       full time   \n",
       "4             4   analyst  MCF-2021-0240396       full time   \n",
       "..          ...       ...               ...             ...   \n",
       "304         304   analyst  MCF-2021-0190739       full time   \n",
       "305         305   analyst  MCF-2021-0190284       full time   \n",
       "306         306   analyst  MCF-2021-0191253       full time   \n",
       "307         307   analyst  MCF-2021-0190044       full time   \n",
       "308         308   analyst  MCF-2021-0190578       full time   \n",
       "\n",
       "             seniority min_exp                 job_cat  \\\n",
       "0     Junior Executive       2  information technology   \n",
       "1     Senior Executive       6  information technology   \n",
       "2     Senior Executive       2                  others   \n",
       "3     Senior Executive       3  information technology   \n",
       "4              Manager       5     banking and finance   \n",
       "..                 ...     ...                     ...   \n",
       "304   Senior Executive       2                  others   \n",
       "305   Senior Executive       1               insurance   \n",
       "306       Professional       3                  others   \n",
       "307          Executive       5  information technology   \n",
       "308  Fresh/entry level       0  information technology   \n",
       "\n",
       "                                       job_description  avg_salary  \n",
       "0    Roles & Responsibilities\\nWe are looking for a...      6750.0  \n",
       "1    Roles & Responsibilities\\nTitle: Senior Data A...      7900.0  \n",
       "2    Roles & Responsibilities\\nWho are We Looking F...      5750.0  \n",
       "3    Roles & Responsibilities\\nWe are looking for a...      7500.0  \n",
       "4    Roles & Responsibilities\\nJob Description:\\nLe...     12000.0  \n",
       "..                                                 ...         ...  \n",
       "304  Roles & Responsibilities\\nWho are We Looking F...      5750.0  \n",
       "305  Roles & Responsibilities\\nJob Purpose\\nThe Bus...      5400.0  \n",
       "306  Roles & Responsibilities\\nTikTok is the leadin...     11250.0  \n",
       "307  Roles & Responsibilities\\nRoles and Responsibi...      7300.0  \n",
       "308  Roles & Responsibilities\\nAccredify is a well-...      3500.0  \n",
       "\n",
       "[294 rows x 9 columns]"
      ],
      "text/html": "<div>\n<style scoped>\n    .dataframe tbody tr th:only-of-type {\n        vertical-align: middle;\n    }\n\n    .dataframe tbody tr th {\n        vertical-align: top;\n    }\n\n    .dataframe thead th {\n        text-align: right;\n    }\n</style>\n<table border=\"1\" class=\"dataframe\">\n  <thead>\n    <tr style=\"text-align: right;\">\n      <th></th>\n      <th>Unnamed: 0</th>\n      <th>job_title</th>\n      <th>listing_id</th>\n      <th>employment_type</th>\n      <th>seniority</th>\n      <th>min_exp</th>\n      <th>job_cat</th>\n      <th>job_description</th>\n      <th>avg_salary</th>\n    </tr>\n  </thead>\n  <tbody>\n    <tr>\n      <th>0</th>\n      <td>0</td>\n      <td>analyst</td>\n      <td>MCF-2021-0240128</td>\n      <td>full time</td>\n      <td>Junior Executive</td>\n      <td>2</td>\n      <td>information technology</td>\n      <td>Roles &amp; Responsibilities\\nWe are looking for a...</td>\n      <td>6750.0</td>\n    </tr>\n    <tr>\n      <th>1</th>\n      <td>1</td>\n      <td>analyst</td>\n      <td>MCF-2021-0238815</td>\n      <td>full time</td>\n      <td>Senior Executive</td>\n      <td>6</td>\n      <td>information technology</td>\n      <td>Roles &amp; Responsibilities\\nTitle: Senior Data A...</td>\n      <td>7900.0</td>\n    </tr>\n    <tr>\n      <th>2</th>\n      <td>2</td>\n      <td>analyst</td>\n      <td>MCF-2021-0190739</td>\n      <td>full time</td>\n      <td>Senior Executive</td>\n      <td>2</td>\n      <td>others</td>\n      <td>Roles &amp; Responsibilities\\nWho are We Looking F...</td>\n      <td>5750.0</td>\n    </tr>\n    <tr>\n      <th>3</th>\n      <td>3</td>\n      <td>analyst</td>\n      <td>MCF-2021-0240086</td>\n      <td>full time</td>\n      <td>Senior Executive</td>\n      <td>3</td>\n      <td>information technology</td>\n      <td>Roles &amp; Responsibilities\\nWe are looking for a...</td>\n      <td>7500.0</td>\n    </tr>\n    <tr>\n      <th>4</th>\n      <td>4</td>\n      <td>analyst</td>\n      <td>MCF-2021-0240396</td>\n      <td>full time</td>\n      <td>Manager</td>\n      <td>5</td>\n      <td>banking and finance</td>\n      <td>Roles &amp; Responsibilities\\nJob Description:\\nLe...</td>\n      <td>12000.0</td>\n    </tr>\n    <tr>\n      <th>...</th>\n      <td>...</td>\n      <td>...</td>\n      <td>...</td>\n      <td>...</td>\n      <td>...</td>\n      <td>...</td>\n      <td>...</td>\n      <td>...</td>\n      <td>...</td>\n    </tr>\n    <tr>\n      <th>304</th>\n      <td>304</td>\n      <td>analyst</td>\n      <td>MCF-2021-0190739</td>\n      <td>full time</td>\n      <td>Senior Executive</td>\n      <td>2</td>\n      <td>others</td>\n      <td>Roles &amp; Responsibilities\\nWho are We Looking F...</td>\n      <td>5750.0</td>\n    </tr>\n    <tr>\n      <th>305</th>\n      <td>305</td>\n      <td>analyst</td>\n      <td>MCF-2021-0190284</td>\n      <td>full time</td>\n      <td>Senior Executive</td>\n      <td>1</td>\n      <td>insurance</td>\n      <td>Roles &amp; Responsibilities\\nJob Purpose\\nThe Bus...</td>\n      <td>5400.0</td>\n    </tr>\n    <tr>\n      <th>306</th>\n      <td>306</td>\n      <td>analyst</td>\n      <td>MCF-2021-0191253</td>\n      <td>full time</td>\n      <td>Professional</td>\n      <td>3</td>\n      <td>others</td>\n      <td>Roles &amp; Responsibilities\\nTikTok is the leadin...</td>\n      <td>11250.0</td>\n    </tr>\n    <tr>\n      <th>307</th>\n      <td>307</td>\n      <td>analyst</td>\n      <td>MCF-2021-0190044</td>\n      <td>full time</td>\n      <td>Executive</td>\n      <td>5</td>\n      <td>information technology</td>\n      <td>Roles &amp; Responsibilities\\nRoles and Responsibi...</td>\n      <td>7300.0</td>\n    </tr>\n    <tr>\n      <th>308</th>\n      <td>308</td>\n      <td>analyst</td>\n      <td>MCF-2021-0190578</td>\n      <td>full time</td>\n      <td>Fresh/entry level</td>\n      <td>0</td>\n      <td>information technology</td>\n      <td>Roles &amp; Responsibilities\\nAccredify is a well-...</td>\n      <td>3500.0</td>\n    </tr>\n  </tbody>\n</table>\n<p>294 rows × 9 columns</p>\n</div>"
     },
     "metadata": {},
     "execution_count": 254
    }
   ],
   "source": [
    "df.drop(columns=['company','address','salary_range','salary_unit','date_posted','date_expiry'])"
   ]
  },
  {
   "cell_type": "code",
   "execution_count": 255,
   "metadata": {},
   "outputs": [],
   "source": [
    "df.to_csv('jobs_cleaned.csv')"
   ]
  }
 ]
}