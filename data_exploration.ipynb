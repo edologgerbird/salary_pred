{
 "metadata": {
  "language_info": {
   "codemirror_mode": {
    "name": "ipython",
    "version": 3
   },
   "file_extension": ".py",
   "mimetype": "text/x-python",
   "name": "python",
   "nbconvert_exporter": "python",
   "pygments_lexer": "ipython3",
   "version": "3.9.5"
  },
  "orig_nbformat": 2,
  "kernelspec": {
   "name": "python395jvsc74a57bd09c6bdcf356e3596871587ac993f00432123db66f2a0825ddef4b2f0e6b7efa9f",
   "display_name": "Python 3.9.5 64-bit"
  },
  "metadata": {
   "interpreter": {
    "hash": "9c6bdcf356e3596871587ac993f00432123db66f2a0825ddef4b2f0e6b7efa9f"
   }
  }
 },
 "nbformat": 4,
 "nbformat_minor": 2,
 "cells": [
  {
   "source": [
    "# Data Exploration\n",
    "\n",
    "1. Identify keywords in description. (AWS, Python, SQL, R, Tableau, Excel, Powerbi, Spark, Hadoop, Tensorflow)\n"
   ],
   "cell_type": "markdown",
   "metadata": {}
  },
  {
   "cell_type": "code",
   "execution_count": 3,
   "metadata": {},
   "outputs": [],
   "source": [
    "import pandas as pd \n",
    "import matplotlib.pyplot as plt \n",
    "import seaborn as sns"
   ]
  },
  {
   "cell_type": "code",
   "execution_count": 5,
   "metadata": {},
   "outputs": [],
   "source": [
    "df = pd.read_csv('jobs_cleaned.csv')"
   ]
  },
  {
   "cell_type": "code",
   "execution_count": 6,
   "metadata": {},
   "outputs": [
    {
     "output_type": "execute_result",
     "data": {
      "text/plain": [
       "   Unnamed: 0  Unnamed: 0.1                             company job_title  \\\n",
       "0           0             0     DELIVERY HERO APAC PTE. LIMITED   analyst   \n",
       "1           1             1       HELIUS TECHNOLOGIES PTE. LTD.   analyst   \n",
       "2           2             2   COMFORTDELGRO CORPORATION LIMITED   analyst   \n",
       "3           3             3     DARAZ SINGAPORE PRIVATE LIMITED   analyst   \n",
       "4           4             4  BIPO SERVICE (SINGAPORE) PTE. LTD.   analyst   \n",
       "\n",
       "         listing_id                                        address  \\\n",
       "0  MCF-2021-0240128  CROSS STREET EXCHANGE, 18 CROSS STREET 048423   \n",
       "1  MCF-2021-0238815                                     Islandwide   \n",
       "2  MCF-2021-0190739                       205 BRADDELL ROAD 579701   \n",
       "3  MCF-2021-0240086                AXA TOWER, 8 SHENTON WAY 068811   \n",
       "4  MCF-2021-0240396                                     Islandwide   \n",
       "\n",
       "  employment_type         seniority  min_exp                 job_cat  \\\n",
       "0       full time  Junior Executive        2  information technology   \n",
       "1       full time  Senior Executive        6  information technology   \n",
       "2       full time  Senior Executive        2                  others   \n",
       "3       full time  Senior Executive        3  information technology   \n",
       "4       full time           Manager        5     banking and finance   \n",
       "\n",
       "      salary_range salary_unit         date_posted             date_expiry  \\\n",
       "0   $5,000to$8,500     Monthly  Posted 27 May 2021  Closing on 26 Jun 2021   \n",
       "1   $6,800to$9,000     Monthly  Posted 27 May 2021  Closing on 26 Jun 2021   \n",
       "2   $4,500to$7,000     Monthly  Posted 28 Apr 2021  Closing on 28 May 2021   \n",
       "3   $6,000to$9,000     Monthly  Posted 27 May 2021  Closing on 26 Jun 2021   \n",
       "4  $9,000to$15,000     Monthly  Posted 27 May 2021  Closing on 26 Jun 2021   \n",
       "\n",
       "                                     job_description  avg_salary  \n",
       "0  Roles & Responsibilities\\nWe are looking for a...      6750.0  \n",
       "1  Roles & Responsibilities\\nTitle: Senior Data A...      7900.0  \n",
       "2  Roles & Responsibilities\\nWho are We Looking F...      5750.0  \n",
       "3  Roles & Responsibilities\\nWe are looking for a...      7500.0  \n",
       "4  Roles & Responsibilities\\nJob Description:\\nLe...     12000.0  "
      ],
      "text/html": "<div>\n<style scoped>\n    .dataframe tbody tr th:only-of-type {\n        vertical-align: middle;\n    }\n\n    .dataframe tbody tr th {\n        vertical-align: top;\n    }\n\n    .dataframe thead th {\n        text-align: right;\n    }\n</style>\n<table border=\"1\" class=\"dataframe\">\n  <thead>\n    <tr style=\"text-align: right;\">\n      <th></th>\n      <th>Unnamed: 0</th>\n      <th>Unnamed: 0.1</th>\n      <th>company</th>\n      <th>job_title</th>\n      <th>listing_id</th>\n      <th>address</th>\n      <th>employment_type</th>\n      <th>seniority</th>\n      <th>min_exp</th>\n      <th>job_cat</th>\n      <th>salary_range</th>\n      <th>salary_unit</th>\n      <th>date_posted</th>\n      <th>date_expiry</th>\n      <th>job_description</th>\n      <th>avg_salary</th>\n    </tr>\n  </thead>\n  <tbody>\n    <tr>\n      <th>0</th>\n      <td>0</td>\n      <td>0</td>\n      <td>DELIVERY HERO APAC PTE. LIMITED</td>\n      <td>analyst</td>\n      <td>MCF-2021-0240128</td>\n      <td>CROSS STREET EXCHANGE, 18 CROSS STREET 048423</td>\n      <td>full time</td>\n      <td>Junior Executive</td>\n      <td>2</td>\n      <td>information technology</td>\n      <td>$5,000to$8,500</td>\n      <td>Monthly</td>\n      <td>Posted 27 May 2021</td>\n      <td>Closing on 26 Jun 2021</td>\n      <td>Roles &amp; Responsibilities\\nWe are looking for a...</td>\n      <td>6750.0</td>\n    </tr>\n    <tr>\n      <th>1</th>\n      <td>1</td>\n      <td>1</td>\n      <td>HELIUS TECHNOLOGIES PTE. LTD.</td>\n      <td>analyst</td>\n      <td>MCF-2021-0238815</td>\n      <td>Islandwide</td>\n      <td>full time</td>\n      <td>Senior Executive</td>\n      <td>6</td>\n      <td>information technology</td>\n      <td>$6,800to$9,000</td>\n      <td>Monthly</td>\n      <td>Posted 27 May 2021</td>\n      <td>Closing on 26 Jun 2021</td>\n      <td>Roles &amp; Responsibilities\\nTitle: Senior Data A...</td>\n      <td>7900.0</td>\n    </tr>\n    <tr>\n      <th>2</th>\n      <td>2</td>\n      <td>2</td>\n      <td>COMFORTDELGRO CORPORATION LIMITED</td>\n      <td>analyst</td>\n      <td>MCF-2021-0190739</td>\n      <td>205 BRADDELL ROAD 579701</td>\n      <td>full time</td>\n      <td>Senior Executive</td>\n      <td>2</td>\n      <td>others</td>\n      <td>$4,500to$7,000</td>\n      <td>Monthly</td>\n      <td>Posted 28 Apr 2021</td>\n      <td>Closing on 28 May 2021</td>\n      <td>Roles &amp; Responsibilities\\nWho are We Looking F...</td>\n      <td>5750.0</td>\n    </tr>\n    <tr>\n      <th>3</th>\n      <td>3</td>\n      <td>3</td>\n      <td>DARAZ SINGAPORE PRIVATE LIMITED</td>\n      <td>analyst</td>\n      <td>MCF-2021-0240086</td>\n      <td>AXA TOWER, 8 SHENTON WAY 068811</td>\n      <td>full time</td>\n      <td>Senior Executive</td>\n      <td>3</td>\n      <td>information technology</td>\n      <td>$6,000to$9,000</td>\n      <td>Monthly</td>\n      <td>Posted 27 May 2021</td>\n      <td>Closing on 26 Jun 2021</td>\n      <td>Roles &amp; Responsibilities\\nWe are looking for a...</td>\n      <td>7500.0</td>\n    </tr>\n    <tr>\n      <th>4</th>\n      <td>4</td>\n      <td>4</td>\n      <td>BIPO SERVICE (SINGAPORE) PTE. LTD.</td>\n      <td>analyst</td>\n      <td>MCF-2021-0240396</td>\n      <td>Islandwide</td>\n      <td>full time</td>\n      <td>Manager</td>\n      <td>5</td>\n      <td>banking and finance</td>\n      <td>$9,000to$15,000</td>\n      <td>Monthly</td>\n      <td>Posted 27 May 2021</td>\n      <td>Closing on 26 Jun 2021</td>\n      <td>Roles &amp; Responsibilities\\nJob Description:\\nLe...</td>\n      <td>12000.0</td>\n    </tr>\n  </tbody>\n</table>\n</div>"
     },
     "metadata": {},
     "execution_count": 6
    }
   ],
   "source": [
    "df.head()"
   ]
  },
  {
   "source": [
    "## Creating dummy variables for each keyword (AWS, Python, SQL, R, Tableau, Excel, Powerbi, Spark, Hadoop, Tensorflow)"
   ],
   "cell_type": "markdown",
   "metadata": {}
  },
  {
   "cell_type": "code",
   "execution_count": 9,
   "metadata": {},
   "outputs": [
    {
     "output_type": "execute_result",
     "data": {
      "text/plain": [
       "0    261\n",
       "1     33\n",
       "Name: aws, dtype: int64"
      ]
     },
     "metadata": {},
     "execution_count": 9
    }
   ],
   "source": [
    "#AWS\n",
    "df['aws'] = df['job_description'].apply(lambda x: 1 if 'aws' in x.lower() else 0)\n",
    "df.aws.value_counts()"
   ]
  },
  {
   "cell_type": "code",
   "execution_count": 10,
   "metadata": {},
   "outputs": [
    {
     "output_type": "execute_result",
     "data": {
      "text/plain": [
       "0    151\n",
       "1    143\n",
       "Name: python, dtype: int64"
      ]
     },
     "metadata": {},
     "execution_count": 10
    }
   ],
   "source": [
    "#python\n",
    "df['python'] = df['job_description'].apply(lambda x: 1 if 'python' in x.lower() else 0)\n",
    "df.python.value_counts()"
   ]
  },
  {
   "cell_type": "code",
   "execution_count": 11,
   "metadata": {},
   "outputs": [
    {
     "output_type": "execute_result",
     "data": {
      "text/plain": [
       "1    175\n",
       "0    119\n",
       "Name: sql, dtype: int64"
      ]
     },
     "metadata": {},
     "execution_count": 11
    }
   ],
   "source": [
    "#SQL\n",
    "df['sql'] = df['job_description'].apply(lambda x: 1 if 'sql' in x.lower() else 0)\n",
    "df.sql.value_counts()"
   ]
  },
  {
   "cell_type": "code",
   "execution_count": 12,
   "metadata": {},
   "outputs": [
    {
     "output_type": "execute_result",
     "data": {
      "text/plain": [
       "0    215\n",
       "1     79\n",
       "Name: r, dtype: int64"
      ]
     },
     "metadata": {},
     "execution_count": 12
    }
   ],
   "source": [
    "#R\n",
    "df['r'] = df['job_description'].apply(lambda x: 1 if (' r ' in x.lower() or ' r,' in x.lower() or ' r/' in x.lower()) else 0)\n",
    "df.r.value_counts()"
   ]
  },
  {
   "cell_type": "code",
   "execution_count": 14,
   "metadata": {},
   "outputs": [
    {
     "output_type": "execute_result",
     "data": {
      "text/plain": [
       "0    175\n",
       "1    119\n",
       "Name: tableau, dtype: int64"
      ]
     },
     "metadata": {},
     "execution_count": 14
    }
   ],
   "source": [
    "#Tablaeu\n",
    "df['tableau'] = df['job_description'].apply(lambda x: 1 if 'tableau' in x.lower() else 0)\n",
    "df.tableau.value_counts()"
   ]
  },
  {
   "cell_type": "code",
   "execution_count": 15,
   "metadata": {},
   "outputs": [
    {
     "output_type": "execute_result",
     "data": {
      "text/plain": [
       "0    163\n",
       "1    131\n",
       "Name: excel, dtype: int64"
      ]
     },
     "metadata": {},
     "execution_count": 15
    }
   ],
   "source": [
    "#Excel\n",
    "df['excel'] = df['job_description'].apply(lambda x: 1 if 'excel' in x.lower() else 0)\n",
    "df.excel.value_counts()"
   ]
  },
  {
   "cell_type": "code",
   "execution_count": 16,
   "metadata": {},
   "outputs": [
    {
     "output_type": "execute_result",
     "data": {
      "text/plain": [
       "0    254\n",
       "1     40\n",
       "Name: powerbi, dtype: int64"
      ]
     },
     "metadata": {},
     "execution_count": 16
    }
   ],
   "source": [
    "#powerbi\n",
    "df['powerbi'] = df['job_description'].apply(lambda x: 1 if 'powerbi' in x.lower() else 0)\n",
    "df.powerbi.value_counts()"
   ]
  },
  {
   "cell_type": "code",
   "execution_count": 17,
   "metadata": {},
   "outputs": [
    {
     "output_type": "execute_result",
     "data": {
      "text/plain": [
       "0    266\n",
       "1     28\n",
       "Name: spark, dtype: int64"
      ]
     },
     "metadata": {},
     "execution_count": 17
    }
   ],
   "source": [
    "#Spark\n",
    "df['spark'] = df['job_description'].apply(lambda x: 1 if 'spark' in x.lower() else 0)\n",
    "df.spark.value_counts()"
   ]
  },
  {
   "cell_type": "code",
   "execution_count": 18,
   "metadata": {},
   "outputs": [
    {
     "output_type": "execute_result",
     "data": {
      "text/plain": [
       "0    274\n",
       "1     20\n",
       "Name: hadoop, dtype: int64"
      ]
     },
     "metadata": {},
     "execution_count": 18
    }
   ],
   "source": [
    "#Hadoop\n",
    "df['hadoop'] = df['job_description'].apply(lambda x: 1 if 'hadoop' in x.lower() else 0)\n",
    "df.hadoop.value_counts()"
   ]
  },
  {
   "cell_type": "code",
   "execution_count": 21,
   "metadata": {},
   "outputs": [
    {
     "output_type": "execute_result",
     "data": {
      "text/plain": [
       "0    288\n",
       "1      6\n",
       "Name: tensorflow, dtype: int64"
      ]
     },
     "metadata": {},
     "execution_count": 21
    }
   ],
   "source": [
    "#Tensorflow\n",
    "df['tensorflow'] = df['job_description'].apply(lambda x: 1 if 'tensorflow' in x.lower() else 0)\n",
    "df.tensorflow.value_counts()"
   ]
  },
  {
   "cell_type": "code",
   "execution_count": null,
   "metadata": {},
   "outputs": [],
   "source": []
  }
 ]
}